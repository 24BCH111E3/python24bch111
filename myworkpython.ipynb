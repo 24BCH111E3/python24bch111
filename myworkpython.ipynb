{
  "nbformat": 4,
  "nbformat_minor": 0,
  "metadata": {
    "colab": {
      "provenance": [],
      "authorship_tag": "ABX9TyPMCwXNC1FddULebi9U3D94",
      "include_colab_link": true
    },
    "kernelspec": {
      "name": "python3",
      "display_name": "Python 3"
    },
    "language_info": {
      "name": "python"
    }
  },
  "cells": [
    {
      "cell_type": "markdown",
      "metadata": {
        "id": "view-in-github",
        "colab_type": "text"
      },
      "source": [
        "<a href=\"https://colab.research.google.com/github/24BCH111E3/python24bch111/blob/main/myworkpython.ipynb\" target=\"_parent\"><img src=\"https://colab.research.google.com/assets/colab-badge.svg\" alt=\"Open In Colab\"/></a>"
      ]
    },
    {
      "cell_type": "markdown",
      "source": [
        "1.) Add two numbers."
      ],
      "metadata": {
        "id": "Y9jfowFVf9Vu"
      }
    },
    {
      "cell_type": "code",
      "source": [
        "a=4\n",
        "b=99\n",
        "c=a+b\n",
        "print(c)\n"
      ],
      "metadata": {
        "colab": {
          "base_uri": "https://localhost:8080/"
        },
        "id": "pqRNI7RTf-u8",
        "outputId": "6525c88f-6435-4de6-a5e6-f18a8e1184e8"
      },
      "execution_count": null,
      "outputs": [
        {
          "output_type": "stream",
          "name": "stdout",
          "text": [
            "103\n"
          ]
        }
      ]
    },
    {
      "cell_type": "markdown",
      "source": [
        "2.)subtract two numbers."
      ],
      "metadata": {
        "id": "drJLJTywgO2e"
      }
    },
    {
      "cell_type": "code",
      "source": [
        "a=99\n",
        "b=48\n",
        "c=a-b\n",
        "print(c)"
      ],
      "metadata": {
        "colab": {
          "base_uri": "https://localhost:8080/"
        },
        "id": "J9hpFoOCgVLn",
        "outputId": "f7761c65-c54c-4490-d69d-3c433175dd8a"
      },
      "execution_count": null,
      "outputs": [
        {
          "output_type": "stream",
          "name": "stdout",
          "text": [
            "51\n"
          ]
        }
      ]
    },
    {
      "cell_type": "markdown",
      "source": [
        "3.)multiply two numbers."
      ],
      "metadata": {
        "id": "QJMcMWuRgexW"
      }
    },
    {
      "cell_type": "code",
      "source": [
        "a=99\n",
        "b=38\n",
        "c=a*b\n",
        "print(c)\n"
      ],
      "metadata": {
        "colab": {
          "base_uri": "https://localhost:8080/"
        },
        "id": "Jf9qrQ6nglUb",
        "outputId": "d94070f7-254e-4b96-d1c4-d41c89ba938a"
      },
      "execution_count": null,
      "outputs": [
        {
          "output_type": "stream",
          "name": "stdout",
          "text": [
            "3762\n"
          ]
        }
      ]
    },
    {
      "cell_type": "markdown",
      "source": [
        "4.)divide two numbers."
      ],
      "metadata": {
        "id": "AVctduKrgtG_"
      }
    },
    {
      "cell_type": "code",
      "source": [
        "a=40\n",
        "b=35\n",
        "c=a/b\n",
        "print(c)"
      ],
      "metadata": {
        "colab": {
          "base_uri": "https://localhost:8080/"
        },
        "id": "u7s64TZZgw8s",
        "outputId": "0332a23a-02d6-4054-8be1-9cffe090424e"
      },
      "execution_count": null,
      "outputs": [
        {
          "output_type": "stream",
          "name": "stdout",
          "text": [
            "1.1428571428571428\n"
          ]
        }
      ]
    },
    {
      "cell_type": "markdown",
      "source": [
        "5.)add,multiply,subtract and divide two numbers."
      ],
      "metadata": {
        "id": "9UAo5KPFg3T2"
      }
    },
    {
      "cell_type": "code",
      "source": [
        "a=96\n",
        "b=69\n",
        "c=a+b\n",
        "d=a-b\n",
        "e=a*b\n",
        "f=a/b\n",
        "print(c,d,e,f)"
      ],
      "metadata": {
        "colab": {
          "base_uri": "https://localhost:8080/"
        },
        "id": "HADgGEyNhA7T",
        "outputId": "24d56e39-269b-463b-9170-43ec87c4b644"
      },
      "execution_count": null,
      "outputs": [
        {
          "output_type": "stream",
          "name": "stdout",
          "text": [
            "165 27 6624 1.391304347826087\n"
          ]
        }
      ]
    },
    {
      "cell_type": "markdown",
      "source": [
        "6.)Convert hours into minutes."
      ],
      "metadata": {
        "id": "gljhBAnMhRe4"
      }
    },
    {
      "cell_type": "code",
      "source": [
        "hours=40\n",
        "minutes=hours*60\n",
        "print(minutes)"
      ],
      "metadata": {
        "colab": {
          "base_uri": "https://localhost:8080/"
        },
        "id": "ZpVqf_NNhZ-r",
        "outputId": "a220440f-7eac-445d-8a67-22153376269e"
      },
      "execution_count": null,
      "outputs": [
        {
          "output_type": "stream",
          "name": "stdout",
          "text": [
            "2400\n"
          ]
        }
      ]
    },
    {
      "cell_type": "markdown",
      "source": [
        "7.)Convert minutes into hours."
      ],
      "metadata": {
        "id": "G0Z_xX5lhj9T"
      }
    },
    {
      "cell_type": "code",
      "source": [
        "minutes=4800\n",
        "hours=minutes/60\n",
        "print(hours)"
      ],
      "metadata": {
        "colab": {
          "base_uri": "https://localhost:8080/"
        },
        "id": "2kG_PepMhmib",
        "outputId": "321d9002-2228-4297-f65e-d82b23f797cf"
      },
      "execution_count": null,
      "outputs": [
        {
          "output_type": "stream",
          "name": "stdout",
          "text": [
            "80.0\n"
          ]
        }
      ]
    },
    {
      "cell_type": "markdown",
      "source": [
        "8.)Convert dollars into Rs. Where 1 $ = 48 Rs."
      ],
      "metadata": {
        "id": "Uf4ecsxjhvoC"
      }
    },
    {
      "cell_type": "code",
      "source": [
        "dollar=9999\n",
        "rs=dollar*48\n",
        "print(rs)"
      ],
      "metadata": {
        "colab": {
          "base_uri": "https://localhost:8080/"
        },
        "id": "MAdjjeEoh0jM",
        "outputId": "ff4c7df1-61ac-4b34-d649-ab44605d04d5"
      },
      "execution_count": null,
      "outputs": [
        {
          "output_type": "stream",
          "name": "stdout",
          "text": [
            "479952\n"
          ]
        }
      ]
    },
    {
      "cell_type": "markdown",
      "source": [
        "9.)Convert Rs. into dollars where 1 $ = 48 Rs."
      ],
      "metadata": {
        "id": "UV4kU7r4iA0M"
      }
    },
    {
      "cell_type": "code",
      "source": [
        "rs=9999999\n",
        "dollar=rs/48\n",
        "print(dollar)"
      ],
      "metadata": {
        "colab": {
          "base_uri": "https://localhost:8080/"
        },
        "id": "H_PB1J3EiD5z",
        "outputId": "7a084487-c89b-47fa-e23f-891fbab1405c"
      },
      "execution_count": null,
      "outputs": [
        {
          "output_type": "stream",
          "name": "stdout",
          "text": [
            "208333.3125\n"
          ]
        }
      ]
    },
    {
      "cell_type": "markdown",
      "source": [
        "10.) Convert dollars into pound where 1 $ = 48 Rs. And 1 pound = 70 Rs."
      ],
      "metadata": {
        "id": "7Tda8ExliJsh"
      }
    },
    {
      "cell_type": "code",
      "source": [
        "dollar=8888\n",
        "rs=dollar*48\n",
        "pound=rs/70\n",
        "print(pound)"
      ],
      "metadata": {
        "colab": {
          "base_uri": "https://localhost:8080/"
        },
        "id": "mJWGOcuMiNUK",
        "outputId": "21dd17d0-af8f-4796-e399-0984e3d30e38"
      },
      "execution_count": null,
      "outputs": [
        {
          "output_type": "stream",
          "name": "stdout",
          "text": [
            "6094.628571428571\n"
          ]
        }
      ]
    },
    {
      "cell_type": "markdown",
      "source": [
        "11.) Convert grams into kg."
      ],
      "metadata": {
        "id": "TwS-pmPniVe_"
      }
    },
    {
      "cell_type": "code",
      "source": [
        "grams=99000\n",
        "kg=grams/1000\n",
        "print(kg)"
      ],
      "metadata": {
        "colab": {
          "base_uri": "https://localhost:8080/"
        },
        "id": "4hcKv_VSiY7G",
        "outputId": "62c71664-f447-49a6-b035-f2d59c411da6"
      },
      "execution_count": null,
      "outputs": [
        {
          "output_type": "stream",
          "name": "stdout",
          "text": [
            "99.0\n"
          ]
        }
      ]
    },
    {
      "cell_type": "markdown",
      "source": [
        "12.) Convert kgs into grams."
      ],
      "metadata": {
        "id": "WruzRMEgifzv"
      }
    },
    {
      "cell_type": "code",
      "source": [
        "kgs=8899\n",
        "grams=kgs*1000\n",
        "print(grams)"
      ],
      "metadata": {
        "colab": {
          "base_uri": "https://localhost:8080/"
        },
        "id": "FXlX0y2gikXl",
        "outputId": "9fca05e2-08dd-4d99-9192-731bd2fc2c7e"
      },
      "execution_count": null,
      "outputs": [
        {
          "output_type": "stream",
          "name": "stdout",
          "text": [
            "8899000\n"
          ]
        }
      ]
    },
    {
      "cell_type": "markdown",
      "source": [
        "13.) Convert bytes into KB, MB and GB.\n"
      ],
      "metadata": {
        "id": "L8jZBtUBiuRy"
      }
    },
    {
      "cell_type": "code",
      "source": [
        "bytes=898989\n",
        "kb=bytes/1024\n",
        "mb=kb/1024\n",
        "gb=mb/1024\n",
        "print(kb,mb,gb)"
      ],
      "metadata": {
        "colab": {
          "base_uri": "https://localhost:8080/"
        },
        "id": "pQj--gDaiw8n",
        "outputId": "20145a16-9393-474d-c466-b7a1affda825"
      },
      "execution_count": null,
      "outputs": [
        {
          "output_type": "stream",
          "name": "stdout",
          "text": [
            "877.9189453125 0.8573427200317383 0.0008372487500309944\n"
          ]
        }
      ]
    },
    {
      "cell_type": "markdown",
      "source": [
        "14.) Convert celcius into Fahrenheit. F = (9/5 * C) + 32"
      ],
      "metadata": {
        "id": "MSsfzBSPi-Bk"
      }
    },
    {
      "cell_type": "code",
      "source": [
        "celcius=99\n",
        "fahrenheit=(9/5*celcius)+32\n",
        "print(fahrenheit)"
      ],
      "metadata": {
        "colab": {
          "base_uri": "https://localhost:8080/"
        },
        "id": "6doF4ga9jBQM",
        "outputId": "f8112966-99f9-4423-e732-8a66f5294253"
      },
      "execution_count": null,
      "outputs": [
        {
          "output_type": "stream",
          "name": "stdout",
          "text": [
            "210.20000000000002\n"
          ]
        }
      ]
    },
    {
      "cell_type": "markdown",
      "source": [
        "15.) Convert Fahrenheit into celcius. C = 5/9 * (F – 32)"
      ],
      "metadata": {
        "id": "6jAoulnWjI4X"
      }
    },
    {
      "cell_type": "code",
      "source": [
        "fahrenheit=999\n",
        "celcius=5/9*(fahrenheit-32)\n",
        "print(celcius)"
      ],
      "metadata": {
        "colab": {
          "base_uri": "https://localhost:8080/"
        },
        "id": "viRQbWrfjMA1",
        "outputId": "8f976447-165c-4aed-9138-3b865e5a84d2"
      },
      "execution_count": null,
      "outputs": [
        {
          "output_type": "stream",
          "name": "stdout",
          "text": [
            "537.2222222222223\n"
          ]
        }
      ]
    },
    {
      "cell_type": "markdown",
      "source": [
        "16.) Calculate interest where I = PRN/100."
      ],
      "metadata": {
        "id": "NTIHp1efjVvz"
      }
    },
    {
      "cell_type": "code",
      "source": [
        "p=100000\n",
        "r=1000\n",
        "n=1\n",
        "i=p*r*n/100\n",
        "print(i)"
      ],
      "metadata": {
        "colab": {
          "base_uri": "https://localhost:8080/"
        },
        "id": "fB4LGO-pjbA0",
        "outputId": "7beaa0a2-0f0d-4e25-ddbc-14c075e5623e"
      },
      "execution_count": null,
      "outputs": [
        {
          "output_type": "stream",
          "name": "stdout",
          "text": [
            "1000000.0\n"
          ]
        }
      ]
    },
    {
      "cell_type": "markdown",
      "source": [
        "17.) Calculate area & perimeter of a square. A = L^2, P = 4L"
      ],
      "metadata": {
        "id": "t0yr3obsjlG6"
      }
    },
    {
      "cell_type": "code",
      "source": [
        "l=96\n",
        "a=l**2\n",
        "p=4*l\n",
        "print(a,p)"
      ],
      "metadata": {
        "colab": {
          "base_uri": "https://localhost:8080/"
        },
        "id": "_5_p1E4Rjo6x",
        "outputId": "e50a03cd-a0eb-47f9-88ba-317ad5249909"
      },
      "execution_count": null,
      "outputs": [
        {
          "output_type": "stream",
          "name": "stdout",
          "text": [
            "9216 384\n"
          ]
        }
      ]
    },
    {
      "cell_type": "markdown",
      "source": [
        "18.) Calculate area & perimeter of a rectangle. A = L*B, P = 2 (L+B)"
      ],
      "metadata": {
        "id": "NcX9ftKgjwjU"
      }
    },
    {
      "cell_type": "code",
      "source": [
        "l=92\n",
        "b=89\n",
        "a=l*b\n",
        "p=2*(l+b)\n",
        "print(a,p)"
      ],
      "metadata": {
        "colab": {
          "base_uri": "https://localhost:8080/"
        },
        "id": "EXgI4hzFjzYp",
        "outputId": "d9b17abc-5837-4b7f-c049-a55ab1680c96"
      },
      "execution_count": null,
      "outputs": [
        {
          "output_type": "stream",
          "name": "stdout",
          "text": [
            "8188 362\n"
          ]
        }
      ]
    },
    {
      "cell_type": "markdown",
      "source": [
        "19.) Calculate area of a circle. A = 22/7 * R * R\n"
      ],
      "metadata": {
        "id": "y6bGc0aXj82j"
      }
    },
    {
      "cell_type": "code",
      "source": [
        "r=72\n",
        "a=22/7*r*r\n",
        "print(a)"
      ],
      "metadata": {
        "colab": {
          "base_uri": "https://localhost:8080/"
        },
        "id": "BN4RKZWuj_YB",
        "outputId": "91d4cbd6-de7a-4674-93f7-aa60034b3444"
      },
      "execution_count": null,
      "outputs": [
        {
          "output_type": "stream",
          "name": "stdout",
          "text": [
            "16292.571428571428\n"
          ]
        }
      ]
    },
    {
      "cell_type": "markdown",
      "source": [
        "20.) Calculate area of a triangle. A = H*L/2"
      ],
      "metadata": {
        "id": "TS5O7_k-kLpw"
      }
    },
    {
      "cell_type": "code",
      "source": [
        "h=85\n",
        "l=49\n",
        "a=h*l/2\n",
        "print(a)"
      ],
      "metadata": {
        "colab": {
          "base_uri": "https://localhost:8080/"
        },
        "id": "F2UN-FWjkOOu",
        "outputId": "bb9acac3-a7c9-463b-fd9d-05ceabf7d408"
      },
      "execution_count": null,
      "outputs": [
        {
          "output_type": "stream",
          "name": "stdout",
          "text": [
            "2082.5\n"
          ]
        }
      ]
    },
    {
      "cell_type": "markdown",
      "source": [
        "21.) Calculate net salary where net salary = gross salary + allowance – deduction. Allowances are\n",
        "10% while deductions are 3% of gross salary.\n"
      ],
      "metadata": {
        "id": "AGuczJX0k74B"
      }
    },
    {
      "cell_type": "code",
      "source": [
        "gs=999999\n",
        "a=gs*10/100\n",
        "d=gs*3/100\n",
        "ns=gs+a-d\n",
        "print(ns)"
      ],
      "metadata": {
        "colab": {
          "base_uri": "https://localhost:8080/"
        },
        "id": "CM11i0MClBPJ",
        "outputId": "a2a5dbf9-5e70-46ea-8764-f92fd524ba67"
      },
      "execution_count": null,
      "outputs": [
        {
          "output_type": "stream",
          "name": "stdout",
          "text": [
            "1069998.93\n"
          ]
        }
      ]
    },
    {
      "cell_type": "markdown",
      "source": [
        "22.) Calculate net sales where net sales = gross sales – 10% discount of gross sales.\n"
      ],
      "metadata": {
        "id": "0p5bnp-nmNj_"
      }
    },
    {
      "cell_type": "code",
      "source": [
        "gs=999999\n",
        "d=gs*10/100\n",
        "ns=gs-d\n",
        "print(ns)"
      ],
      "metadata": {
        "colab": {
          "base_uri": "https://localhost:8080/"
        },
        "id": "U4pnJhNLmSRK",
        "outputId": "91a7dd0f-5f19-4ffd-d615-818d75e3edb8"
      },
      "execution_count": null,
      "outputs": [
        {
          "output_type": "stream",
          "name": "stdout",
          "text": [
            "899999.1\n"
          ]
        }
      ]
    },
    {
      "cell_type": "markdown",
      "source": [
        "23.) Calculate average of three subjects along with their total.\n"
      ],
      "metadata": {
        "id": "X1swrXA9kWel"
      }
    },
    {
      "cell_type": "code",
      "source": [
        "maths=98\n",
        "chemistry=99\n",
        "physics=97\n",
        "total=maths+chemistry+physics\n",
        "average=total/3\n",
        "print(total,average)"
      ],
      "metadata": {
        "colab": {
          "base_uri": "https://localhost:8080/"
        },
        "id": "IiMgsovMkaI9",
        "outputId": "600e805f-62e8-4d42-b80b-0551e7ae4e9c"
      },
      "execution_count": null,
      "outputs": [
        {
          "output_type": "stream",
          "name": "stdout",
          "text": [
            "294 98.0\n"
          ]
        }
      ]
    },
    {
      "cell_type": "markdown",
      "source": [
        "24.) Swap two values.\n"
      ],
      "metadata": {
        "id": "PvI9eXuskgsK"
      }
    },
    {
      "cell_type": "code",
      "source": [
        "v1=9988\n",
        "v2=8899\n",
        "temp=v1\n",
        "v1=v2\n",
        "v2=temp\n",
        "print(v1,v2)"
      ],
      "metadata": {
        "colab": {
          "base_uri": "https://localhost:8080/"
        },
        "id": "lOSFrqU6knm8",
        "outputId": "6cb83dd9-e7e9-4ec9-a7e3-f55efd2c07d1"
      },
      "execution_count": null,
      "outputs": [
        {
          "output_type": "stream",
          "name": "stdout",
          "text": [
            "8899 9988\n"
          ]
        }
      ]
    },
    {
      "cell_type": "markdown",
      "source": [
        "*****If-else conditionals.*****"
      ],
      "metadata": {
        "id": "T41psuo_mhrX"
      }
    },
    {
      "cell_type": "markdown",
      "source": [
        "1.)Print largest and smallest values out of two.\n"
      ],
      "metadata": {
        "id": "oqmiE5zmJYB1"
      }
    },
    {
      "cell_type": "code",
      "source": [
        "num1= 32\n",
        "num2 = 54\n",
        "if (num1>num2):\n",
        " print(\"Num1 is largest values\")\n",
        "else:\n",
        " print(\"num1 is smallest\")\n",
        "if(num2>num1):\n",
        " print(\"num2 is largest values\")\n",
        "else:\n",
        " print(\"num2 is smallest\")"
      ],
      "metadata": {
        "colab": {
          "base_uri": "https://localhost:8080/"
        },
        "id": "-t2B-VJYJbg6",
        "outputId": "e4be5183-7103-48ac-bba5-6ccd1ae169f1"
      },
      "execution_count": null,
      "outputs": [
        {
          "output_type": "stream",
          "name": "stdout",
          "text": [
            "num1 is smallest\n",
            "num2 is largest values\n"
          ]
        }
      ]
    },
    {
      "cell_type": "markdown",
      "source": [
        "2.) Print largest and smallest values out of three."
      ],
      "metadata": {
        "id": "1lpuLfF3KEKq"
      }
    },
    {
      "cell_type": "code",
      "source": [
        "num1 = 99\n",
        "num2 = 999\n",
        "num3 = 9999\n",
        "if(num1>num2 and num1 >num3):\n",
        " print(\"num1 is largest values\")\n",
        "else:\n",
        " print(\"num1 is smallest\")\n",
        "if(num2>num3 and num2>num1):\n",
        " print(\"num2 is largest values\")\n",
        "else:\n",
        " print(\"num2 is smallest\")\n",
        "if(num3>num1 and num3>num2):\n",
        " print(\"num3 is largest\")\n",
        "else:\n",
        " print(\"num3 is smallest\")"
      ],
      "metadata": {
        "colab": {
          "base_uri": "https://localhost:8080/",
          "height": 0
        },
        "id": "q50l15cUKGcd",
        "outputId": "89a20fa0-3319-42c8-ee40-a6e156cce6d2"
      },
      "execution_count": 16,
      "outputs": [
        {
          "output_type": "stream",
          "name": "stdout",
          "text": [
            "num1 is smallest\n",
            "num2 is smallest\n",
            "num3 is largest\n"
          ]
        }
      ]
    },
    {
      "cell_type": "markdown",
      "source": [
        "3.) Check whether a given number is odd or even"
      ],
      "metadata": {
        "id": "kVQlVscpKNr3"
      }
    },
    {
      "cell_type": "code",
      "source": [
        "num = 399\n",
        "if(num%2==0):\n",
        " print(\"Even\")\n",
        "else:\n",
        " print(\"odd\")"
      ],
      "metadata": {
        "colab": {
          "base_uri": "https://localhost:8080/",
          "height": 0
        },
        "id": "vcRsi6KkKQNG",
        "outputId": "ab9df6c6-6f89-46fc-8c44-cfce513e8580"
      },
      "execution_count": 17,
      "outputs": [
        {
          "output_type": "stream",
          "name": "stdout",
          "text": [
            "odd\n"
          ]
        }
      ]
    },
    {
      "cell_type": "markdown",
      "source": [
        "4.) Check whether a given number is divisible by 10 or not."
      ],
      "metadata": {
        "id": "PHUguIRqLawX"
      }
    },
    {
      "cell_type": "code",
      "source": [
        "num = 459\n",
        "if(num%10==0):\n",
        " print(\"it is divisiable by 10\")\n",
        "else:\n",
        " print(\"not it is not divisiable by 10\")\n"
      ],
      "metadata": {
        "colab": {
          "base_uri": "https://localhost:8080/",
          "height": 0
        },
        "id": "1sIgtHrbLdUQ",
        "outputId": "d401e8ae-c3c2-4c06-ecd9-3476e145a18d"
      },
      "execution_count": 18,
      "outputs": [
        {
          "output_type": "stream",
          "name": "stdout",
          "text": [
            "not it is not divisiable by 10\n"
          ]
        }
      ]
    },
    {
      "cell_type": "markdown",
      "source": [
        "5.) Accept age of a person. If age is less than 18, print minor otherwise Major."
      ],
      "metadata": {
        "id": "HcKMp0hNL160"
      }
    },
    {
      "cell_type": "code",
      "source": [
        "age = int(input(\"Enter the age of person:\"))\n",
        "if(age<18):\n",
        " print(\"minor\")\n",
        "else:\n",
        " print(\"major\")"
      ],
      "metadata": {
        "colab": {
          "base_uri": "https://localhost:8080/",
          "height": 0
        },
        "id": "3Tx_6DDnL33O",
        "outputId": "7c5818f3-7faa-470d-d548-3861719390f5"
      },
      "execution_count": 19,
      "outputs": [
        {
          "output_type": "stream",
          "name": "stdout",
          "text": [
            "Enter the age of person:19\n",
            "major\n"
          ]
        }
      ]
    },
    {
      "cell_type": "markdown",
      "source": [
        "6.) Accept a number from the user. And print number of digits in it."
      ],
      "metadata": {
        "id": "TCOexYpAMERN"
      }
    },
    {
      "cell_type": "code",
      "source": [
        "number = input(\"Enter the numbers:\")\n",
        "print(len(number))\n"
      ],
      "metadata": {
        "colab": {
          "base_uri": "https://localhost:8080/",
          "height": 0
        },
        "id": "ABhqRF4UMKal",
        "outputId": "5edff5ea-b243-48e3-98ae-de8e5af09b87"
      },
      "execution_count": 13,
      "outputs": [
        {
          "output_type": "stream",
          "name": "stdout",
          "text": [
            "Enter the numbers:999\n",
            "3\n"
          ]
        }
      ]
    },
    {
      "cell_type": "markdown",
      "source": [
        "7.) Accept a year value from the user. Check whether it is a leap year or not.\n"
      ],
      "metadata": {
        "id": "GBsd7kLFMRr0"
      }
    },
    {
      "cell_type": "code",
      "source": [
        "year = int(input(\"Enter the year:\"))\n",
        "if( year % 4 == 0 and ( year % 400 == 0 or year % 100 != 0 )):\n",
        " print(\"it is a leap year\")\n",
        "else:\n",
        " print(\"it is not leap year\")"
      ],
      "metadata": {
        "colab": {
          "base_uri": "https://localhost:8080/"
        },
        "id": "QE2MtL-NMUP7",
        "outputId": "0f3e2e03-4d19-4295-d290-0a31022519da"
      },
      "execution_count": null,
      "outputs": [
        {
          "output_type": "stream",
          "name": "stdout",
          "text": [
            "Enter the year:2007\n",
            "it is not leap year\n"
          ]
        }
      ]
    },
    {
      "cell_type": "markdown",
      "source": [
        "8.) Check whether a triangle is valid or not, when the three angles of the triangle are entered\n",
        "through the keyboard. A triangle is valid if te sum of all the three angles is equal to 180 degrees."
      ],
      "metadata": {
        "id": "vR0aw-E_Mcdb"
      }
    },
    {
      "cell_type": "code",
      "source": [
        "side1 = int(input(\"Enter the 1st side:\"))\n",
        "side2 = int(input(\"Enter the 2nd side:\"))\n",
        "side3 = int(input(\"Enter the 3rd side:\"))\n",
        "if(side1 + side2 +side3 == 180):\n",
        " print(\"triange is valid\")\n",
        "else:\n",
        " print(\"triange is invalid\")"
      ],
      "metadata": {
        "colab": {
          "base_uri": "https://localhost:8080/"
        },
        "id": "WbjJRR5eMhg1",
        "outputId": "ad2aafe8-c439-48e7-ec23-bb917b879c8d"
      },
      "execution_count": null,
      "outputs": [
        {
          "output_type": "stream",
          "name": "stdout",
          "text": [
            "Enter the 1st side:80\n",
            "Enter the 2nd side:50\n",
            "Enter the 3rd side:50\n",
            "triange is valid\n"
          ]
        }
      ]
    },
    {
      "cell_type": "markdown",
      "source": [
        "9.) Print absolute value of a given number."
      ],
      "metadata": {
        "id": "8U4qXUKNM9tV"
      }
    },
    {
      "cell_type": "code",
      "source": [
        "num = -9090\n",
        "print(abs(num))\n"
      ],
      "metadata": {
        "colab": {
          "base_uri": "https://localhost:8080/",
          "height": 0
        },
        "id": "U-2Az5qiNAJL",
        "outputId": "261f01a0-ee13-4846-9a6e-372ba66abe19"
      },
      "execution_count": 20,
      "outputs": [
        {
          "output_type": "stream",
          "name": "stdout",
          "text": [
            "9090\n"
          ]
        }
      ]
    },
    {
      "cell_type": "markdown",
      "source": [
        "10.) Given the length and breadth of a rectangle, write a program to find whether theare of the\n",
        "rectangle is greater than its perimeter.\n"
      ],
      "metadata": {
        "id": "_6jgDxZ1NE_H"
      }
    },
    {
      "cell_type": "code",
      "source": [
        "length = 890\n",
        "breath = 89\n",
        "area = length * breath\n",
        "perimeter = 2*(length + breath)\n",
        "if(area > perimeter):\n",
        " print('area is greater than perimeter')\n",
        "else:\n",
        " print('area is smaller than perimeter')"
      ],
      "metadata": {
        "colab": {
          "base_uri": "https://localhost:8080/",
          "height": 0
        },
        "id": "p-agqmLtNHa9",
        "outputId": "77f3165f-448b-4683-da23-06598ba094cb"
      },
      "execution_count": 21,
      "outputs": [
        {
          "output_type": "stream",
          "name": "stdout",
          "text": [
            "area is greater than perimeter\n"
          ]
        }
      ]
    },
    {
      "cell_type": "markdown",
      "source": [
        "11.) Given three points (x1,y1), (x2,y2) and (x3,y3), check if all the three points fall on one straight\n",
        "line\n"
      ],
      "metadata": {
        "id": "4daAvKIgNMG_"
      }
    },
    {
      "cell_type": "code",
      "source": [
        "x1 = 99\n",
        "x2 = 70\n",
        "x3 =96\n",
        "y1 =35\n",
        "y2 = 44\n",
        "y3 =72\n",
        "a = (x1*(y2-y3))+(x2*(y3-y1))+(x3*(y1-y2))\n",
        "if (a == 0):\n",
        " print('all the points fall on one stright line')\n",
        "else:\n",
        " print(\"all the points dont fall on one stright line\")"
      ],
      "metadata": {
        "colab": {
          "base_uri": "https://localhost:8080/",
          "height": 0
        },
        "id": "GQPW48m7NNzt",
        "outputId": "306350a5-f379-4f64-c017-11c5b46b8041"
      },
      "execution_count": 22,
      "outputs": [
        {
          "output_type": "stream",
          "name": "stdout",
          "text": [
            "all the points dont fall on one stright line\n"
          ]
        }
      ]
    },
    {
      "cell_type": "markdown",
      "source": [
        "12.) Given the coordinates (x,y) of center of a circle and its radius, determine whether a point lies\n",
        "inside the circle, on the circle or outside the circle. (Hint: Use sqrt( ), pow( ) )"
      ],
      "metadata": {
        "id": "OZAeehLdNWZ5"
      }
    },
    {
      "cell_type": "code",
      "source": [
        "import math\n",
        "circle_m = 99\n",
        "circle_n = 198\n",
        "radius = 99\n",
        "point_m = 99\n",
        "point_n = 99\n",
        "distance = math.sqrt(math.pow(point_m - circle_m, 2) +\n",
        "math.pow(point_n - circle_n, 2))\n",
        "if distance < radius:\n",
        " print(f\"The point ({point_m}, {point_n}) is inside the circle.\")\n",
        "elif distance == radius:\n",
        " print(f\"The point ({point_m}, {point_n}) is on the circle.\")\n",
        "else:\n",
        " print(f\"The point ({point_m}, {point_n}) is outside the circle.\")"
      ],
      "metadata": {
        "colab": {
          "base_uri": "https://localhost:8080/",
          "height": 0
        },
        "id": "-08bHxPgNYvs",
        "outputId": "979c290a-994f-41a2-a542-43a143cfad23"
      },
      "execution_count": 29,
      "outputs": [
        {
          "output_type": "stream",
          "name": "stdout",
          "text": [
            "The point (99, 99) is on the circle.\n"
          ]
        }
      ]
    },
    {
      "cell_type": "markdown",
      "source": [
        "13.) Convert number 0 to 19 to its equivalent words. E.g. 0  zero, 19nineteen."
      ],
      "metadata": {
        "id": "qfoM5HKQNc1d"
      }
    },
    {
      "cell_type": "code",
      "source": [
        "numbers = 19\n",
        "numbers_word = [\n",
        " \"zero\", \"one\", \"two\", \"three\", \"four\", \"five\", \"six\", \"seven\",\n",
        "\"eight\", \"nine\",\n",
        " \"ten\", \"eleven\", \"twelve\", \"thirteen\", \"fourteen\", \"fifteen\",\n",
        "\"sixteen\",\n",
        " \"seventeen\", \"eighteen\", \"nineteen\"\n",
        "]\n",
        "if 0 <= numbers <= 19:\n",
        " print(f\"The number {numbers} is written as'{numbers_word[numbers]}'.\")\n",
        "else:\n",
        " print(\"Number is out of range (0-19).\")\n"
      ],
      "metadata": {
        "colab": {
          "base_uri": "https://localhost:8080/",
          "height": 0
        },
        "id": "E1iJLbNQNlqt",
        "outputId": "abe136ff-b6ce-483a-85e7-9c6eb4ae029f"
      },
      "execution_count": 32,
      "outputs": [
        {
          "output_type": "stream",
          "name": "stdout",
          "text": [
            "The number 19 is written as'nineteen'.\n"
          ]
        }
      ]
    },
    {
      "cell_type": "markdown",
      "source": [
        "14.) Accept marks of three subjects. Print total and average along with whether a candidate has\n",
        "passed or fail. If student secures <= 39 marks in any subject, consider him as fail. Also assigned a\n",
        "subject wise grade based on the following table: bold text"
      ],
      "metadata": {
        "id": "GsMf4rSuOM_e"
      }
    },
    {
      "cell_type": "code",
      "source": [
        "sub1 = int(input(\"Enter the maths marks:\"))\n",
        "sub2 = int(input(\"Enter the chemistry marks:\"))\n",
        "sub3 = int(input(\"Enter the physics marks:\"))\n",
        "sum = ( sub1 + sub2 + sub3 ) / 3\n",
        "if(sub1 <= 39 or sub2 <=39 or sub3<=39):\n",
        " print(\"Fail\")\n",
        "elif(sum>= 40 and sum <=44 ):\n",
        " print(\"P\")\n",
        "elif(sum>= 45 and sum <=49 ):\n",
        " print(\"C\")\n",
        "elif(sum>= 50 and sum <=54 ):\n",
        " print(\"B\")\n",
        "elif(sum>= 55 and sum <=59 ):\n",
        " print(\"B+\")\n",
        "elif(sum>= 60 and sum <= 69 ):\n",
        " print(\"A\")\n",
        "elif(sum>= 70 and sum <= 79):\n",
        " print(\"A+\")\n",
        "elif(sum>= 80 and sum <=100 ):\n",
        " print(\"O\")\n",
        "else:\n",
        " print(\"good\")\n"
      ],
      "metadata": {
        "colab": {
          "base_uri": "https://localhost:8080/",
          "height": 0
        },
        "id": "ebFN6DDLOPbY",
        "outputId": "4a8914b1-c946-4538-853e-55c55e6b0591"
      },
      "execution_count": 34,
      "outputs": [
        {
          "output_type": "stream",
          "name": "stdout",
          "text": [
            "Enter the maths marks:87\n",
            "Enter the chemistry marks:78\n",
            "Enter the physics marks:99\n",
            "O\n"
          ]
        }
      ]
    },
    {
      "cell_type": "markdown",
      "source": [
        "loops :-"
      ],
      "metadata": {
        "id": "3YHt-fZ6L3ND"
      }
    },
    {
      "cell_type": "markdown",
      "source": [
        "1)\tPrint all alphabets in upper case and in lower case."
      ],
      "metadata": {
        "id": "l0Z8Pug4Lk5D"
      }
    },
    {
      "cell_type": "code",
      "source": [
        "print(\"Upper case alphabets:\")\n",
        "for l in range(65, 91):  # ASCII values for A to Z\n",
        "    print(chr(l), end=\" \")\n",
        "print()\n",
        "\n",
        "print(\"Lower case alphabets:\")\n",
        "for l in range(97, 123):  # ASCII values for a to z\n",
        "    print(chr(l), end=\" \")\n",
        "print()"
      ],
      "metadata": {
        "id": "zxe0q-z-L5md",
        "colab": {
          "base_uri": "https://localhost:8080/",
          "height": 0
        },
        "outputId": "51ccf6cd-8121-44cb-915a-1c071ce8b292"
      },
      "execution_count": 35,
      "outputs": [
        {
          "output_type": "stream",
          "name": "stdout",
          "text": [
            "Upper case alphabets:\n",
            "A B C D E F G H I J K L M N O P Q R S T U V W X Y Z \n",
            "Lower case alphabets:\n",
            "a b c d e f g h i j k l m n o p q r s t u v w x y z \n"
          ]
        }
      ]
    },
    {
      "cell_type": "markdown",
      "source": [
        "2)\tPrint a multiplication table of a given number."
      ],
      "metadata": {
        "id": "xG1xX1zGNhpy"
      }
    },
    {
      "cell_type": "code",
      "source": [
        "def print_multiplication_table(number):\n",
        "    print(f\"Multiplication Table for {number}:\")\n",
        "    for m in range(1, 11):\n",
        "        print(f\"{number} x {m} = {number * m}\")\n",
        "\n",
        "number = int(input(\"Enter a number: \"))\n",
        "print_multiplication_table(number)"
      ],
      "metadata": {
        "colab": {
          "base_uri": "https://localhost:8080/",
          "height": 0
        },
        "id": "Tt9-HKn3NuhW",
        "outputId": "6626c258-55c5-4d87-80f4-fcd9e1a484b5"
      },
      "execution_count": 36,
      "outputs": [
        {
          "output_type": "stream",
          "name": "stdout",
          "text": [
            "Enter a number: 999\n",
            "Multiplication Table for 999:\n",
            "999 x 1 = 999\n",
            "999 x 2 = 1998\n",
            "999 x 3 = 2997\n",
            "999 x 4 = 3996\n",
            "999 x 5 = 4995\n",
            "999 x 6 = 5994\n",
            "999 x 7 = 6993\n",
            "999 x 8 = 7992\n",
            "999 x 9 = 8991\n",
            "999 x 10 = 9990\n"
          ]
        }
      ]
    },
    {
      "cell_type": "markdown",
      "source": [
        "3)\tCount no. of alphabets and no. of digits in any given string."
      ],
      "metadata": {
        "id": "gUIRpSHuPD6s"
      }
    },
    {
      "cell_type": "code",
      "source": [
        "def count_digits_of_alphabets(input_string):\n",
        "    alphabt_of_counte = 0\n",
        "    digit_of_count = 0\n",
        "\n",
        "    for char in input_string:\n",
        "        if char.isalpha():\n",
        "            alphabt_of_counte += 1\n",
        "        elif char.isdigit():\n",
        "            digit_of_count += 1\n",
        "\n",
        "    return alphabt_of_counte, digit_of_count\n",
        "input_of_string = input(\"Enter a string: \")\n",
        "alphabets, digits = count_digits_of_alphabets(input_of_string)\n",
        "\n",
        "print(f\"Number of alphabets: {alphabets}\")\n",
        "print(f\"Number of digits: {digits}\")"
      ],
      "metadata": {
        "colab": {
          "base_uri": "https://localhost:8080/",
          "height": 0
        },
        "id": "_GEKiN6pPKxS",
        "outputId": "172d42ac-b89c-4fc7-be6d-9c6d4e5a5e4d"
      },
      "execution_count": 1,
      "outputs": [
        {
          "output_type": "stream",
          "name": "stdout",
          "text": [
            "Enter a string: hello friends 9999\n",
            "Number of alphabets: 12\n",
            "Number of digits: 4\n"
          ]
        }
      ]
    },
    {
      "cell_type": "markdown",
      "source": [
        "4)\tCheck whether a given number is prime, is perfect, is Armstrong, is palindrome, is automorphic."
      ],
      "metadata": {
        "id": "5BVxkGlTS9b9"
      }
    },
    {
      "cell_type": "code",
      "source": [
        "def is_prime(num):\n",
        "    if num <= 1:\n",
        "        return False\n",
        "    for b in range(2, int(num ** 0.5) + 1):\n",
        "        if num % b == 0:\n",
        "            return False\n",
        "    return True\n",
        "\n",
        "def is_perfect(num):\n",
        "    if num <= 0:\n",
        "        return False\n",
        "    sum_of_divisors = 0\n",
        "    for b in range(1, num):\n",
        "        if num % b== 0:\n",
        "            sum_of_divisors += b\n",
        "    return sum_of_divisors == num\n",
        "\n",
        "def is_armstrong(num):\n",
        "    num_str = str(num)\n",
        "    num_length = len(num_str)\n",
        "    sum_of_powers = 0\n",
        "    for digit in num_str:\n",
        "        sum_of_powers += int(digit) ** num_length\n",
        "    return sum_of_powers == num\n",
        "\n",
        "def is_palindrome(num):\n",
        "    num_str = str(num)\n",
        "    return num_str == num_str[::-1]\n",
        "\n",
        "def is_automorphic(num):\n",
        "    num_str = str(num)\n",
        "    square_str = str(num ** 2)\n",
        "    return square_str.endswith(num_str)\n",
        "\n",
        "number = int(input(\"Enter a number: \"))\n",
        "\n",
        "print(f\"Is {number} prime? {'Yes' if is_prime(number) else 'No'}\")\n",
        "print(f\"Is {number} perfect? {'Yes' if is_perfect(number) else 'No'}\")\n",
        "print(f\"Is {number} Armstrong? {'Yes' if is_armstrong(number) else 'No'}\")\n",
        "print(f\"Is {number} palindrome? {'Yes' if is_palindrome(number) else 'No'}\")\n",
        "print(f\"Is {number} automorphic? {'Yes' if is_automorphic(number) else 'No'}\")"
      ],
      "metadata": {
        "id": "10H2i7QpR8YP",
        "colab": {
          "base_uri": "https://localhost:8080/",
          "height": 0
        },
        "outputId": "48f6be26-3e93-4c8e-9418-1719ed54cbf2"
      },
      "execution_count": 3,
      "outputs": [
        {
          "output_type": "stream",
          "name": "stdout",
          "text": [
            "Enter a number: 98989\n",
            "Is 98989 prime? No\n",
            "Is 98989 perfect? No\n",
            "Is 98989 Armstrong? No\n",
            "Is 98989 palindrome? Yes\n",
            "Is 98989 automorphic? No\n"
          ]
        }
      ]
    },
    {
      "cell_type": "markdown",
      "source": [
        "5)\tGenerate all Pythagorean Triplets with side length <= 30."
      ],
      "metadata": {
        "id": "9xqu3h1YUR3B"
      }
    },
    {
      "cell_type": "code",
      "source": [
        "def generate_pythagorean_triplets(limit):\n",
        "    triplets = []\n",
        "    for a in range(1, limit + 1):\n",
        "        for b in range(a, limit + 1):\n",
        "            c = (a ** 2 + b ** 2) ** 0.5\n",
        "            if c.is_integer() and c <= limit:\n",
        "                triplets.append((a, b, int(c)))\n",
        "    return triplets\n",
        "\n",
        "limit = 30\n",
        "triplets = generate_pythagorean_triplets(limit)\n",
        "\n",
        "print(f\"Pythagorean triplets with side lengths <= {limit}:\")\n",
        "for triplet in triplets:\n",
        "    print(triplet)"
      ],
      "metadata": {
        "colab": {
          "base_uri": "https://localhost:8080/"
        },
        "id": "eM2DVjZMUU8R",
        "outputId": "75e28aa3-3ebd-4306-87f3-2114702bbacc"
      },
      "execution_count": null,
      "outputs": [
        {
          "output_type": "stream",
          "name": "stdout",
          "text": [
            "Pythagorean triplets with side lengths <= 30:\n",
            "(3, 4, 5)\n",
            "(5, 12, 13)\n",
            "(6, 8, 10)\n",
            "(7, 24, 25)\n",
            "(8, 15, 17)\n",
            "(9, 12, 15)\n",
            "(10, 24, 26)\n",
            "(12, 16, 20)\n",
            "(15, 20, 25)\n",
            "(18, 24, 30)\n",
            "(20, 21, 29)\n"
          ]
        }
      ]
    },
    {
      "cell_type": "markdown",
      "source": [
        "6)\tPrint 24 hours of day with suitable suffixes like AM, PM, Noon and Midnight."
      ],
      "metadata": {
        "id": "tUao9R0KVHEI"
      }
    },
    {
      "cell_type": "code",
      "source": [
        "def print_24_hours_with_suffixes():\n",
        "    for hour in range(0, 24):\n",
        "        if hour == 0:\n",
        "            print(\"12 Midnight\")\n",
        "        elif hour < 12:\n",
        "            print(f\"{hour} AM\")\n",
        "        elif hour == 12:\n",
        "            print(\"12 Noon\")\n",
        "        else:\n",
        "            print(f\"{hour - 12} PM\")\n",
        "\n",
        "print_24_hours_with_suffixes()"
      ],
      "metadata": {
        "colab": {
          "base_uri": "https://localhost:8080/"
        },
        "id": "Udnqr7FEVNXf",
        "outputId": "f14352d2-5110-4052-a861-c6ee8e3a32d0"
      },
      "execution_count": null,
      "outputs": [
        {
          "output_type": "stream",
          "name": "stdout",
          "text": [
            "12 Midnight\n",
            "1 AM\n",
            "2 AM\n",
            "3 AM\n",
            "4 AM\n",
            "5 AM\n",
            "6 AM\n",
            "7 AM\n",
            "8 AM\n",
            "9 AM\n",
            "10 AM\n",
            "11 AM\n",
            "12 Noon\n",
            "1 PM\n",
            "2 PM\n",
            "3 PM\n",
            "4 PM\n",
            "5 PM\n",
            "6 PM\n",
            "7 PM\n",
            "8 PM\n",
            "9 PM\n",
            "10 PM\n",
            "11 PM\n"
          ]
        }
      ]
    },
    {
      "cell_type": "markdown",
      "source": [
        "7)\tPrint nCr and nPr."
      ],
      "metadata": {
        "id": "LzlUdQpRVnZC"
      }
    },
    {
      "cell_type": "code",
      "source": [
        "def factorial(n):\n",
        "    result = 1\n",
        "    for y in range(1, n + 1):\n",
        "        result *= y\n",
        "    return result\n",
        "\n",
        "def nCr(n, r):\n",
        "    return factorial(n) // (factorial(r) * factorial(n - r))\n",
        "\n",
        "def nPr(n, r):\n",
        "    return factorial(n) // factorial(n - r)\n",
        "2\n",
        "n = int(input(\"Enter the value of n: \"))\n",
        "r = int(input(\"Enter the value of r: \"))\n",
        "\n",
        "print(f\"{n}C{r} = {nCr(n, r)}\")\n",
        "print(f\"{n}P{r} = {nPr(n, r)}\")"
      ],
      "metadata": {
        "colab": {
          "base_uri": "https://localhost:8080/",
          "height": 0
        },
        "id": "QaJC62YGVwtF",
        "outputId": "2bd8215c-f958-4e44-ba24-229feee84128"
      },
      "execution_count": 5,
      "outputs": [
        {
          "output_type": "stream",
          "name": "stdout",
          "text": [
            "Enter the value of n: 5\n",
            "Enter the value of r: 2\n",
            "5C2 = 10\n",
            "5P2 = 20\n"
          ]
        }
      ]
    },
    {
      "cell_type": "markdown",
      "source": [
        "8)\tPrint factorial of a given number."
      ],
      "metadata": {
        "id": "XZbBPUx7XTh3"
      }
    },
    {
      "cell_type": "code",
      "source": [
        "def factorial(num):\n",
        "    result = 1\n",
        "    for u in range(1, num + 1):\n",
        "        result *= u\n",
        "    return result\n",
        "\n",
        "number = int(input(\"Enter a number: \"))\n",
        "print(f\"The factorial of {number} is {factorial(number)}\")"
      ],
      "metadata": {
        "colab": {
          "base_uri": "https://localhost:8080/",
          "height": 0
        },
        "id": "DsNrelOfXWkN",
        "outputId": "418b322d-91ba-4061-e7ae-f76b4f3dd1b7"
      },
      "execution_count": 7,
      "outputs": [
        {
          "output_type": "stream",
          "name": "stdout",
          "text": [
            "Enter a number: 26\n",
            "The factorial of 26 is 403291461126605635584000000\n"
          ]
        }
      ]
    },
    {
      "cell_type": "markdown",
      "source": [
        "9)\tPrint N natural nos. in reverse."
      ],
      "metadata": {
        "id": "A0RGZBYQYUDm"
      }
    },
    {
      "cell_type": "code",
      "source": [
        "def print_natural_numbers_reverse(N):\n",
        "    for w in range(N, 0, -1):\n",
        "        print(w, end=\" \")\n",
        "    print()\n",
        "\n",
        "N = int(input(\"Enter the value of N: \"))\n",
        "print(f\"The first {N} natural numbers in reverse order are:\")\n",
        "print_natural_numbers_reverse(N)"
      ],
      "metadata": {
        "colab": {
          "base_uri": "https://localhost:8080/",
          "height": 0
        },
        "id": "pQb7-CMdYag7",
        "outputId": "02d47ce8-99a2-43a9-8203-101ea3d35441"
      },
      "execution_count": 8,
      "outputs": [
        {
          "output_type": "stream",
          "name": "stdout",
          "text": [
            "Enter the value of N: 48\n",
            "The first 48 natural numbers in reverse order are:\n",
            "48 47 46 45 44 43 42 41 40 39 38 37 36 35 34 33 32 31 30 29 28 27 26 25 24 23 22 21 20 19 18 17 16 15 14 13 12 11 10 9 8 7 6 5 4 3 2 1 \n"
          ]
        }
      ]
    },
    {
      "cell_type": "markdown",
      "source": [
        "10)\tGenerate N numbers of Fibonacci series."
      ],
      "metadata": {
        "id": "iojY309HaYkJ"
      }
    },
    {
      "cell_type": "code",
      "source": [
        "def generate_fibonacci_series(m):\n",
        "    fibonacci_series = []\n",
        "    a, b = 0, 1\n",
        "    for _ in range(m):\n",
        "        fibonacci_series.append(a)\n",
        "        a, b = b, a + b\n",
        "    return fibonacci_series\n",
        "\n",
        "m = int(input(\"Enter the value of m: \"))\n",
        "fibonacci_series = generate_fibonacci_series(m)\n",
        "\n",
        "print(f\"The first {m} numbers of the Fibonacci series are:\")\n",
        "print(fibonacci_series)"
      ],
      "metadata": {
        "colab": {
          "base_uri": "https://localhost:8080/",
          "height": 0
        },
        "id": "Giig1qtNaZKY",
        "outputId": "1f24225d-268f-432f-df14-2a24d322ab36"
      },
      "execution_count": 9,
      "outputs": [
        {
          "output_type": "stream",
          "name": "stdout",
          "text": [
            "Enter the value of m: 9\n",
            "The first 9 numbers of the Fibonacci series are:\n",
            "[0, 1, 1, 2, 3, 5, 8, 13, 21]\n"
          ]
        }
      ]
    },
    {
      "cell_type": "markdown",
      "source": [
        "11)\tCalculate sin(x); x is a radian value. The formula is as under:\n",
        "                          sin(x)=x-x^3/3!+x^5/5!-x^7/7!.....\n",
        "                          \t(hint: degrees can be converted into radians by 3.14159 / 180.)"
      ],
      "metadata": {
        "id": "N-SYmu4nai0C"
      }
    },
    {
      "cell_type": "code",
      "source": [
        "import math\n",
        "\n",
        "def factorial(m):\n",
        "    result = 1\n",
        "    for i in range(1, m + 1):\n",
        "        result *= i\n",
        "    return result\n",
        "\n",
        "def sin(x, terms=10):\n",
        "    sin_x = 0\n",
        "    for m in range(terms):\n",
        "        term = ((-1) ** m) * (x ** (2 * m + 1)) / factorial(2 * m + 1)\n",
        "        sin_x += term\n",
        "    return sin_x\n",
        "\n",
        "angle_degrees = float(input(\"Enter the angle in degrees: \"))\n",
        "angle_radians = angle_degrees * (math.pi / 180)\n",
        "\n",
        "print(f\"sin({angle_degrees} degrees) = {sin(angle_radians)}\")"
      ],
      "metadata": {
        "colab": {
          "base_uri": "https://localhost:8080/",
          "height": 0
        },
        "id": "V5SdhBv9dXlv",
        "outputId": "33cd7e6b-e6b5-49f2-ed8b-0d5932cdeee9"
      },
      "execution_count": 12,
      "outputs": [
        {
          "output_type": "stream",
          "name": "stdout",
          "text": [
            "Enter the angle in degrees: 90\n",
            "sin(90.0 degrees) = 1.0\n"
          ]
        }
      ]
    },
    {
      "cell_type": "markdown",
      "source": [
        " Write following programs considering list in mind:"
      ],
      "metadata": {
        "id": "0A4Zuj5ZW3C4"
      }
    },
    {
      "cell_type": "markdown",
      "source": [
        "1. Create a list of 5 odd integers using random nos. Similarly create a list of 4 even integers using\n",
        "random nos. Replace the third element of odd integers with a list of 4 even integers. Flattern, sort\n",
        "and print the list. Provide appropriate message at each stage.\n"
      ],
      "metadata": {
        "id": "Vsdz3fnRW7T-"
      }
    },
    {
      "cell_type": "code",
      "source": [
        "import random\n",
        "\n",
        "odd_integers = [random.choice(range(1, 101, 2)) for _ in range(5)]\n",
        "print(\"List of 5 odd integers: \", odd_integers)\n",
        "\n",
        "even_integers = [random.choice(range(0, 101, 2)) for _ in range(4)]\n",
        "print(\"List of 4 even integers: \", even_integers)\n",
        "\n",
        "odd_integers[2] = even_integers\n",
        "print(\"Replaced the third element of odd integers with a list of 4 even integers: \", odd_integers)\n",
        "\n",
        "flattened_of_list = []\n",
        "for item in odd_integers:\n",
        "    if isinstance(item, list):\n",
        "        flattened_of_list.extend(item)\n",
        "    else:\n",
        "        flattened_of_list.append(item)\n",
        "print(\"Flattened list: \", flattened_of_list)\n",
        "\n",
        "sorted_list = sorted(flattened_of_list)\n",
        "print(\"Sorted list: \", sorted_list)"
      ],
      "metadata": {
        "colab": {
          "base_uri": "https://localhost:8080/",
          "height": 0
        },
        "id": "p4Yl7KibW-hQ",
        "outputId": "4ce3cd2f-cc68-41d8-b525-807a6193f044"
      },
      "execution_count": 14,
      "outputs": [
        {
          "output_type": "stream",
          "name": "stdout",
          "text": [
            "List of 5 odd integers:  [91, 3, 69, 87, 71]\n",
            "List of 4 even integers:  [16, 36, 70, 58]\n",
            "Replaced the third element of odd integers with a list of 4 even integers:  [91, 3, [16, 36, 70, 58], 87, 71]\n",
            "Flattened list:  [91, 3, 16, 36, 70, 58, 87, 71]\n",
            "Sorted list:  [3, 16, 36, 58, 70, 71, 87, 91]\n"
          ]
        }
      ]
    },
    {
      "cell_type": "markdown",
      "source": [
        "2.) Generate 20 random integers and store them in a list. Accept a number from the user and print\n",
        "position of all occurrences of that number in the list."
      ],
      "metadata": {
        "id": "nkwPoHN0X8Uc"
      }
    },
    {
      "cell_type": "code",
      "source": [
        "import random\n",
        "\n",
        "random_integers = [random.randint(1, 100) for _ in range(20)]\n",
        "print(\"List of 20 random integers:\", random_integers)\n",
        "\n",
        "users_input = int(input(\"Enter a number to find its occurrences: \"))\n",
        "\n",
        "positions = [index for index, value in enumerate(random_integers) if value == users_input]\n",
        "\n",
        "if positions:\n",
        "    print(f\"Number {users_input} found at positions: {positions}\")\n",
        "else:\n",
        "    print(f\"Number {users_input} not found in the list.\")"
      ],
      "metadata": {
        "colab": {
          "base_uri": "https://localhost:8080/",
          "height": 0
        },
        "id": "Ik_We3HYX0Q-",
        "outputId": "928d3730-721b-4c86-86a4-b0f3179e1f83"
      },
      "execution_count": 15,
      "outputs": [
        {
          "output_type": "stream",
          "name": "stdout",
          "text": [
            "List of 20 random integers: [96, 100, 30, 23, 98, 53, 65, 11, 40, 57, 65, 70, 89, 99, 43, 14, 30, 37, 20, 13]\n",
            "Enter a number to find its occurrences: 98\n",
            "Number 98 found at positions: [4]\n"
          ]
        }
      ]
    },
    {
      "cell_type": "markdown",
      "source": [
        "3.) Generate 50 random numbers in the range 1 and 30. Remove all duplicate values from the list.\n"
      ],
      "metadata": {
        "id": "GSvV-dSjYJJH"
      }
    },
    {
      "cell_type": "code",
      "source": [
        "import random\n",
        "\n",
        "random_num = [random.randint(1, 30) for _ in range(50)]\n",
        "print(\"List of 50 random numbers:\", random_num)\n",
        "\n",
        "unique_num = list(set(random_num))\n",
        "print(\"List after removing duplicates:\", unique_num)"
      ],
      "metadata": {
        "colab": {
          "base_uri": "https://localhost:8080/",
          "height": 0
        },
        "id": "nk4Q4m0UYSEd",
        "outputId": "acaa804e-f0d1-45b8-d971-fb122755e670"
      },
      "execution_count": 16,
      "outputs": [
        {
          "output_type": "stream",
          "name": "stdout",
          "text": [
            "List of 50 random numbers: [4, 18, 19, 12, 17, 14, 22, 10, 24, 16, 16, 18, 23, 21, 7, 15, 23, 22, 20, 23, 4, 27, 5, 20, 21, 23, 30, 28, 19, 30, 13, 20, 24, 16, 16, 20, 5, 18, 30, 6, 14, 25, 5, 15, 8, 13, 30, 7, 19, 30]\n",
            "List after removing duplicates: [4, 5, 6, 7, 8, 10, 12, 13, 14, 15, 16, 17, 18, 19, 20, 21, 22, 23, 24, 25, 27, 28, 30]\n"
          ]
        }
      ]
    },
    {
      "cell_type": "markdown",
      "source": [
        "4.) Generate 30 random numbers and put them in a list. Create two more lists – one containing only\n",
        "+ve numbers and another with –ve nos.\n"
      ],
      "metadata": {
        "id": "AIPaA8ZUZBGH"
      }
    },
    {
      "cell_type": "code",
      "source": [
        "import random\n",
        "\n",
        "random_num = [random.randint(-50, 50) for _ in range(30)]\n",
        "print(\"List of 30 random numbers:\", random_num)\n",
        "\n",
        "positive_num = [num for num in random_num if num > 0]\n",
        "negative_num = [num for num in random_num if num < 0]\n",
        "\n",
        "print(\"List of positive numbers:\", positive_num)\n",
        "print(\"List of negative numbers:\", negative_num)"
      ],
      "metadata": {
        "colab": {
          "base_uri": "https://localhost:8080/",
          "height": 0
        },
        "id": "6na5qmFJZE2h",
        "outputId": "9af49667-04e2-485e-a6b8-1bae706caf4c"
      },
      "execution_count": 17,
      "outputs": [
        {
          "output_type": "stream",
          "name": "stdout",
          "text": [
            "List of 30 random numbers: [50, 44, 35, -12, 50, 13, 47, 5, 44, -43, -12, -28, -3, 31, 19, -49, -15, -32, 38, 36, 7, -11, -25, -19, -40, 34, 25, 6, 7, 50]\n",
            "List of positive numbers: [50, 44, 35, 50, 13, 47, 5, 44, 31, 19, 38, 36, 7, 34, 25, 6, 7, 50]\n",
            "List of negative numbers: [-12, -43, -12, -28, -3, -49, -15, -32, -11, -25, -19, -40]\n"
          ]
        }
      ]
    },
    {
      "cell_type": "markdown",
      "source": [
        "5.) A list contains 5 strings. Convert all these strings to uppercase.\n"
      ],
      "metadata": {
        "id": "JtS41Uz5ZZrp"
      }
    },
    {
      "cell_type": "code",
      "source": [
        "list_of_strings = [\"hello\", \"world\", \"python\", \"programming\", \"rocks\"]\n",
        "\n",
        "uppercase_strings = [string.upper() for string in list_of_strings]\n",
        "\n",
        "print(\"List of uppercase strings:\", uppercase_strings)"
      ],
      "metadata": {
        "colab": {
          "base_uri": "https://localhost:8080/",
          "height": 0
        },
        "id": "IdiAJhrmZdW1",
        "outputId": "49db57dc-4713-4cf7-c428-feea90958ed6"
      },
      "execution_count": 18,
      "outputs": [
        {
          "output_type": "stream",
          "name": "stdout",
          "text": [
            "List of uppercase strings: ['HELLO', 'WORLD', 'PYTHON', 'PROGRAMMING', 'ROCKS']\n"
          ]
        }
      ]
    },
    {
      "cell_type": "markdown",
      "source": [
        "6. Convert list of temperatures in Fahrenheit degrees to equivalent Celsius degrees.\n"
      ],
      "metadata": {
        "id": "Sww8rY5pZ42s"
      }
    },
    {
      "cell_type": "code",
      "source": [
        "fahrenheit_temp = [32, 68, 104, 50, 77]\n",
        "\n",
        "celsius_temp = [(temp - 32) * 5/9 for temp in fahrenheit_temp]\n",
        "\n",
        "print(\"List of temperatures in Celsius:\", celsius_temp)\n"
      ],
      "metadata": {
        "colab": {
          "base_uri": "https://localhost:8080/",
          "height": 0
        },
        "id": "0PigR06RZ7Fh",
        "outputId": "88da5b91-aa56-4842-a638-c0deb12dac23"
      },
      "execution_count": 19,
      "outputs": [
        {
          "output_type": "stream",
          "name": "stdout",
          "text": [
            "List of temperatures in Celsius: [0.0, 20.0, 40.0, 10.0, 25.0]\n"
          ]
        }
      ]
    },
    {
      "cell_type": "markdown",
      "source": [
        "7. Write a menu-driven program to implement the stack data structure.\n"
      ],
      "metadata": {
        "id": "bmA9LFJjaM37"
      }
    },
    {
      "cell_type": "code",
      "source": [
        "stacks = []\n",
        "\n",
        "def push(item):\n",
        "    stacks.append(item)\n",
        "    print(f\"Item {item} pushed onto stacks.\")\n",
        "\n",
        "def pop():\n",
        "    if stacks:\n",
        "        item = stacks.pop()\n",
        "        print(f\"Item {item} popped from stacks.\")\n",
        "        return item\n",
        "    else:\n",
        "        print(\"Stack is empty. Cannot pop item.\")\n",
        "        return None\n",
        "\n",
        "def display():\n",
        "    print(\"Stack contents:\", stacks)\n",
        "\n",
        "while True:\n",
        "    print(\"\\nMenu:\")\n",
        "    print(\"1. Push\")\n",
        "    print(\"2. Pop\")\n",
        "    print(\"3. Display stacks\")\n",
        "    print(\"4. Exit\")\n",
        "\n",
        "    choice = input(\"Enter your choice (1-4): \")\n",
        "\n",
        "    if choice == '1':\n",
        "        item = input(\"Enter the item to push: \")\n",
        "        push(item)\n",
        "    elif choice == '2':\n",
        "        pop()\n",
        "    elif choice == '3':\n",
        "        display()\n",
        "    elif choice == '4':\n",
        "        print(\"Exiting program.\")\n",
        "        break\n",
        "    else:\n",
        "        print(\"Invalid choice. Please enter a number between 1 and 4.\")\n"
      ],
      "metadata": {
        "colab": {
          "base_uri": "https://localhost:8080/",
          "height": 0
        },
        "id": "gDx9Hu1QaOuc",
        "outputId": "8f6674fe-6057-4d0b-8591-d8ef5dadb1ae"
      },
      "execution_count": 20,
      "outputs": [
        {
          "output_type": "stream",
          "name": "stdout",
          "text": [
            "\n",
            "Menu:\n",
            "1. Push\n",
            "2. Pop\n",
            "3. Display stacks\n",
            "4. Exit\n",
            "Enter your choice (1-4): 4\n",
            "Exiting program.\n"
          ]
        }
      ]
    },
    {
      "cell_type": "markdown",
      "source": [
        "8. Write a menu-driven program to implement the Queue data structure.\n"
      ],
      "metadata": {
        "id": "f8RD2plaa18g"
      }
    },
    {
      "cell_type": "code",
      "source": [
        "queue = []\n",
        "\n",
        "def enqueue(item):\n",
        "    queue.append(item)\n",
        "    print(f\"Item {item} added to the queue.\")\n",
        "\n",
        "def dequeue():\n",
        "    if queue:\n",
        "        item = queue.pop(0)\n",
        "        print(f\"Item {item} removed from the queue.\")\n",
        "        return item\n",
        "    else:\n",
        "        print(\"Queue is empty. Cannot dequeue item.\")\n",
        "        return None\n",
        "\n",
        "def display():\n",
        "    print(\"Queue contents:\", queue)\n",
        "\n",
        "while True:\n",
        "    print(\"\\nMenu:\")\n",
        "    print(\"1. Enqueue\")\n",
        "    print(\"2. Dequeue\")\n",
        "    print(\"3. Display queue\")\n",
        "    print(\"4. Exit\")\n",
        "\n",
        "    choice = input(\"Enter your choice (1-4): \")\n",
        "\n",
        "    if choice == '1':\n",
        "        item = input(\"Enter the item to enqueue: \")\n",
        "        enqueue(item)\n",
        "    elif choice == '2':\n",
        "        dequeue()\n",
        "    elif choice == '3':\n",
        "        display()\n",
        "    elif choice == '4':\n",
        "        print(\"Exiting program.\")\n",
        "        break\n",
        "    else:\n",
        "        print(\"Invalid choice. Please enter a number between 1 and 4.\")\n"
      ],
      "metadata": {
        "colab": {
          "base_uri": "https://localhost:8080/"
        },
        "id": "A2IXJSNka4PI",
        "outputId": "862324d1-ea5b-4096-8b44-01b358c7d64a"
      },
      "execution_count": null,
      "outputs": [
        {
          "output_type": "stream",
          "name": "stdout",
          "text": [
            "\n",
            "Menu:\n",
            "1. Enqueue\n",
            "2. Dequeue\n",
            "3. Display queue\n",
            "4. Exit\n",
            "Enter your choice (1-4): 1\n",
            "Enter the item to enqueue: 2\n",
            "Item 2 added to the queue.\n",
            "\n",
            "Menu:\n",
            "1. Enqueue\n",
            "2. Dequeue\n",
            "3. Display queue\n",
            "4. Exit\n",
            "Enter your choice (1-4): 4\n",
            "Exiting program.\n"
          ]
        }
      ]
    },
    {
      "cell_type": "markdown",
      "source": [
        "9. Take two lists of numbers. Create third list of numbers for only those numbers from first list which\n",
        "are not there in 2\n",
        "nd list (use list comprehension)."
      ],
      "metadata": {
        "id": "TC3dwJoVbFWf"
      }
    },
    {
      "cell_type": "code",
      "source": [
        "list1 = [98, 97, 86, 76, 80, 48, 56, 66, 82]\n",
        "list2 = [66, 56, 82, 46, 48]\n",
        "\n",
        "list3 = [num for num in list1 if num not in list2]\n",
        "\n",
        "print(\"First list:\", list1)\n",
        "print(\"Second list:\", list2)\n",
        "print(\"Third list (numbers in first list not in second list):\", list3)\n"
      ],
      "metadata": {
        "colab": {
          "base_uri": "https://localhost:8080/",
          "height": 0
        },
        "id": "rF8EzKvmbL3-",
        "outputId": "46f98628-ba21-49b1-8cc7-7fb674d0f84f"
      },
      "execution_count": 21,
      "outputs": [
        {
          "output_type": "stream",
          "name": "stdout",
          "text": [
            "First list: [98, 97, 86, 76, 80, 48, 56, 66, 82]\n",
            "Second list: [66, 56, 82, 46, 48]\n",
            "Third list (numbers in first list not in second list): [98, 97, 86, 76, 80]\n"
          ]
        }
      ]
    }
  ]
}