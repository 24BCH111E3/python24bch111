{
  "cells": [
    {
      "cell_type": "markdown",
      "metadata": {
        "id": "view-in-github",
        "colab_type": "text"
      },
      "source": [
        "<a href=\"https://colab.research.google.com/github/24BCH111E3/python24bch111/blob/main/myworkpython.ipynb\" target=\"_parent\"><img src=\"https://colab.research.google.com/assets/colab-badge.svg\" alt=\"Open In Colab\"/></a>"
      ]
    },
    {
      "cell_type": "markdown",
      "metadata": {
        "id": "Y9jfowFVf9Vu"
      },
      "source": [
        "1.) Add two numbers."
      ]
    },
    {
      "cell_type": "code",
      "execution_count": null,
      "metadata": {
        "colab": {
          "base_uri": "https://localhost:8080/"
        },
        "id": "pqRNI7RTf-u8",
        "outputId": "6525c88f-6435-4de6-a5e6-f18a8e1184e8"
      },
      "outputs": [
        {
          "name": "stdout",
          "output_type": "stream",
          "text": [
            "103\n"
          ]
        }
      ],
      "source": [
        "a=4\n",
        "b=99\n",
        "c=a+b\n",
        "print(c)\n"
      ]
    },
    {
      "cell_type": "markdown",
      "metadata": {
        "id": "drJLJTywgO2e"
      },
      "source": [
        "2.)subtract two numbers."
      ]
    },
    {
      "cell_type": "code",
      "execution_count": null,
      "metadata": {
        "colab": {
          "base_uri": "https://localhost:8080/"
        },
        "id": "J9hpFoOCgVLn",
        "outputId": "f7761c65-c54c-4490-d69d-3c433175dd8a"
      },
      "outputs": [
        {
          "name": "stdout",
          "output_type": "stream",
          "text": [
            "51\n"
          ]
        }
      ],
      "source": [
        "a=99\n",
        "b=48\n",
        "c=a-b\n",
        "print(c)"
      ]
    },
    {
      "cell_type": "markdown",
      "metadata": {
        "id": "QJMcMWuRgexW"
      },
      "source": [
        "3.)multiply two numbers."
      ]
    },
    {
      "cell_type": "code",
      "execution_count": null,
      "metadata": {
        "colab": {
          "base_uri": "https://localhost:8080/"
        },
        "id": "Jf9qrQ6nglUb",
        "outputId": "d94070f7-254e-4b96-d1c4-d41c89ba938a"
      },
      "outputs": [
        {
          "name": "stdout",
          "output_type": "stream",
          "text": [
            "3762\n"
          ]
        }
      ],
      "source": [
        "a=99\n",
        "b=38\n",
        "c=a*b\n",
        "print(c)\n"
      ]
    },
    {
      "cell_type": "markdown",
      "metadata": {
        "id": "AVctduKrgtG_"
      },
      "source": [
        "4.)divide two numbers."
      ]
    },
    {
      "cell_type": "code",
      "execution_count": null,
      "metadata": {
        "colab": {
          "base_uri": "https://localhost:8080/"
        },
        "id": "u7s64TZZgw8s",
        "outputId": "0332a23a-02d6-4054-8be1-9cffe090424e"
      },
      "outputs": [
        {
          "name": "stdout",
          "output_type": "stream",
          "text": [
            "1.1428571428571428\n"
          ]
        }
      ],
      "source": [
        "a=40\n",
        "b=35\n",
        "c=a/b\n",
        "print(c)"
      ]
    },
    {
      "cell_type": "markdown",
      "metadata": {
        "id": "9UAo5KPFg3T2"
      },
      "source": [
        "5.)add,multiply,subtract and divide two numbers."
      ]
    },
    {
      "cell_type": "code",
      "execution_count": null,
      "metadata": {
        "colab": {
          "base_uri": "https://localhost:8080/"
        },
        "id": "HADgGEyNhA7T",
        "outputId": "24d56e39-269b-463b-9170-43ec87c4b644"
      },
      "outputs": [
        {
          "name": "stdout",
          "output_type": "stream",
          "text": [
            "165 27 6624 1.391304347826087\n"
          ]
        }
      ],
      "source": [
        "a=96\n",
        "b=69\n",
        "c=a+b\n",
        "d=a-b\n",
        "e=a*b\n",
        "f=a/b\n",
        "print(c,d,e,f)"
      ]
    },
    {
      "cell_type": "markdown",
      "metadata": {
        "id": "gljhBAnMhRe4"
      },
      "source": [
        "6.)Convert hours into minutes."
      ]
    },
    {
      "cell_type": "code",
      "execution_count": null,
      "metadata": {
        "colab": {
          "base_uri": "https://localhost:8080/"
        },
        "id": "ZpVqf_NNhZ-r",
        "outputId": "a220440f-7eac-445d-8a67-22153376269e"
      },
      "outputs": [
        {
          "name": "stdout",
          "output_type": "stream",
          "text": [
            "2400\n"
          ]
        }
      ],
      "source": [
        "hours=40\n",
        "minutes=hours*60\n",
        "print(minutes)"
      ]
    },
    {
      "cell_type": "markdown",
      "metadata": {
        "id": "G0Z_xX5lhj9T"
      },
      "source": [
        "7.)Convert minutes into hours."
      ]
    },
    {
      "cell_type": "code",
      "execution_count": null,
      "metadata": {
        "colab": {
          "base_uri": "https://localhost:8080/"
        },
        "id": "2kG_PepMhmib",
        "outputId": "321d9002-2228-4297-f65e-d82b23f797cf"
      },
      "outputs": [
        {
          "name": "stdout",
          "output_type": "stream",
          "text": [
            "80.0\n"
          ]
        }
      ],
      "source": [
        "minutes=4800\n",
        "hours=minutes/60\n",
        "print(hours)"
      ]
    },
    {
      "cell_type": "markdown",
      "metadata": {
        "id": "Uf4ecsxjhvoC"
      },
      "source": [
        "8.)Convert dollars into Rs. Where 1 $ = 48 Rs."
      ]
    },
    {
      "cell_type": "code",
      "execution_count": null,
      "metadata": {
        "colab": {
          "base_uri": "https://localhost:8080/"
        },
        "id": "MAdjjeEoh0jM",
        "outputId": "ff4c7df1-61ac-4b34-d649-ab44605d04d5"
      },
      "outputs": [
        {
          "name": "stdout",
          "output_type": "stream",
          "text": [
            "479952\n"
          ]
        }
      ],
      "source": [
        "dollar=9999\n",
        "rs=dollar*48\n",
        "print(rs)"
      ]
    },
    {
      "cell_type": "markdown",
      "metadata": {
        "id": "UV4kU7r4iA0M"
      },
      "source": [
        "9.)Convert Rs. into dollars where 1 $ = 48 Rs."
      ]
    },
    {
      "cell_type": "code",
      "execution_count": null,
      "metadata": {
        "colab": {
          "base_uri": "https://localhost:8080/"
        },
        "id": "H_PB1J3EiD5z",
        "outputId": "7a084487-c89b-47fa-e23f-891fbab1405c"
      },
      "outputs": [
        {
          "name": "stdout",
          "output_type": "stream",
          "text": [
            "208333.3125\n"
          ]
        }
      ],
      "source": [
        "rs=9999999\n",
        "dollar=rs/48\n",
        "print(dollar)"
      ]
    },
    {
      "cell_type": "markdown",
      "metadata": {
        "id": "7Tda8ExliJsh"
      },
      "source": [
        "10.) Convert dollars into pound where 1 $ = 48 Rs. And 1 pound = 70 Rs."
      ]
    },
    {
      "cell_type": "code",
      "execution_count": null,
      "metadata": {
        "colab": {
          "base_uri": "https://localhost:8080/"
        },
        "id": "mJWGOcuMiNUK",
        "outputId": "21dd17d0-af8f-4796-e399-0984e3d30e38"
      },
      "outputs": [
        {
          "name": "stdout",
          "output_type": "stream",
          "text": [
            "6094.628571428571\n"
          ]
        }
      ],
      "source": [
        "dollar=8888\n",
        "rs=dollar*48\n",
        "pound=rs/70\n",
        "print(pound)"
      ]
    },
    {
      "cell_type": "markdown",
      "metadata": {
        "id": "TwS-pmPniVe_"
      },
      "source": [
        "11.) Convert grams into kg."
      ]
    },
    {
      "cell_type": "code",
      "execution_count": null,
      "metadata": {
        "colab": {
          "base_uri": "https://localhost:8080/"
        },
        "id": "4hcKv_VSiY7G",
        "outputId": "62c71664-f447-49a6-b035-f2d59c411da6"
      },
      "outputs": [
        {
          "name": "stdout",
          "output_type": "stream",
          "text": [
            "99.0\n"
          ]
        }
      ],
      "source": [
        "grams=99000\n",
        "kg=grams/1000\n",
        "print(kg)"
      ]
    },
    {
      "cell_type": "markdown",
      "metadata": {
        "id": "WruzRMEgifzv"
      },
      "source": [
        "12.) Convert kgs into grams."
      ]
    },
    {
      "cell_type": "code",
      "execution_count": null,
      "metadata": {
        "colab": {
          "base_uri": "https://localhost:8080/"
        },
        "id": "FXlX0y2gikXl",
        "outputId": "9fca05e2-08dd-4d99-9192-731bd2fc2c7e"
      },
      "outputs": [
        {
          "name": "stdout",
          "output_type": "stream",
          "text": [
            "8899000\n"
          ]
        }
      ],
      "source": [
        "kgs=8899\n",
        "grams=kgs*1000\n",
        "print(grams)"
      ]
    },
    {
      "cell_type": "markdown",
      "metadata": {
        "id": "L8jZBtUBiuRy"
      },
      "source": [
        "13.) Convert bytes into KB, MB and GB.\n"
      ]
    },
    {
      "cell_type": "code",
      "execution_count": null,
      "metadata": {
        "colab": {
          "base_uri": "https://localhost:8080/"
        },
        "id": "pQj--gDaiw8n",
        "outputId": "20145a16-9393-474d-c466-b7a1affda825"
      },
      "outputs": [
        {
          "name": "stdout",
          "output_type": "stream",
          "text": [
            "877.9189453125 0.8573427200317383 0.0008372487500309944\n"
          ]
        }
      ],
      "source": [
        "bytes=898989\n",
        "kb=bytes/1024\n",
        "mb=kb/1024\n",
        "gb=mb/1024\n",
        "print(kb,mb,gb)"
      ]
    },
    {
      "cell_type": "markdown",
      "metadata": {
        "id": "MSsfzBSPi-Bk"
      },
      "source": [
        "14.) Convert celcius into Fahrenheit. F = (9/5 * C) + 32"
      ]
    },
    {
      "cell_type": "code",
      "execution_count": null,
      "metadata": {
        "colab": {
          "base_uri": "https://localhost:8080/"
        },
        "id": "6doF4ga9jBQM",
        "outputId": "f8112966-99f9-4423-e732-8a66f5294253"
      },
      "outputs": [
        {
          "name": "stdout",
          "output_type": "stream",
          "text": [
            "210.20000000000002\n"
          ]
        }
      ],
      "source": [
        "celcius=99\n",
        "fahrenheit=(9/5*celcius)+32\n",
        "print(fahrenheit)"
      ]
    },
    {
      "cell_type": "markdown",
      "metadata": {
        "id": "6jAoulnWjI4X"
      },
      "source": [
        "15.) Convert Fahrenheit into celcius. C = 5/9 * (F – 32)"
      ]
    },
    {
      "cell_type": "code",
      "execution_count": null,
      "metadata": {
        "colab": {
          "base_uri": "https://localhost:8080/"
        },
        "id": "viRQbWrfjMA1",
        "outputId": "8f976447-165c-4aed-9138-3b865e5a84d2"
      },
      "outputs": [
        {
          "name": "stdout",
          "output_type": "stream",
          "text": [
            "537.2222222222223\n"
          ]
        }
      ],
      "source": [
        "fahrenheit=999\n",
        "celcius=5/9*(fahrenheit-32)\n",
        "print(celcius)"
      ]
    },
    {
      "cell_type": "markdown",
      "metadata": {
        "id": "NTIHp1efjVvz"
      },
      "source": [
        "16.) Calculate interest where I = PRN/100."
      ]
    },
    {
      "cell_type": "code",
      "execution_count": null,
      "metadata": {
        "colab": {
          "base_uri": "https://localhost:8080/"
        },
        "id": "fB4LGO-pjbA0",
        "outputId": "7beaa0a2-0f0d-4e25-ddbc-14c075e5623e"
      },
      "outputs": [
        {
          "name": "stdout",
          "output_type": "stream",
          "text": [
            "1000000.0\n"
          ]
        }
      ],
      "source": [
        "p=100000\n",
        "r=1000\n",
        "n=1\n",
        "i=p*r*n/100\n",
        "print(i)"
      ]
    },
    {
      "cell_type": "markdown",
      "metadata": {
        "id": "t0yr3obsjlG6"
      },
      "source": [
        "17.) Calculate area & perimeter of a square. A = L^2, P = 4L"
      ]
    },
    {
      "cell_type": "code",
      "execution_count": null,
      "metadata": {
        "colab": {
          "base_uri": "https://localhost:8080/"
        },
        "id": "_5_p1E4Rjo6x",
        "outputId": "e50a03cd-a0eb-47f9-88ba-317ad5249909"
      },
      "outputs": [
        {
          "name": "stdout",
          "output_type": "stream",
          "text": [
            "9216 384\n"
          ]
        }
      ],
      "source": [
        "l=96\n",
        "a=l**2\n",
        "p=4*l\n",
        "print(a,p)"
      ]
    },
    {
      "cell_type": "markdown",
      "metadata": {
        "id": "NcX9ftKgjwjU"
      },
      "source": [
        "18.) Calculate area & perimeter of a rectangle. A = L*B, P = 2 (L+B)"
      ]
    },
    {
      "cell_type": "code",
      "execution_count": null,
      "metadata": {
        "colab": {
          "base_uri": "https://localhost:8080/"
        },
        "id": "EXgI4hzFjzYp",
        "outputId": "d9b17abc-5837-4b7f-c049-a55ab1680c96"
      },
      "outputs": [
        {
          "name": "stdout",
          "output_type": "stream",
          "text": [
            "8188 362\n"
          ]
        }
      ],
      "source": [
        "l=92\n",
        "b=89\n",
        "a=l*b\n",
        "p=2*(l+b)\n",
        "print(a,p)"
      ]
    },
    {
      "cell_type": "markdown",
      "metadata": {
        "id": "y6bGc0aXj82j"
      },
      "source": [
        "19.) Calculate area of a circle. A = 22/7 * R * R\n"
      ]
    },
    {
      "cell_type": "code",
      "execution_count": null,
      "metadata": {
        "colab": {
          "base_uri": "https://localhost:8080/"
        },
        "id": "BN4RKZWuj_YB",
        "outputId": "91d4cbd6-de7a-4674-93f7-aa60034b3444"
      },
      "outputs": [
        {
          "name": "stdout",
          "output_type": "stream",
          "text": [
            "16292.571428571428\n"
          ]
        }
      ],
      "source": [
        "r=72\n",
        "a=22/7*r*r\n",
        "print(a)"
      ]
    },
    {
      "cell_type": "markdown",
      "metadata": {
        "id": "TS5O7_k-kLpw"
      },
      "source": [
        "20.) Calculate area of a triangle. A = H*L/2"
      ]
    },
    {
      "cell_type": "code",
      "execution_count": null,
      "metadata": {
        "colab": {
          "base_uri": "https://localhost:8080/"
        },
        "id": "F2UN-FWjkOOu",
        "outputId": "bb9acac3-a7c9-463b-fd9d-05ceabf7d408"
      },
      "outputs": [
        {
          "name": "stdout",
          "output_type": "stream",
          "text": [
            "2082.5\n"
          ]
        }
      ],
      "source": [
        "h=85\n",
        "l=49\n",
        "a=h*l/2\n",
        "print(a)"
      ]
    },
    {
      "cell_type": "markdown",
      "metadata": {
        "id": "AGuczJX0k74B"
      },
      "source": [
        "21.) Calculate net salary where net salary = gross salary + allowance – deduction. Allowances are\n",
        "10% while deductions are 3% of gross salary.\n"
      ]
    },
    {
      "cell_type": "code",
      "execution_count": null,
      "metadata": {
        "colab": {
          "base_uri": "https://localhost:8080/"
        },
        "id": "CM11i0MClBPJ",
        "outputId": "a2a5dbf9-5e70-46ea-8764-f92fd524ba67"
      },
      "outputs": [
        {
          "name": "stdout",
          "output_type": "stream",
          "text": [
            "1069998.93\n"
          ]
        }
      ],
      "source": [
        "gs=999999\n",
        "a=gs*10/100\n",
        "d=gs*3/100\n",
        "ns=gs+a-d\n",
        "print(ns)"
      ]
    },
    {
      "cell_type": "markdown",
      "metadata": {
        "id": "0p5bnp-nmNj_"
      },
      "source": [
        "22.) Calculate net sales where net sales = gross sales – 10% discount of gross sales.\n"
      ]
    },
    {
      "cell_type": "code",
      "execution_count": null,
      "metadata": {
        "colab": {
          "base_uri": "https://localhost:8080/"
        },
        "id": "U4pnJhNLmSRK",
        "outputId": "91a7dd0f-5f19-4ffd-d615-818d75e3edb8"
      },
      "outputs": [
        {
          "name": "stdout",
          "output_type": "stream",
          "text": [
            "899999.1\n"
          ]
        }
      ],
      "source": [
        "gs=999999\n",
        "d=gs*10/100\n",
        "ns=gs-d\n",
        "print(ns)"
      ]
    },
    {
      "cell_type": "markdown",
      "metadata": {
        "id": "X1swrXA9kWel"
      },
      "source": [
        "23.) Calculate average of three subjects along with their total.\n"
      ]
    },
    {
      "cell_type": "code",
      "execution_count": null,
      "metadata": {
        "colab": {
          "base_uri": "https://localhost:8080/"
        },
        "id": "IiMgsovMkaI9",
        "outputId": "600e805f-62e8-4d42-b80b-0551e7ae4e9c"
      },
      "outputs": [
        {
          "name": "stdout",
          "output_type": "stream",
          "text": [
            "294 98.0\n"
          ]
        }
      ],
      "source": [
        "maths=98\n",
        "chemistry=99\n",
        "physics=97\n",
        "total=maths+chemistry+physics\n",
        "average=total/3\n",
        "print(total,average)"
      ]
    },
    {
      "cell_type": "markdown",
      "metadata": {
        "id": "PvI9eXuskgsK"
      },
      "source": [
        "24.) Swap two values.\n"
      ]
    },
    {
      "cell_type": "code",
      "execution_count": null,
      "metadata": {
        "colab": {
          "base_uri": "https://localhost:8080/"
        },
        "id": "lOSFrqU6knm8",
        "outputId": "6cb83dd9-e7e9-4ec9-a7e3-f55efd2c07d1"
      },
      "outputs": [
        {
          "name": "stdout",
          "output_type": "stream",
          "text": [
            "8899 9988\n"
          ]
        }
      ],
      "source": [
        "v1=9988\n",
        "v2=8899\n",
        "temp=v1\n",
        "v1=v2\n",
        "v2=temp\n",
        "print(v1,v2)"
      ]
    },
    {
      "cell_type": "markdown",
      "metadata": {
        "id": "T41psuo_mhrX"
      },
      "source": [
        "*****If-else conditionals.*****"
      ]
    },
    {
      "cell_type": "markdown",
      "metadata": {
        "id": "oqmiE5zmJYB1"
      },
      "source": [
        "1.)Print largest and smallest values out of two.\n"
      ]
    },
    {
      "cell_type": "code",
      "execution_count": null,
      "metadata": {
        "colab": {
          "base_uri": "https://localhost:8080/"
        },
        "id": "-t2B-VJYJbg6",
        "outputId": "e4be5183-7103-48ac-bba5-6ccd1ae169f1"
      },
      "outputs": [
        {
          "name": "stdout",
          "output_type": "stream",
          "text": [
            "num1 is smallest\n",
            "num2 is largest values\n"
          ]
        }
      ],
      "source": [
        "num1= 32\n",
        "num2 = 54\n",
        "if (num1>num2):\n",
        " print(\"Num1 is largest values\")\n",
        "else:\n",
        " print(\"num1 is smallest\")\n",
        "if(num2>num1):\n",
        " print(\"num2 is largest values\")\n",
        "else:\n",
        " print(\"num2 is smallest\")"
      ]
    },
    {
      "cell_type": "markdown",
      "metadata": {
        "id": "1lpuLfF3KEKq"
      },
      "source": [
        "2.) Print largest and smallest values out of three."
      ]
    },
    {
      "cell_type": "code",
      "execution_count": null,
      "metadata": {
        "colab": {
          "base_uri": "https://localhost:8080/"
        },
        "id": "q50l15cUKGcd",
        "outputId": "89a20fa0-3319-42c8-ee40-a6e156cce6d2"
      },
      "outputs": [
        {
          "name": "stdout",
          "output_type": "stream",
          "text": [
            "num1 is smallest\n",
            "num2 is smallest\n",
            "num3 is largest\n"
          ]
        }
      ],
      "source": [
        "num1 = 99\n",
        "num2 = 999\n",
        "num3 = 9999\n",
        "if(num1>num2 and num1 >num3):\n",
        " print(\"num1 is largest values\")\n",
        "else:\n",
        " print(\"num1 is smallest\")\n",
        "if(num2>num3 and num2>num1):\n",
        " print(\"num2 is largest values\")\n",
        "else:\n",
        " print(\"num2 is smallest\")\n",
        "if(num3>num1 and num3>num2):\n",
        " print(\"num3 is largest\")\n",
        "else:\n",
        " print(\"num3 is smallest\")"
      ]
    },
    {
      "cell_type": "markdown",
      "metadata": {
        "id": "kVQlVscpKNr3"
      },
      "source": [
        "3.) Check whether a given number is odd or even"
      ]
    },
    {
      "cell_type": "code",
      "execution_count": null,
      "metadata": {
        "colab": {
          "base_uri": "https://localhost:8080/"
        },
        "id": "vcRsi6KkKQNG",
        "outputId": "ab9df6c6-6f89-46fc-8c44-cfce513e8580"
      },
      "outputs": [
        {
          "name": "stdout",
          "output_type": "stream",
          "text": [
            "odd\n"
          ]
        }
      ],
      "source": [
        "num = 399\n",
        "if(num%2==0):\n",
        " print(\"Even\")\n",
        "else:\n",
        " print(\"odd\")"
      ]
    },
    {
      "cell_type": "markdown",
      "metadata": {
        "id": "PHUguIRqLawX"
      },
      "source": [
        "4.) Check whether a given number is divisible by 10 or not."
      ]
    },
    {
      "cell_type": "code",
      "execution_count": null,
      "metadata": {
        "colab": {
          "base_uri": "https://localhost:8080/"
        },
        "id": "1sIgtHrbLdUQ",
        "outputId": "d401e8ae-c3c2-4c06-ecd9-3476e145a18d"
      },
      "outputs": [
        {
          "name": "stdout",
          "output_type": "stream",
          "text": [
            "not it is not divisiable by 10\n"
          ]
        }
      ],
      "source": [
        "num = 459\n",
        "if(num%10==0):\n",
        " print(\"it is divisiable by 10\")\n",
        "else:\n",
        " print(\"not it is not divisiable by 10\")\n"
      ]
    },
    {
      "cell_type": "markdown",
      "metadata": {
        "id": "HcKMp0hNL160"
      },
      "source": [
        "5.) Accept age of a person. If age is less than 18, print minor otherwise Major."
      ]
    },
    {
      "cell_type": "code",
      "execution_count": null,
      "metadata": {
        "colab": {
          "base_uri": "https://localhost:8080/"
        },
        "id": "3Tx_6DDnL33O",
        "outputId": "7c5818f3-7faa-470d-d548-3861719390f5"
      },
      "outputs": [
        {
          "name": "stdout",
          "output_type": "stream",
          "text": [
            "Enter the age of person:19\n",
            "major\n"
          ]
        }
      ],
      "source": [
        "age = int(input(\"Enter the age of person:\"))\n",
        "if(age<18):\n",
        " print(\"minor\")\n",
        "else:\n",
        " print(\"major\")"
      ]
    },
    {
      "cell_type": "markdown",
      "metadata": {
        "id": "TCOexYpAMERN"
      },
      "source": [
        "6.) Accept a number from the user. And print number of digits in it."
      ]
    },
    {
      "cell_type": "code",
      "execution_count": null,
      "metadata": {
        "colab": {
          "base_uri": "https://localhost:8080/"
        },
        "id": "ABhqRF4UMKal",
        "outputId": "5edff5ea-b243-48e3-98ae-de8e5af09b87"
      },
      "outputs": [
        {
          "name": "stdout",
          "output_type": "stream",
          "text": [
            "Enter the numbers:999\n",
            "3\n"
          ]
        }
      ],
      "source": [
        "number = input(\"Enter the numbers:\")\n",
        "print(len(number))\n"
      ]
    },
    {
      "cell_type": "markdown",
      "metadata": {
        "id": "GBsd7kLFMRr0"
      },
      "source": [
        "7.) Accept a year value from the user. Check whether it is a leap year or not.\n"
      ]
    },
    {
      "cell_type": "code",
      "execution_count": null,
      "metadata": {
        "colab": {
          "base_uri": "https://localhost:8080/"
        },
        "id": "QE2MtL-NMUP7",
        "outputId": "0f3e2e03-4d19-4295-d290-0a31022519da"
      },
      "outputs": [
        {
          "name": "stdout",
          "output_type": "stream",
          "text": [
            "Enter the year:2007\n",
            "it is not leap year\n"
          ]
        }
      ],
      "source": [
        "year = int(input(\"Enter the year:\"))\n",
        "if( year % 4 == 0 and ( year % 400 == 0 or year % 100 != 0 )):\n",
        " print(\"it is a leap year\")\n",
        "else:\n",
        " print(\"it is not leap year\")"
      ]
    },
    {
      "cell_type": "markdown",
      "metadata": {
        "id": "vR0aw-E_Mcdb"
      },
      "source": [
        "8.) Check whether a triangle is valid or not, when the three angles of the triangle are entered\n",
        "through the keyboard. A triangle is valid if te sum of all the three angles is equal to 180 degrees."
      ]
    },
    {
      "cell_type": "code",
      "execution_count": null,
      "metadata": {
        "colab": {
          "base_uri": "https://localhost:8080/"
        },
        "id": "WbjJRR5eMhg1",
        "outputId": "ad2aafe8-c439-48e7-ec23-bb917b879c8d"
      },
      "outputs": [
        {
          "name": "stdout",
          "output_type": "stream",
          "text": [
            "Enter the 1st side:80\n",
            "Enter the 2nd side:50\n",
            "Enter the 3rd side:50\n",
            "triange is valid\n"
          ]
        }
      ],
      "source": [
        "side1 = int(input(\"Enter the 1st side:\"))\n",
        "side2 = int(input(\"Enter the 2nd side:\"))\n",
        "side3 = int(input(\"Enter the 3rd side:\"))\n",
        "if(side1 + side2 +side3 == 180):\n",
        " print(\"triange is valid\")\n",
        "else:\n",
        " print(\"triange is invalid\")"
      ]
    },
    {
      "cell_type": "markdown",
      "metadata": {
        "id": "8U4qXUKNM9tV"
      },
      "source": [
        "9.) Print absolute value of a given number."
      ]
    },
    {
      "cell_type": "code",
      "execution_count": null,
      "metadata": {
        "colab": {
          "base_uri": "https://localhost:8080/"
        },
        "id": "U-2Az5qiNAJL",
        "outputId": "261f01a0-ee13-4846-9a6e-372ba66abe19"
      },
      "outputs": [
        {
          "name": "stdout",
          "output_type": "stream",
          "text": [
            "9090\n"
          ]
        }
      ],
      "source": [
        "num = -9090\n",
        "print(abs(num))\n"
      ]
    },
    {
      "cell_type": "markdown",
      "metadata": {
        "id": "_6jgDxZ1NE_H"
      },
      "source": [
        "10.) Given the length and breadth of a rectangle, write a program to find whether theare of the\n",
        "rectangle is greater than its perimeter.\n"
      ]
    },
    {
      "cell_type": "code",
      "execution_count": null,
      "metadata": {
        "colab": {
          "base_uri": "https://localhost:8080/"
        },
        "id": "p-agqmLtNHa9",
        "outputId": "77f3165f-448b-4683-da23-06598ba094cb"
      },
      "outputs": [
        {
          "name": "stdout",
          "output_type": "stream",
          "text": [
            "area is greater than perimeter\n"
          ]
        }
      ],
      "source": [
        "length = 890\n",
        "breath = 89\n",
        "area = length * breath\n",
        "perimeter = 2*(length + breath)\n",
        "if(area > perimeter):\n",
        " print('area is greater than perimeter')\n",
        "else:\n",
        " print('area is smaller than perimeter')"
      ]
    },
    {
      "cell_type": "markdown",
      "metadata": {
        "id": "4daAvKIgNMG_"
      },
      "source": [
        "11.) Given three points (x1,y1), (x2,y2) and (x3,y3), check if all the three points fall on one straight\n",
        "line\n"
      ]
    },
    {
      "cell_type": "code",
      "execution_count": null,
      "metadata": {
        "colab": {
          "base_uri": "https://localhost:8080/"
        },
        "id": "GQPW48m7NNzt",
        "outputId": "306350a5-f379-4f64-c017-11c5b46b8041"
      },
      "outputs": [
        {
          "name": "stdout",
          "output_type": "stream",
          "text": [
            "all the points dont fall on one stright line\n"
          ]
        }
      ],
      "source": [
        "x1 = 99\n",
        "x2 = 70\n",
        "x3 =96\n",
        "y1 =35\n",
        "y2 = 44\n",
        "y3 =72\n",
        "a = (x1*(y2-y3))+(x2*(y3-y1))+(x3*(y1-y2))\n",
        "if (a == 0):\n",
        " print('all the points fall on one stright line')\n",
        "else:\n",
        " print(\"all the points dont fall on one stright line\")"
      ]
    },
    {
      "cell_type": "markdown",
      "metadata": {
        "id": "OZAeehLdNWZ5"
      },
      "source": [
        "12.) Given the coordinates (x,y) of center of a circle and its radius, determine whether a point lies\n",
        "inside the circle, on the circle or outside the circle. (Hint: Use sqrt( ), pow( ) )"
      ]
    },
    {
      "cell_type": "code",
      "execution_count": null,
      "metadata": {
        "colab": {
          "base_uri": "https://localhost:8080/"
        },
        "id": "-08bHxPgNYvs",
        "outputId": "979c290a-994f-41a2-a542-43a143cfad23"
      },
      "outputs": [
        {
          "name": "stdout",
          "output_type": "stream",
          "text": [
            "The point (99, 99) is on the circle.\n"
          ]
        }
      ],
      "source": [
        "import math\n",
        "circle_m = 99\n",
        "circle_n = 198\n",
        "radius = 99\n",
        "point_m = 99\n",
        "point_n = 99\n",
        "distance = math.sqrt(math.pow(point_m - circle_m, 2) +\n",
        "math.pow(point_n - circle_n, 2))\n",
        "if distance < radius:\n",
        " print(f\"The point ({point_m}, {point_n}) is inside the circle.\")\n",
        "elif distance == radius:\n",
        " print(f\"The point ({point_m}, {point_n}) is on the circle.\")\n",
        "else:\n",
        " print(f\"The point ({point_m}, {point_n}) is outside the circle.\")"
      ]
    },
    {
      "cell_type": "markdown",
      "metadata": {
        "id": "qfoM5HKQNc1d"
      },
      "source": [
        "13.) Convert number 0 to 19 to its equivalent words. E.g. 0  zero, 19nineteen."
      ]
    },
    {
      "cell_type": "code",
      "execution_count": null,
      "metadata": {
        "colab": {
          "base_uri": "https://localhost:8080/"
        },
        "id": "E1iJLbNQNlqt",
        "outputId": "abe136ff-b6ce-483a-85e7-9c6eb4ae029f"
      },
      "outputs": [
        {
          "name": "stdout",
          "output_type": "stream",
          "text": [
            "The number 19 is written as'nineteen'.\n"
          ]
        }
      ],
      "source": [
        "numbers = 19\n",
        "numbers_word = [\n",
        " \"zero\", \"one\", \"two\", \"three\", \"four\", \"five\", \"six\", \"seven\",\n",
        "\"eight\", \"nine\",\n",
        " \"ten\", \"eleven\", \"twelve\", \"thirteen\", \"fourteen\", \"fifteen\",\n",
        "\"sixteen\",\n",
        " \"seventeen\", \"eighteen\", \"nineteen\"\n",
        "]\n",
        "if 0 <= numbers <= 19:\n",
        " print(f\"The number {numbers} is written as'{numbers_word[numbers]}'.\")\n",
        "else:\n",
        " print(\"Number is out of range (0-19).\")\n"
      ]
    },
    {
      "cell_type": "markdown",
      "metadata": {
        "id": "GsMf4rSuOM_e"
      },
      "source": [
        "14.) Accept marks of three subjects. Print total and average along with whether a candidate has\n",
        "passed or fail. If student secures <= 39 marks in any subject, consider him as fail. Also assigned a\n",
        "subject wise grade based on the following table: bold text"
      ]
    },
    {
      "cell_type": "code",
      "execution_count": null,
      "metadata": {
        "colab": {
          "base_uri": "https://localhost:8080/"
        },
        "id": "ebFN6DDLOPbY",
        "outputId": "4a8914b1-c946-4538-853e-55c55e6b0591"
      },
      "outputs": [
        {
          "name": "stdout",
          "output_type": "stream",
          "text": [
            "Enter the maths marks:87\n",
            "Enter the chemistry marks:78\n",
            "Enter the physics marks:99\n",
            "O\n"
          ]
        }
      ],
      "source": [
        "sub1 = int(input(\"Enter the maths marks:\"))\n",
        "sub2 = int(input(\"Enter the chemistry marks:\"))\n",
        "sub3 = int(input(\"Enter the physics marks:\"))\n",
        "sum = ( sub1 + sub2 + sub3 ) / 3\n",
        "if(sub1 <= 39 or sub2 <=39 or sub3<=39):\n",
        " print(\"Fail\")\n",
        "elif(sum>= 40 and sum <=44 ):\n",
        " print(\"P\")\n",
        "elif(sum>= 45 and sum <=49 ):\n",
        " print(\"C\")\n",
        "elif(sum>= 50 and sum <=54 ):\n",
        " print(\"B\")\n",
        "elif(sum>= 55 and sum <=59 ):\n",
        " print(\"B+\")\n",
        "elif(sum>= 60 and sum <= 69 ):\n",
        " print(\"A\")\n",
        "elif(sum>= 70 and sum <= 79):\n",
        " print(\"A+\")\n",
        "elif(sum>= 80 and sum <=100 ):\n",
        " print(\"O\")\n",
        "else:\n",
        " print(\"good\")\n"
      ]
    },
    {
      "cell_type": "markdown",
      "metadata": {
        "id": "3YHt-fZ6L3ND"
      },
      "source": [
        "loops :-"
      ]
    },
    {
      "cell_type": "markdown",
      "metadata": {
        "id": "l0Z8Pug4Lk5D"
      },
      "source": [
        "1)\tPrint all alphabets in upper case and in lower case."
      ]
    },
    {
      "cell_type": "code",
      "execution_count": null,
      "metadata": {
        "colab": {
          "base_uri": "https://localhost:8080/"
        },
        "id": "zxe0q-z-L5md",
        "outputId": "51ccf6cd-8121-44cb-915a-1c071ce8b292"
      },
      "outputs": [
        {
          "name": "stdout",
          "output_type": "stream",
          "text": [
            "Upper case alphabets:\n",
            "A B C D E F G H I J K L M N O P Q R S T U V W X Y Z \n",
            "Lower case alphabets:\n",
            "a b c d e f g h i j k l m n o p q r s t u v w x y z \n"
          ]
        }
      ],
      "source": [
        "print(\"Upper case alphabets:\")\n",
        "for l in range(65, 91):  # ASCII values for A to Z\n",
        "    print(chr(l), end=\" \")\n",
        "print()\n",
        "\n",
        "print(\"Lower case alphabets:\")\n",
        "for l in range(97, 123):  # ASCII values for a to z\n",
        "    print(chr(l), end=\" \")\n",
        "print()"
      ]
    },
    {
      "cell_type": "markdown",
      "metadata": {
        "id": "xG1xX1zGNhpy"
      },
      "source": [
        "2)\tPrint a multiplication table of a given number."
      ]
    },
    {
      "cell_type": "code",
      "execution_count": null,
      "metadata": {
        "colab": {
          "base_uri": "https://localhost:8080/"
        },
        "id": "Tt9-HKn3NuhW",
        "outputId": "6626c258-55c5-4d87-80f4-fcd9e1a484b5"
      },
      "outputs": [
        {
          "name": "stdout",
          "output_type": "stream",
          "text": [
            "Enter a number: 999\n",
            "Multiplication Table for 999:\n",
            "999 x 1 = 999\n",
            "999 x 2 = 1998\n",
            "999 x 3 = 2997\n",
            "999 x 4 = 3996\n",
            "999 x 5 = 4995\n",
            "999 x 6 = 5994\n",
            "999 x 7 = 6993\n",
            "999 x 8 = 7992\n",
            "999 x 9 = 8991\n",
            "999 x 10 = 9990\n"
          ]
        }
      ],
      "source": [
        "def print_multiplication_table(number):\n",
        "    print(f\"Multiplication Table for {number}:\")\n",
        "    for m in range(1, 11):\n",
        "        print(f\"{number} x {m} = {number * m}\")\n",
        "\n",
        "number = int(input(\"Enter a number: \"))\n",
        "print_multiplication_table(number)"
      ]
    },
    {
      "cell_type": "markdown",
      "metadata": {
        "id": "gUIRpSHuPD6s"
      },
      "source": [
        "3)\tCount no. of alphabets and no. of digits in any given string."
      ]
    },
    {
      "cell_type": "code",
      "execution_count": null,
      "metadata": {
        "colab": {
          "base_uri": "https://localhost:8080/"
        },
        "id": "_GEKiN6pPKxS",
        "outputId": "172d42ac-b89c-4fc7-be6d-9c6d4e5a5e4d"
      },
      "outputs": [
        {
          "name": "stdout",
          "output_type": "stream",
          "text": [
            "Enter a string: hello friends 9999\n",
            "Number of alphabets: 12\n",
            "Number of digits: 4\n"
          ]
        }
      ],
      "source": [
        "def count_digits_of_alphabets(input_string):\n",
        "    alphabt_of_counte = 0\n",
        "    digit_of_count = 0\n",
        "\n",
        "    for char in input_string:\n",
        "        if char.isalpha():\n",
        "            alphabt_of_counte += 1\n",
        "        elif char.isdigit():\n",
        "            digit_of_count += 1\n",
        "\n",
        "    return alphabt_of_counte, digit_of_count\n",
        "input_of_string = input(\"Enter a string: \")\n",
        "alphabets, digits = count_digits_of_alphabets(input_of_string)\n",
        "\n",
        "print(f\"Number of alphabets: {alphabets}\")\n",
        "print(f\"Number of digits: {digits}\")"
      ]
    },
    {
      "cell_type": "markdown",
      "metadata": {
        "id": "5BVxkGlTS9b9"
      },
      "source": [
        "4)\tCheck whether a given number is prime, is perfect, is Armstrong, is palindrome, is automorphic."
      ]
    },
    {
      "cell_type": "code",
      "execution_count": null,
      "metadata": {
        "colab": {
          "base_uri": "https://localhost:8080/"
        },
        "id": "10H2i7QpR8YP",
        "outputId": "48f6be26-3e93-4c8e-9418-1719ed54cbf2"
      },
      "outputs": [
        {
          "name": "stdout",
          "output_type": "stream",
          "text": [
            "Enter a number: 98989\n",
            "Is 98989 prime? No\n",
            "Is 98989 perfect? No\n",
            "Is 98989 Armstrong? No\n",
            "Is 98989 palindrome? Yes\n",
            "Is 98989 automorphic? No\n"
          ]
        }
      ],
      "source": [
        "def is_prime(num):\n",
        "    if num <= 1:\n",
        "        return False\n",
        "    for b in range(2, int(num ** 0.5) + 1):\n",
        "        if num % b == 0:\n",
        "            return False\n",
        "    return True\n",
        "\n",
        "def is_perfect(num):\n",
        "    if num <= 0:\n",
        "        return False\n",
        "    sum_of_divisors = 0\n",
        "    for b in range(1, num):\n",
        "        if num % b== 0:\n",
        "            sum_of_divisors += b\n",
        "    return sum_of_divisors == num\n",
        "\n",
        "def is_armstrong(num):\n",
        "    num_str = str(num)\n",
        "    num_length = len(num_str)\n",
        "    sum_of_powers = 0\n",
        "    for digit in num_str:\n",
        "        sum_of_powers += int(digit) ** num_length\n",
        "    return sum_of_powers == num\n",
        "\n",
        "def is_palindrome(num):\n",
        "    num_str = str(num)\n",
        "    return num_str == num_str[::-1]\n",
        "\n",
        "def is_automorphic(num):\n",
        "    num_str = str(num)\n",
        "    square_str = str(num ** 2)\n",
        "    return square_str.endswith(num_str)\n",
        "\n",
        "number = int(input(\"Enter a number: \"))\n",
        "\n",
        "print(f\"Is {number} prime? {'Yes' if is_prime(number) else 'No'}\")\n",
        "print(f\"Is {number} perfect? {'Yes' if is_perfect(number) else 'No'}\")\n",
        "print(f\"Is {number} Armstrong? {'Yes' if is_armstrong(number) else 'No'}\")\n",
        "print(f\"Is {number} palindrome? {'Yes' if is_palindrome(number) else 'No'}\")\n",
        "print(f\"Is {number} automorphic? {'Yes' if is_automorphic(number) else 'No'}\")"
      ]
    },
    {
      "cell_type": "markdown",
      "metadata": {
        "id": "9xqu3h1YUR3B"
      },
      "source": [
        "5)\tGenerate all Pythagorean Triplets with side length <= 30."
      ]
    },
    {
      "cell_type": "code",
      "execution_count": null,
      "metadata": {
        "colab": {
          "base_uri": "https://localhost:8080/"
        },
        "id": "eM2DVjZMUU8R",
        "outputId": "75e28aa3-3ebd-4306-87f3-2114702bbacc"
      },
      "outputs": [
        {
          "name": "stdout",
          "output_type": "stream",
          "text": [
            "Pythagorean triplets with side lengths <= 30:\n",
            "(3, 4, 5)\n",
            "(5, 12, 13)\n",
            "(6, 8, 10)\n",
            "(7, 24, 25)\n",
            "(8, 15, 17)\n",
            "(9, 12, 15)\n",
            "(10, 24, 26)\n",
            "(12, 16, 20)\n",
            "(15, 20, 25)\n",
            "(18, 24, 30)\n",
            "(20, 21, 29)\n"
          ]
        }
      ],
      "source": [
        "def generate_pythagorean_triplets(limit):\n",
        "    triplets = []\n",
        "    for a in range(1, limit + 1):\n",
        "        for b in range(a, limit + 1):\n",
        "            c = (a ** 2 + b ** 2) ** 0.5\n",
        "            if c.is_integer() and c <= limit:\n",
        "                triplets.append((a, b, int(c)))\n",
        "    return triplets\n",
        "\n",
        "limit = 30\n",
        "triplets = generate_pythagorean_triplets(limit)\n",
        "\n",
        "print(f\"Pythagorean triplets with side lengths <= {limit}:\")\n",
        "for triplet in triplets:\n",
        "    print(triplet)"
      ]
    },
    {
      "cell_type": "markdown",
      "metadata": {
        "id": "tUao9R0KVHEI"
      },
      "source": [
        "6)\tPrint 24 hours of day with suitable suffixes like AM, PM, Noon and Midnight."
      ]
    },
    {
      "cell_type": "code",
      "execution_count": null,
      "metadata": {
        "colab": {
          "base_uri": "https://localhost:8080/"
        },
        "id": "Udnqr7FEVNXf",
        "outputId": "f14352d2-5110-4052-a861-c6ee8e3a32d0"
      },
      "outputs": [
        {
          "name": "stdout",
          "output_type": "stream",
          "text": [
            "12 Midnight\n",
            "1 AM\n",
            "2 AM\n",
            "3 AM\n",
            "4 AM\n",
            "5 AM\n",
            "6 AM\n",
            "7 AM\n",
            "8 AM\n",
            "9 AM\n",
            "10 AM\n",
            "11 AM\n",
            "12 Noon\n",
            "1 PM\n",
            "2 PM\n",
            "3 PM\n",
            "4 PM\n",
            "5 PM\n",
            "6 PM\n",
            "7 PM\n",
            "8 PM\n",
            "9 PM\n",
            "10 PM\n",
            "11 PM\n"
          ]
        }
      ],
      "source": [
        "def print_24_hours_with_suffixes():\n",
        "    for hour in range(0, 24):\n",
        "        if hour == 0:\n",
        "            print(\"12 Midnight\")\n",
        "        elif hour < 12:\n",
        "            print(f\"{hour} AM\")\n",
        "        elif hour == 12:\n",
        "            print(\"12 Noon\")\n",
        "        else:\n",
        "            print(f\"{hour - 12} PM\")\n",
        "\n",
        "print_24_hours_with_suffixes()"
      ]
    },
    {
      "cell_type": "markdown",
      "metadata": {
        "id": "LzlUdQpRVnZC"
      },
      "source": [
        "7)\tPrint nCr and nPr."
      ]
    },
    {
      "cell_type": "code",
      "execution_count": null,
      "metadata": {
        "colab": {
          "base_uri": "https://localhost:8080/"
        },
        "id": "QaJC62YGVwtF",
        "outputId": "2bd8215c-f958-4e44-ba24-229feee84128"
      },
      "outputs": [
        {
          "name": "stdout",
          "output_type": "stream",
          "text": [
            "Enter the value of n: 5\n",
            "Enter the value of r: 2\n",
            "5C2 = 10\n",
            "5P2 = 20\n"
          ]
        }
      ],
      "source": [
        "def factorial(n):\n",
        "    result = 1\n",
        "    for y in range(1, n + 1):\n",
        "        result *= y\n",
        "    return result\n",
        "\n",
        "def nCr(n, r):\n",
        "    return factorial(n) // (factorial(r) * factorial(n - r))\n",
        "\n",
        "def nPr(n, r):\n",
        "    return factorial(n) // factorial(n - r)\n",
        "2\n",
        "n = int(input(\"Enter the value of n: \"))\n",
        "r = int(input(\"Enter the value of r: \"))\n",
        "\n",
        "print(f\"{n}C{r} = {nCr(n, r)}\")\n",
        "print(f\"{n}P{r} = {nPr(n, r)}\")"
      ]
    },
    {
      "cell_type": "markdown",
      "metadata": {
        "id": "XZbBPUx7XTh3"
      },
      "source": [
        "8)\tPrint factorial of a given number."
      ]
    },
    {
      "cell_type": "code",
      "execution_count": null,
      "metadata": {
        "colab": {
          "base_uri": "https://localhost:8080/"
        },
        "id": "DsNrelOfXWkN",
        "outputId": "418b322d-91ba-4061-e7ae-f76b4f3dd1b7"
      },
      "outputs": [
        {
          "name": "stdout",
          "output_type": "stream",
          "text": [
            "Enter a number: 26\n",
            "The factorial of 26 is 403291461126605635584000000\n"
          ]
        }
      ],
      "source": [
        "def factorial(num):\n",
        "    result = 1\n",
        "    for u in range(1, num + 1):\n",
        "        result *= u\n",
        "    return result\n",
        "\n",
        "number = int(input(\"Enter a number: \"))\n",
        "print(f\"The factorial of {number} is {factorial(number)}\")"
      ]
    },
    {
      "cell_type": "markdown",
      "metadata": {
        "id": "A0RGZBYQYUDm"
      },
      "source": [
        "9)\tPrint N natural nos. in reverse."
      ]
    },
    {
      "cell_type": "code",
      "execution_count": null,
      "metadata": {
        "colab": {
          "base_uri": "https://localhost:8080/"
        },
        "id": "pQb7-CMdYag7",
        "outputId": "02d47ce8-99a2-43a9-8203-101ea3d35441"
      },
      "outputs": [
        {
          "name": "stdout",
          "output_type": "stream",
          "text": [
            "Enter the value of N: 48\n",
            "The first 48 natural numbers in reverse order are:\n",
            "48 47 46 45 44 43 42 41 40 39 38 37 36 35 34 33 32 31 30 29 28 27 26 25 24 23 22 21 20 19 18 17 16 15 14 13 12 11 10 9 8 7 6 5 4 3 2 1 \n"
          ]
        }
      ],
      "source": [
        "def print_natural_numbers_reverse(N):\n",
        "    for w in range(N, 0, -1):\n",
        "        print(w, end=\" \")\n",
        "    print()\n",
        "\n",
        "N = int(input(\"Enter the value of N: \"))\n",
        "print(f\"The first {N} natural numbers in reverse order are:\")\n",
        "print_natural_numbers_reverse(N)"
      ]
    },
    {
      "cell_type": "markdown",
      "metadata": {
        "id": "iojY309HaYkJ"
      },
      "source": [
        "10)\tGenerate N numbers of Fibonacci series."
      ]
    },
    {
      "cell_type": "code",
      "execution_count": null,
      "metadata": {
        "colab": {
          "base_uri": "https://localhost:8080/"
        },
        "id": "Giig1qtNaZKY",
        "outputId": "1f24225d-268f-432f-df14-2a24d322ab36"
      },
      "outputs": [
        {
          "name": "stdout",
          "output_type": "stream",
          "text": [
            "Enter the value of m: 9\n",
            "The first 9 numbers of the Fibonacci series are:\n",
            "[0, 1, 1, 2, 3, 5, 8, 13, 21]\n"
          ]
        }
      ],
      "source": [
        "def generate_fibonacci_series(m):\n",
        "    fibonacci_series = []\n",
        "    a, b = 0, 1\n",
        "    for _ in range(m):\n",
        "        fibonacci_series.append(a)\n",
        "        a, b = b, a + b\n",
        "    return fibonacci_series\n",
        "\n",
        "m = int(input(\"Enter the value of m: \"))\n",
        "fibonacci_series = generate_fibonacci_series(m)\n",
        "\n",
        "print(f\"The first {m} numbers of the Fibonacci series are:\")\n",
        "print(fibonacci_series)"
      ]
    },
    {
      "cell_type": "markdown",
      "metadata": {
        "id": "N-SYmu4nai0C"
      },
      "source": [
        "11)\tCalculate sin(x); x is a radian value. The formula is as under:\n",
        "                          sin(x)=x-x^3/3!+x^5/5!-x^7/7!.....\n",
        "                          \t(hint: degrees can be converted into radians by 3.14159 / 180.)"
      ]
    },
    {
      "cell_type": "code",
      "execution_count": null,
      "metadata": {
        "colab": {
          "base_uri": "https://localhost:8080/"
        },
        "id": "V5SdhBv9dXlv",
        "outputId": "33cd7e6b-e6b5-49f2-ed8b-0d5932cdeee9"
      },
      "outputs": [
        {
          "name": "stdout",
          "output_type": "stream",
          "text": [
            "Enter the angle in degrees: 90\n",
            "sin(90.0 degrees) = 1.0\n"
          ]
        }
      ],
      "source": [
        "import math\n",
        "\n",
        "def factorial(m):\n",
        "    result = 1\n",
        "    for i in range(1, m + 1):\n",
        "        result *= i\n",
        "    return result\n",
        "\n",
        "def sin(x, terms=10):\n",
        "    sin_x = 0\n",
        "    for m in range(terms):\n",
        "        term = ((-1) ** m) * (x ** (2 * m + 1)) / factorial(2 * m + 1)\n",
        "        sin_x += term\n",
        "    return sin_x\n",
        "\n",
        "angle_degrees = float(input(\"Enter the angle in degrees: \"))\n",
        "angle_radians = angle_degrees * (math.pi / 180)\n",
        "\n",
        "print(f\"sin({angle_degrees} degrees) = {sin(angle_radians)}\")"
      ]
    },
    {
      "cell_type": "markdown",
      "metadata": {
        "id": "0A4Zuj5ZW3C4"
      },
      "source": [
        " Write following programs considering list in mind:"
      ]
    },
    {
      "cell_type": "markdown",
      "metadata": {
        "id": "Vsdz3fnRW7T-"
      },
      "source": [
        "1. Create a list of 5 odd integers using random nos. Similarly create a list of 4 even integers using\n",
        "random nos. Replace the third element of odd integers with a list of 4 even integers. Flattern, sort\n",
        "and print the list. Provide appropriate message at each stage.\n"
      ]
    },
    {
      "cell_type": "code",
      "execution_count": null,
      "metadata": {
        "colab": {
          "base_uri": "https://localhost:8080/"
        },
        "id": "p4Yl7KibW-hQ",
        "outputId": "4ce3cd2f-cc68-41d8-b525-807a6193f044"
      },
      "outputs": [
        {
          "name": "stdout",
          "output_type": "stream",
          "text": [
            "List of 5 odd integers:  [91, 3, 69, 87, 71]\n",
            "List of 4 even integers:  [16, 36, 70, 58]\n",
            "Replaced the third element of odd integers with a list of 4 even integers:  [91, 3, [16, 36, 70, 58], 87, 71]\n",
            "Flattened list:  [91, 3, 16, 36, 70, 58, 87, 71]\n",
            "Sorted list:  [3, 16, 36, 58, 70, 71, 87, 91]\n"
          ]
        }
      ],
      "source": [
        "import random\n",
        "\n",
        "odd_integers = [random.choice(range(1, 101, 2)) for _ in range(5)]\n",
        "print(\"List of 5 odd integers: \", odd_integers)\n",
        "\n",
        "even_integers = [random.choice(range(0, 101, 2)) for _ in range(4)]\n",
        "print(\"List of 4 even integers: \", even_integers)\n",
        "\n",
        "odd_integers[2] = even_integers\n",
        "print(\"Replaced the third element of odd integers with a list of 4 even integers: \", odd_integers)\n",
        "\n",
        "flattened_of_list = []\n",
        "for item in odd_integers:\n",
        "    if isinstance(item, list):\n",
        "        flattened_of_list.extend(item)\n",
        "    else:\n",
        "        flattened_of_list.append(item)\n",
        "print(\"Flattened list: \", flattened_of_list)\n",
        "\n",
        "sorted_list = sorted(flattened_of_list)\n",
        "print(\"Sorted list: \", sorted_list)"
      ]
    },
    {
      "cell_type": "markdown",
      "metadata": {
        "id": "nkwPoHN0X8Uc"
      },
      "source": [
        "2.) Generate 20 random integers and store them in a list. Accept a number from the user and print\n",
        "position of all occurrences of that number in the list."
      ]
    },
    {
      "cell_type": "code",
      "execution_count": null,
      "metadata": {
        "colab": {
          "base_uri": "https://localhost:8080/"
        },
        "id": "Ik_We3HYX0Q-",
        "outputId": "928d3730-721b-4c86-86a4-b0f3179e1f83"
      },
      "outputs": [
        {
          "name": "stdout",
          "output_type": "stream",
          "text": [
            "List of 20 random integers: [96, 100, 30, 23, 98, 53, 65, 11, 40, 57, 65, 70, 89, 99, 43, 14, 30, 37, 20, 13]\n",
            "Enter a number to find its occurrences: 98\n",
            "Number 98 found at positions: [4]\n"
          ]
        }
      ],
      "source": [
        "import random\n",
        "\n",
        "random_integers = [random.randint(1, 100) for _ in range(20)]\n",
        "print(\"List of 20 random integers:\", random_integers)\n",
        "\n",
        "users_input = int(input(\"Enter a number to find its occurrences: \"))\n",
        "\n",
        "positions = [index for index, value in enumerate(random_integers) if value == users_input]\n",
        "\n",
        "if positions:\n",
        "    print(f\"Number {users_input} found at positions: {positions}\")\n",
        "else:\n",
        "    print(f\"Number {users_input} not found in the list.\")"
      ]
    },
    {
      "cell_type": "markdown",
      "metadata": {
        "id": "GSvV-dSjYJJH"
      },
      "source": [
        "3.) Generate 50 random numbers in the range 1 and 30. Remove all duplicate values from the list.\n"
      ]
    },
    {
      "cell_type": "code",
      "execution_count": null,
      "metadata": {
        "colab": {
          "base_uri": "https://localhost:8080/"
        },
        "id": "nk4Q4m0UYSEd",
        "outputId": "acaa804e-f0d1-45b8-d971-fb122755e670"
      },
      "outputs": [
        {
          "name": "stdout",
          "output_type": "stream",
          "text": [
            "List of 50 random numbers: [4, 18, 19, 12, 17, 14, 22, 10, 24, 16, 16, 18, 23, 21, 7, 15, 23, 22, 20, 23, 4, 27, 5, 20, 21, 23, 30, 28, 19, 30, 13, 20, 24, 16, 16, 20, 5, 18, 30, 6, 14, 25, 5, 15, 8, 13, 30, 7, 19, 30]\n",
            "List after removing duplicates: [4, 5, 6, 7, 8, 10, 12, 13, 14, 15, 16, 17, 18, 19, 20, 21, 22, 23, 24, 25, 27, 28, 30]\n"
          ]
        }
      ],
      "source": [
        "import random\n",
        "\n",
        "random_num = [random.randint(1, 30) for _ in range(50)]\n",
        "print(\"List of 50 random numbers:\", random_num)\n",
        "\n",
        "unique_num = list(set(random_num))\n",
        "print(\"List after removing duplicates:\", unique_num)"
      ]
    },
    {
      "cell_type": "markdown",
      "metadata": {
        "id": "AIPaA8ZUZBGH"
      },
      "source": [
        "4.) Generate 30 random numbers and put them in a list. Create two more lists – one containing only\n",
        "+ve numbers and another with –ve nos.\n"
      ]
    },
    {
      "cell_type": "code",
      "execution_count": null,
      "metadata": {
        "colab": {
          "base_uri": "https://localhost:8080/"
        },
        "id": "6na5qmFJZE2h",
        "outputId": "9af49667-04e2-485e-a6b8-1bae706caf4c"
      },
      "outputs": [
        {
          "name": "stdout",
          "output_type": "stream",
          "text": [
            "List of 30 random numbers: [50, 44, 35, -12, 50, 13, 47, 5, 44, -43, -12, -28, -3, 31, 19, -49, -15, -32, 38, 36, 7, -11, -25, -19, -40, 34, 25, 6, 7, 50]\n",
            "List of positive numbers: [50, 44, 35, 50, 13, 47, 5, 44, 31, 19, 38, 36, 7, 34, 25, 6, 7, 50]\n",
            "List of negative numbers: [-12, -43, -12, -28, -3, -49, -15, -32, -11, -25, -19, -40]\n"
          ]
        }
      ],
      "source": [
        "import random\n",
        "\n",
        "random_num = [random.randint(-50, 50) for _ in range(30)]\n",
        "print(\"List of 30 random numbers:\", random_num)\n",
        "\n",
        "positive_num = [num for num in random_num if num > 0]\n",
        "negative_num = [num for num in random_num if num < 0]\n",
        "\n",
        "print(\"List of positive numbers:\", positive_num)\n",
        "print(\"List of negative numbers:\", negative_num)"
      ]
    },
    {
      "cell_type": "markdown",
      "metadata": {
        "id": "JtS41Uz5ZZrp"
      },
      "source": [
        "5.) A list contains 5 strings. Convert all these strings to uppercase.\n"
      ]
    },
    {
      "cell_type": "code",
      "execution_count": null,
      "metadata": {
        "colab": {
          "base_uri": "https://localhost:8080/"
        },
        "id": "IdiAJhrmZdW1",
        "outputId": "49db57dc-4713-4cf7-c428-feea90958ed6"
      },
      "outputs": [
        {
          "name": "stdout",
          "output_type": "stream",
          "text": [
            "List of uppercase strings: ['HELLO', 'WORLD', 'PYTHON', 'PROGRAMMING', 'ROCKS']\n"
          ]
        }
      ],
      "source": [
        "list_of_strings = [\"hello\", \"world\", \"python\", \"programming\", \"rocks\"]\n",
        "\n",
        "uppercase_strings = [string.upper() for string in list_of_strings]\n",
        "\n",
        "print(\"List of uppercase strings:\", uppercase_strings)"
      ]
    },
    {
      "cell_type": "markdown",
      "metadata": {
        "id": "Sww8rY5pZ42s"
      },
      "source": [
        "6. Convert list of temperatures in Fahrenheit degrees to equivalent Celsius degrees.\n"
      ]
    },
    {
      "cell_type": "code",
      "execution_count": null,
      "metadata": {
        "colab": {
          "base_uri": "https://localhost:8080/"
        },
        "id": "0PigR06RZ7Fh",
        "outputId": "88da5b91-aa56-4842-a638-c0deb12dac23"
      },
      "outputs": [
        {
          "name": "stdout",
          "output_type": "stream",
          "text": [
            "List of temperatures in Celsius: [0.0, 20.0, 40.0, 10.0, 25.0]\n"
          ]
        }
      ],
      "source": [
        "fahrenheit_temp = [32, 68, 104, 50, 77]\n",
        "\n",
        "celsius_temp = [(temp - 32) * 5/9 for temp in fahrenheit_temp]\n",
        "\n",
        "print(\"List of temperatures in Celsius:\", celsius_temp)\n"
      ]
    },
    {
      "cell_type": "markdown",
      "metadata": {
        "id": "bmA9LFJjaM37"
      },
      "source": [
        "7. Write a menu-driven program to implement the stack data structure.\n"
      ]
    },
    {
      "cell_type": "code",
      "execution_count": null,
      "metadata": {
        "colab": {
          "base_uri": "https://localhost:8080/"
        },
        "id": "gDx9Hu1QaOuc",
        "outputId": "8f6674fe-6057-4d0b-8591-d8ef5dadb1ae"
      },
      "outputs": [
        {
          "name": "stdout",
          "output_type": "stream",
          "text": [
            "\n",
            "Menu:\n",
            "1. Push\n",
            "2. Pop\n",
            "3. Display stacks\n",
            "4. Exit\n",
            "Enter your choice (1-4): 4\n",
            "Exiting program.\n"
          ]
        }
      ],
      "source": [
        "stacks = []\n",
        "\n",
        "def push(item):\n",
        "    stacks.append(item)\n",
        "    print(f\"Item {item} pushed onto stacks.\")\n",
        "\n",
        "def pop():\n",
        "    if stacks:\n",
        "        item = stacks.pop()\n",
        "        print(f\"Item {item} popped from stacks.\")\n",
        "        return item\n",
        "    else:\n",
        "        print(\"Stack is empty. Cannot pop item.\")\n",
        "        return None\n",
        "\n",
        "def display():\n",
        "    print(\"Stack contents:\", stacks)\n",
        "\n",
        "while True:\n",
        "    print(\"\\nMenu:\")\n",
        "    print(\"1. Push\")\n",
        "    print(\"2. Pop\")\n",
        "    print(\"3. Display stacks\")\n",
        "    print(\"4. Exit\")\n",
        "\n",
        "    choice = input(\"Enter your choice (1-4): \")\n",
        "\n",
        "    if choice == '1':\n",
        "        item = input(\"Enter the item to push: \")\n",
        "        push(item)\n",
        "    elif choice == '2':\n",
        "        pop()\n",
        "    elif choice == '3':\n",
        "        display()\n",
        "    elif choice == '4':\n",
        "        print(\"Exiting program.\")\n",
        "        break\n",
        "    else:\n",
        "        print(\"Invalid choice. Please enter a number between 1 and 4.\")\n"
      ]
    },
    {
      "cell_type": "markdown",
      "metadata": {
        "id": "f8RD2plaa18g"
      },
      "source": [
        "8. Write a menu-driven program to implement the Queue data structure.\n"
      ]
    },
    {
      "cell_type": "code",
      "execution_count": null,
      "metadata": {
        "colab": {
          "base_uri": "https://localhost:8080/"
        },
        "id": "A2IXJSNka4PI",
        "outputId": "862324d1-ea5b-4096-8b44-01b358c7d64a"
      },
      "outputs": [
        {
          "name": "stdout",
          "output_type": "stream",
          "text": [
            "\n",
            "Menu:\n",
            "1. Enqueue\n",
            "2. Dequeue\n",
            "3. Display queue\n",
            "4. Exit\n",
            "Enter your choice (1-4): 1\n",
            "Enter the item to enqueue: 2\n",
            "Item 2 added to the queue.\n",
            "\n",
            "Menu:\n",
            "1. Enqueue\n",
            "2. Dequeue\n",
            "3. Display queue\n",
            "4. Exit\n",
            "Enter your choice (1-4): 4\n",
            "Exiting program.\n"
          ]
        }
      ],
      "source": [
        "queue = []\n",
        "\n",
        "def enqueue(item):\n",
        "    queue.append(item)\n",
        "    print(f\"Item {item} added to the queue.\")\n",
        "\n",
        "def dequeue():\n",
        "    if queue:\n",
        "        item = queue.pop(0)\n",
        "        print(f\"Item {item} removed from the queue.\")\n",
        "        return item\n",
        "    else:\n",
        "        print(\"Queue is empty. Cannot dequeue item.\")\n",
        "        return None\n",
        "\n",
        "def display():\n",
        "    print(\"Queue contents:\", queue)\n",
        "\n",
        "while True:\n",
        "    print(\"\\nMenu:\")\n",
        "    print(\"1. Enqueue\")\n",
        "    print(\"2. Dequeue\")\n",
        "    print(\"3. Display queue\")\n",
        "    print(\"4. Exit\")\n",
        "\n",
        "    choice = input(\"Enter your choice (1-4): \")\n",
        "\n",
        "    if choice == '1':\n",
        "        item = input(\"Enter the item to enqueue: \")\n",
        "        enqueue(item)\n",
        "    elif choice == '2':\n",
        "        dequeue()\n",
        "    elif choice == '3':\n",
        "        display()\n",
        "    elif choice == '4':\n",
        "        print(\"Exiting program.\")\n",
        "        break\n",
        "    else:\n",
        "        print(\"Invalid choice. Please enter a number between 1 and 4.\")\n"
      ]
    },
    {
      "cell_type": "markdown",
      "metadata": {
        "id": "TC3dwJoVbFWf"
      },
      "source": [
        "9. Take two lists of numbers. Create third list of numbers for only those numbers from first list which\n",
        "are not there in 2\n",
        "nd list (use list comprehension)."
      ]
    },
    {
      "cell_type": "code",
      "execution_count": null,
      "metadata": {
        "colab": {
          "base_uri": "https://localhost:8080/"
        },
        "id": "rF8EzKvmbL3-",
        "outputId": "46f98628-ba21-49b1-8cc7-7fb674d0f84f"
      },
      "outputs": [
        {
          "name": "stdout",
          "output_type": "stream",
          "text": [
            "First list: [98, 97, 86, 76, 80, 48, 56, 66, 82]\n",
            "Second list: [66, 56, 82, 46, 48]\n",
            "Third list (numbers in first list not in second list): [98, 97, 86, 76, 80]\n"
          ]
        }
      ],
      "source": [
        "list1 = [98, 97, 86, 76, 80, 48, 56, 66, 82]\n",
        "list2 = [66, 56, 82, 46, 48]\n",
        "\n",
        "list3 = [num for num in list1 if num not in list2]\n",
        "\n",
        "print(\"First list:\", list1)\n",
        "print(\"Second list:\", list2)\n",
        "print(\"Third list (numbers in first list not in second list):\", list3)\n"
      ]
    },
    {
      "cell_type": "markdown",
      "metadata": {
        "id": "hF489hgbx4wm"
      },
      "source": [
        " Write following programs considering tuple in mind:"
      ]
    },
    {
      "cell_type": "markdown",
      "metadata": {
        "id": "DQaCNP0nx0S6"
      },
      "source": [
        "1. A list contains names of boys and girls as its elements. Boys’ names are stored as tuples. Write a\n",
        "program to find out number of boys and girls in the list. (Hint: use isinstance(ele,tuple))\n"
      ]
    },
    {
      "cell_type": "code",
      "execution_count": null,
      "metadata": {
        "colab": {
          "base_uri": "https://localhost:8080/"
        },
        "id": "OlBZWGWWx4HX",
        "outputId": "f5bbd748-00ee-4f4e-82b8-29ad14fd3ab4"
      },
      "outputs": [
        {
          "name": "stdout",
          "output_type": "stream",
          "text": [
            "Number of boys: 3\n",
            "Number of girls: 3\n"
          ]
        }
      ],
      "source": [
        "def count_boys_and_girls(names_of_list):\n",
        "    boys_of_count = 0\n",
        "    girls_of_count = 0\n",
        "\n",
        "    for ele in names_of_list:\n",
        "        if isinstance(ele, tuple):\n",
        "            boys_of_count += 1\n",
        "        else:\n",
        "            girls_of_count += 1\n",
        "\n",
        "    return boys_of_count, girls_of_count\n",
        "\n",
        "names_of_list = [(\"John\",), \"Emma\", (\"Mike\",), \"Sophia\", \"Olivia\", (\"David\",)]\n",
        "\n",
        "boys, girls = count_boys_and_girls(names_of_list)\n",
        "\n",
        "print(f\"Number of boys: {boys}\")\n",
        "print(f\"Number of girls: {girls}\")\n"
      ]
    },
    {
      "cell_type": "markdown",
      "metadata": {
        "id": "pYiSGggM6n0e"
      },
      "source": [
        "2. A list contains tuples containing roll no., name and age of student. Write a python program to create\n",
        "three lists separately for roll no., name and age"
      ]
    },
    {
      "cell_type": "code",
      "execution_count": null,
      "metadata": {
        "colab": {
          "base_uri": "https://localhost:8080/"
        },
        "id": "AFWaPEUp6oyP",
        "outputId": "86b54bf0-3d74-48f2-9f4e-e952ae353f36"
      },
      "outputs": [
        {
          "name": "stdout",
          "output_type": "stream",
          "text": [
            "Roll Numbers: [1, 2, 3, 4, 5]\n",
            "Names: ['Johny', 'Emmi', 'Mikel', 'Sophiana', 'Olvi']\n",
            "Ages: [20, 29, 37, 17, 19]\n"
          ]
        }
      ],
      "source": [
        "students = [(1, \"Johny\", 20), (2, \"Emmi\", 29), (3, \"Mikel\", 37), (4, \"Sophiana\", 17), (5, \"Olvi\", 19)]\n",
        "\n",
        "Roll_Numbers = []\n",
        "Names = []\n",
        "Ages = []\n",
        "\n",
        "for student in students:\n",
        "    roll_no, name, age = student\n",
        "    Roll_Numbers.append(roll_no)\n",
        "    Names.append(name)\n",
        "    Ages.append(age)\n",
        "\n",
        "print(\"Roll Numbers:\", Roll_Numbers)\n",
        "print(\"Names:\", Names)\n",
        "print(\"Ages:\", Ages)\n"
      ]
    },
    {
      "cell_type": "markdown",
      "metadata": {
        "id": "up9UslYX8Aq2"
      },
      "source": [
        "3. Suppose a date is represented as a tuple (d, m, y). Create two date tuples and find the number of\n",
        "days between the two dates.\n"
      ]
    },
    {
      "cell_type": "code",
      "execution_count": null,
      "metadata": {
        "colab": {
          "base_uri": "https://localhost:8080/"
        },
        "id": "CtwAlFtr8C48",
        "outputId": "0a673c0a-196c-436c-a881-7e89dec6a655"
      },
      "outputs": [
        {
          "name": "stdout",
          "output_type": "stream",
          "text": [
            "Number of days between two dates: 366\n"
          ]
        }
      ],
      "source": [
        "from datetime import datetime\n",
        "\n",
        "date1 = ( 28, 2, 2025 )\n",
        "date2 = ( 28, 2, 2024 )\n",
        "\n",
        "date1_object = datetime(date1[2], date1[1], date1[0])\n",
        "date2_object = datetime(date2[2], date2[1], date2[0])\n",
        "\n",
        "days_difference = abs((date1_object - date2_object).days)\n",
        "\n",
        "print(f\"Number of days between two dates: {days_difference}\")\n"
      ]
    },
    {
      "cell_type": "markdown",
      "metadata": {
        "id": "n86C1Ynj9ZWY"
      },
      "source": [
        "4. Create a list of tuples containing a food item and its price. Sort the tuples in descending order by\n",
        "price."
      ]
    },
    {
      "cell_type": "code",
      "execution_count": null,
      "metadata": {
        "colab": {
          "base_uri": "https://localhost:8080/"
        },
        "id": "CNIK86aX9ost",
        "outputId": "7d30948a-3790-4e79-b04d-867834557dce"
      },
      "outputs": [
        {
          "name": "stdout",
          "output_type": "stream",
          "text": [
            "Sorted food items by price (descending):\n",
            "Sushi: $14.69\n",
            "Ramen: $9.99\n",
            "Noodles: $7.49\n",
            "Burger: $6.79\n",
            "Salad: $4.99\n"
          ]
        }
      ],
      "source": [
        "# List of tuples containing food items and their prices\n",
        "food_items = [(\"Ramen\", 9.99), (\"Burger\", 6.79), (\"Sushi\", 14.69), (\"Noodles\", 7.49), (\"Salad\", 4.99)]\n",
        "\n",
        "# Sort the list of tuples in descending order by price of food items\n",
        "sorted_food_items = sorted(food_items, key=lambda item: item[1], reverse=True)\n",
        "\n",
        "# Print the sorted list of food items\n",
        "print(\"Sorted food items by price (descending):\")\n",
        "for item in sorted_food_items:\n",
        "    print(f\"{item[0]}: ${item[1]:.2f}\")\n"
      ]
    },
    {
      "cell_type": "markdown",
      "metadata": {
        "id": "jIjI8x9PAZn_"
      },
      "source": [
        "5. Remove empty tuple(s) from the list of tuples.\n"
      ]
    },
    {
      "cell_type": "code",
      "execution_count": null,
      "metadata": {
        "colab": {
          "background_save": true,
          "base_uri": "https://localhost:8080/"
        },
        "id": "0rKc3Sa-Ab0t",
        "outputId": "ca89b850-a32e-4d98-b5d3-0bbf81038529"
      },
      "outputs": [
        {
          "name": "stdout",
          "output_type": "stream",
          "text": [
            "List after removing empty tuples:\n",
            "[('Pizza', 8.99), ('Burger', 5.99), ('Sushi', 12.99), ('Pasta', 7.49), ('Salad', 4.99)]\n"
          ]
        }
      ],
      "source": [
        "# list of tuples with some empty tuples\n",
        "tuples_list = [(\"Pizza\", 8.99), (), (\"Burger\", 5.99), (), (\"Sushi\", 12.99), (\"Pasta\", 7.49), (), (\"Salad\", 4.99)]\n",
        "\n",
        "# Remove empty tuples\n",
        "filtered_tuples_list = [tup for tup in tuples_list if tup]\n",
        "\n",
        "# Print the filtered list\n",
        "print(\"List after removing empty tuples:\")\n",
        "print(filtered_tuples_list)\n",
        "\n"
      ]
    },
    {
      "cell_type": "markdown",
      "source": [
        "6. Modify an element of a tuple.\n"
      ],
      "metadata": {
        "id": "4AZ-wfWhCPYP"
      }
    },
    {
      "cell_type": "code",
      "source": [
        "main_tuple = (12, 23, 34, 45, 56)\n",
        "\n",
        "index_to_modify = 2\n",
        "new_value = 105\n",
        "\n",
        "modified_tuple = main_tuple[:index_to_modify] + (new_value,) + main_tuple[index_to_modify + 1:]\n",
        "\n",
        "print(\"Original tuple:\", main_tuple)\n",
        "print(\"Modified tuple:\", modified_tuple)\n"
      ],
      "metadata": {
        "colab": {
          "base_uri": "https://localhost:8080/"
        },
        "id": "Bgf1pnNLCRgB",
        "outputId": "f1c5d3cf-4fcd-419f-e790-4d2f2a3c2dbb"
      },
      "execution_count": null,
      "outputs": [
        {
          "output_type": "stream",
          "name": "stdout",
          "text": [
            "Original tuple: (12, 23, 34, 45, 56)\n",
            "Modified tuple: (12, 23, 105, 45, 56)\n"
          ]
        }
      ]
    },
    {
      "cell_type": "markdown",
      "source": [
        "7. Delete an element of a tuple."
      ],
      "metadata": {
        "id": "TRqgqlY0C-pI"
      }
    },
    {
      "cell_type": "code",
      "source": [
        "main_tuple = (14, 25, 36, 47, 59)\n",
        "\n",
        "index_to_delete = 2\n",
        "\n",
        "modified_tuple = main_tuple[:index_to_delete] + main_tuple[index_to_delete + 1:]\n",
        "\n",
        "print(\"Original tuple:\", main_tuple)\n",
        "print(\"Modified tuple:\", modified_tuple)\n"
      ],
      "metadata": {
        "colab": {
          "base_uri": "https://localhost:8080/"
        },
        "id": "P5dEPFoLDAna",
        "outputId": "bee50c30-5400-457f-8851-0d4cc753a33a"
      },
      "execution_count": null,
      "outputs": [
        {
          "output_type": "stream",
          "name": "stdout",
          "text": [
            "Original tuple: (14, 25, 36, 47, 59)\n",
            "Modified tuple: (14, 25, 47, 59)\n"
          ]
        }
      ]
    },
    {
      "cell_type": "markdown",
      "source": [
        "Write following programs considering sets in mind:"
      ],
      "metadata": {
        "id": "puSWL1z5lowy"
      }
    },
    {
      "cell_type": "markdown",
      "source": [
        "1. Write a program that converts words present in a list into uppercase and stores them in a set."
      ],
      "metadata": {
        "id": "iuy0dYLQlphw"
      }
    },
    {
      "cell_type": "code",
      "source": [
        "word_lists = input(\"Enter words with space: \").split()\n",
        "uppercase_setting = {word.upper() for word in word_lists}\n",
        "print(uppercase_setting)\n",
        "\n"
      ],
      "metadata": {
        "colab": {
          "base_uri": "https://localhost:8080/"
        },
        "id": "6JXyrrPWlr6r",
        "outputId": "6078516b-4040-4d97-eee1-f1281f967941"
      },
      "execution_count": null,
      "outputs": [
        {
          "output_type": "stream",
          "name": "stdout",
          "text": [
            "Enter words with space: hello world\n",
            "{'HELLO', 'WORLD'}\n"
          ]
        }
      ]
    },
    {
      "cell_type": "markdown",
      "source": [
        "2. Write a program to create a set containing 10 random numbers in the range 15 to 45. Count how\n",
        "many of these numbers are less than 30. Delete all numbers that are greater than 35."
      ],
      "metadata": {
        "id": "lIK_T6owmxzT"
      }
    },
    {
      "cell_type": "code",
      "source": [
        "import random\n",
        "numbers = {random.randint(15, 45) for _ in range(10)}\n",
        "print(f\"Numbers: {numbers}\")\n",
        "print(f\"Count < 30: {sum(1 for num in numbers if num < 30)}\")\n",
        "numbers = {num for num in numbers if num <= 35}\n",
        "print(f\"After removal: {numbers}\")\n"
      ],
      "metadata": {
        "colab": {
          "base_uri": "https://localhost:8080/"
        },
        "id": "PT6O5ukmm2lM",
        "outputId": "bd5c099f-ee7f-441b-a39e-19c69ecd869d"
      },
      "execution_count": null,
      "outputs": [
        {
          "output_type": "stream",
          "name": "stdout",
          "text": [
            "Numbers: {32, 35, 37, 39, 19, 24, 25, 26, 31}\n",
            "Count < 30: 4\n",
            "After removal: {32, 35, 19, 24, 25, 26, 31}\n"
          ]
        }
      ]
    },
    {
      "cell_type": "markdown",
      "source": [
        "3. Create an empty set. Write a program that adds five new names to this set, modifies one existing\n",
        "name and deletes two names from it."
      ],
      "metadata": {
        "id": "pdUVVe3doe5j"
      }
    },
    {
      "cell_type": "code",
      "source": [
        "names = set()\n",
        "\n",
        "names.update(['sasuke', 'jinwoo', 'naruto', 'kakashi', 'jiraya'])\n",
        "\n",
        "names.remove('sasuke')\n",
        "names.add('minato')\n",
        "\n",
        "names.discard('jiraya')\n",
        "names.discard('kakashi')\n",
        "\n",
        "print(names)\n"
      ],
      "metadata": {
        "colab": {
          "base_uri": "https://localhost:8080/"
        },
        "id": "M6tgWHRHoh1x",
        "outputId": "a3f59e2c-8027-4960-92c7-06eeac6d063b"
      },
      "execution_count": null,
      "outputs": [
        {
          "output_type": "stream",
          "name": "stdout",
          "text": [
            "{'jinwoo', 'naruto', 'minato'}\n"
          ]
        }
      ]
    },
    {
      "cell_type": "markdown",
      "source": [
        "4. A set contains names which begin either with A or with B. Write a program to separate out the\n",
        "names into two sets, one containing names beginning with A and another with B."
      ],
      "metadata": {
        "id": "JZRfzyAEoiWp"
      }
    },
    {
      "cell_type": "code",
      "source": [
        "names = {'akatsuki', 'bob', 'aris', 'beerus', 'boruto'}\n",
        "\n",
        "a_name = {name for name in names if name.startswith('a')}\n",
        "b_name = {name for name in names if name.startswith('b')}\n",
        "\n",
        "print(\"A Names:\", a_name)\n",
        "print(\"B Names:\", b_name)\n"
      ],
      "metadata": {
        "colab": {
          "base_uri": "https://localhost:8080/"
        },
        "id": "RovHU3lComiL",
        "outputId": "a265e15c-1305-4355-822f-3024f452dc1d"
      },
      "execution_count": null,
      "outputs": [
        {
          "output_type": "stream",
          "name": "stdout",
          "text": [
            "A Names: {'aris', 'akatsuki'}\n",
            "B Names: {'boruto', 'beerus', 'bob'}\n"
          ]
        }
      ]
    },
    {
      "cell_type": "markdown",
      "source": [
        "· Write following programs considering Dictionary in mind"
      ],
      "metadata": {
        "id": "SGchyISuhvDj"
      }
    },
    {
      "cell_type": "markdown",
      "source": [
        "1. Write a program to create three dictionaries and concatenate them to create fourth dictionary."
      ],
      "metadata": {
        "id": "rtRED0onhwE6"
      }
    },
    {
      "cell_type": "code",
      "source": [
        "\n",
        "Dict1 = {\"A\": 101, \"B\": 110}\n",
        "Dict2 = {\"C\": 999, \"D\": 111}\n",
        "Dict3 = {\"E\": 520, \"F\": 456}\n",
        "\n",
        "Dict4 = {**Dict1, **Dict2, **Dict3}\n",
        "\n",
        "print(Dict4)\n"
      ],
      "metadata": {
        "colab": {
          "base_uri": "https://localhost:8080/"
        },
        "id": "lUYrtz8kh1Ux",
        "outputId": "e7c8804d-d555-41eb-e83c-71f8328c641d"
      },
      "execution_count": null,
      "outputs": [
        {
          "output_type": "stream",
          "name": "stdout",
          "text": [
            "{'A': 101, 'B': 110, 'C': 999, 'D': 111, 'E': 520, 'F': 456}\n"
          ]
        }
      ]
    },
    {
      "cell_type": "markdown",
      "source": [
        "2. Write a program to check whether a dictionary is empty or not"
      ],
      "metadata": {
        "id": "vULdf7NNitDL"
      }
    },
    {
      "cell_type": "code",
      "source": [
        "My_Dictonary = {\"9999\"}\n",
        "\n",
        "if not My_Dictonary:\n",
        "    print(\"My dictionary is empty.\")\n",
        "else:\n",
        "    print(\"My dictionary is not empty.\")\n"
      ],
      "metadata": {
        "colab": {
          "base_uri": "https://localhost:8080/"
        },
        "id": "OVBH_NKHiw89",
        "outputId": "ef8a7477-9b7a-4129-abcd-81f2704e41f7"
      },
      "execution_count": null,
      "outputs": [
        {
          "output_type": "stream",
          "name": "stdout",
          "text": [
            "My dictionary is not empty.\n"
          ]
        }
      ]
    },
    {
      "cell_type": "markdown",
      "source": [
        "3. Create a dictionary with dept no, employee roll no. and salary. Find out department wise min and maximum of salary."
      ],
      "metadata": {
        "id": "nlUZNviajPk6"
      }
    },
    {
      "cell_type": "code",
      "source": [
        "Data = [\n",
        "    {\"dept_no\": 9, \"emp_roll\": 1001, \"salary\": 90000},\n",
        "    {\"dept_no\": 9, \"emp_roll\": 1002, \"salary\": 80000},\n",
        "    {\"dept_no\": 10, \"emp_roll\": 2001, \"salary\": 10000},\n",
        "    {\"dept_no\": 10, \"emp_roll\": 2002, \"salary\": 70000}\n",
        "]\n",
        "\n",
        "from collections import defaultdict\n",
        "\n",
        "Dept_Salaries = defaultdict(list)\n",
        "\n",
        "for record in Data:\n",
        "    Dept_Salaries[record[\"dept_no\"]].append(record[\"salary\"])\n",
        "\n",
        "max_min_salary = {\n",
        "    dept: {\"min\": min(salaries), \"max\": max(salaries)}\n",
        "    for dept, salaries in Dept_Salaries.items()\n",
        "}\n",
        "\n",
        "print(max_min_salary)\n"
      ],
      "metadata": {
        "colab": {
          "base_uri": "https://localhost:8080/"
        },
        "id": "SnSsmYsWjVcD",
        "outputId": "9a40eaa1-53c8-4c1e-ffcc-a88f31dae6c9"
      },
      "execution_count": null,
      "outputs": [
        {
          "output_type": "stream",
          "name": "stdout",
          "text": [
            "{9: {'min': 80000, 'max': 90000}, 10: {'min': 10000, 'max': 70000}}\n"
          ]
        }
      ]
    },
    {
      "cell_type": "markdown",
      "source": [
        "4. Write a program that reads a string from the keyboard and creates dictionary containing frequency of each character occurring in the string."
      ],
      "metadata": {
        "id": "Lt463Ka1lCbU"
      }
    },
    {
      "cell_type": "code",
      "source": [
        "String = input(\"Enter a string: \")\n",
        "\n",
        "Char_Frequency = {}\n",
        "\n",
        "for char in String:\n",
        "    Char_Frequency[char] = Char_Frequency.get(char, 0) + 1\n",
        "\n",
        "print(Char_Frequency)\n"
      ],
      "metadata": {
        "colab": {
          "base_uri": "https://localhost:8080/"
        },
        "id": "KfJ8p-GelGuT",
        "outputId": "d5aa09e9-9239-4f8b-d1ad-7a0c941548c1"
      },
      "execution_count": null,
      "outputs": [
        {
          "output_type": "stream",
          "name": "stdout",
          "text": [
            "Enter a string: hello guys welcome\n",
            "{'h': 1, 'e': 3, 'l': 3, 'o': 2, ' ': 2, 'g': 1, 'u': 1, 'y': 1, 's': 1, 'w': 1, 'c': 1, 'm': 1}\n"
          ]
        }
      ]
    },
    {
      "cell_type": "markdown",
      "source": [
        "5. Create two dictionaries – one containing grocery items and their prices and another containing grocery items and quantity purchased. By using the values from these two dictionaries compute the total bill."
      ],
      "metadata": {
        "id": "h4Szy2diluaY"
      }
    },
    {
      "cell_type": "code",
      "source": [
        "prices = {\"ramen\": 200, \"cheese ball\": 500, \"sting\": 900}\n",
        "\n",
        "quantities = {\"ramen\": 10, \"cheese ball\": 20, \"sting\": 99}\n",
        "\n",
        "total_bill = sum(prices[item] * quantities.get(item, 0) for item in prices)\n",
        "\n",
        "print(\"Total Bill:\", total_bill)\n"
      ],
      "metadata": {
        "colab": {
          "base_uri": "https://localhost:8080/"
        },
        "id": "EDSfsr1GlxE0",
        "outputId": "3aff656a-47ac-4556-e80b-bf61fe47dd78"
      },
      "execution_count": null,
      "outputs": [
        {
          "output_type": "stream",
          "name": "stdout",
          "text": [
            "Total Bill: 101100\n"
          ]
        }
      ]
    },
    {
      "cell_type": "markdown",
      "source": [
        " Write following programs considering functions or recursive functions in mind:\n"
      ],
      "metadata": {
        "id": "Y45rLrYZfcpA"
      }
    },
    {
      "cell_type": "markdown",
      "source": [
        "1. Write a program that defines a function count_lower_upper() that accepts a string and calculates\n",
        "the number of uppercase and lowercase alphabets in it. It should return these values as a dictionary.\n",
        "Call this function for some sample string."
      ],
      "metadata": {
        "id": "GRixPfUsfeW_"
      }
    },
    {
      "cell_type": "code",
      "source": [
        "def count_lowers_uppers(s):\n",
        "    result = {\"uppercase\": 0, \"lowercase\": 0}\n",
        "    for char in s:\n",
        "        if char.isupper():\n",
        "            result[\"uppercase\"] += 1\n",
        "        elif char.islower():\n",
        "            result[\"lowercase\"] += 1\n",
        "    return result\n",
        "\n",
        "sample_string = \"Hello World!\"\n",
        "print(count_lowers_uppers(sample_string))\n"
      ],
      "metadata": {
        "colab": {
          "base_uri": "https://localhost:8080/"
        },
        "id": "qwL2cV5nfhOj",
        "outputId": "a2ff67dc-2d4c-4fca-cddd-0688b3f86e00"
      },
      "execution_count": null,
      "outputs": [
        {
          "output_type": "stream",
          "name": "stdout",
          "text": [
            "{'uppercase': 2, 'lowercase': 8}\n"
          ]
        }
      ]
    },
    {
      "cell_type": "markdown",
      "source": [
        "2. Write a program that defines a function compute() that calculates the value of n + nn + nnn + nnnn,\n",
        "where n is digit received by the function. test the function for digits 4 to 7."
      ],
      "metadata": {
        "id": "3SA93p-vSiin"
      }
    },
    {
      "cell_type": "code",
      "source": [
        "def computed(n):\n",
        "    return n + int(str(n) * 2) + int(str(n) * 3) + int(str(n) * 4)\n",
        "\n",
        "for digits in range(4, 8):\n",
        "    print(f\"computed({digits}) = {computed(digits)}\")\n"
      ],
      "metadata": {
        "colab": {
          "base_uri": "https://localhost:8080/"
        },
        "id": "zXj19sXSSkW4",
        "outputId": "6e6b4330-8674-49c3-c790-e2a668b666b1"
      },
      "execution_count": null,
      "outputs": [
        {
          "output_type": "stream",
          "name": "stdout",
          "text": [
            "computed(4) = 4936\n",
            "computed(5) = 6170\n",
            "computed(6) = 7404\n",
            "computed(7) = 8638\n"
          ]
        }
      ]
    },
    {
      "cell_type": "markdown",
      "source": [
        "3. Write a program that defines a function create_array() to create and return a 3D array whose\n",
        "dimensions are passed to the function. Also initialize each element of this aray to a value passed to\n",
        "the function. e.g. create_array(3,4,5,n) where first three arguments are 3D array dimensions and 4th\n",
        "value is for initialing each value of the 3D array."
      ],
      "metadata": {
        "id": "_5rFKp7Ic80b"
      }
    },
    {
      "cell_type": "code",
      "source": [
        "def creates_array(dim1, dim2, dim3, value):\n",
        "    return [[[value for _ in range(dim3)] for _ in range(dim2)] for _ in range(dim1)]\n",
        "\n",
        "arrays = creates_array(2, 2, 2, 7)\n",
        "print(arrays)\n"
      ],
      "metadata": {
        "colab": {
          "base_uri": "https://localhost:8080/"
        },
        "id": "nXaQepEUdAnY",
        "outputId": "6263ae05-b251-49b3-abd9-edc2dcc7f452"
      },
      "execution_count": null,
      "outputs": [
        {
          "output_type": "stream",
          "name": "stdout",
          "text": [
            "[[[7, 7], [7, 7]], [[7, 7], [7, 7]]]\n"
          ]
        }
      ]
    },
    {
      "cell_type": "markdown",
      "source": [
        "4. Write a program that defines a function sum_avg() to accept marks of five subjects and calculates\n",
        "total and average. It should return directly both values."
      ],
      "metadata": {
        "id": "hvxpLVqGeT4k"
      }
    },
    {
      "cell_type": "code",
      "source": [
        "def sum_and_avg(marks):\n",
        "    Total = sum(marks)\n",
        "    Average = Total / len(marks)\n",
        "    return Total, Average\n",
        "\n",
        "marks = [99, 90, 91, 84, 69]\n",
        "Total, Average = sum_and_avg(marks)\n",
        "print(\"Total:\", Total)\n",
        "print(\"Average:\", Average)\n"
      ],
      "metadata": {
        "colab": {
          "base_uri": "https://localhost:8080/"
        },
        "id": "8TLtu11YeXKX",
        "outputId": "047cb097-2a1b-4881-e724-d2ca0437dbcb"
      },
      "execution_count": null,
      "outputs": [
        {
          "output_type": "stream",
          "name": "stdout",
          "text": [
            "Total: 433\n",
            "Average: 86.6\n"
          ]
        }
      ]
    },
    {
      "cell_type": "markdown",
      "source": [
        "5. Pangram is a sentence that uses every letter of the alphabet. Write a program to check whether a\n",
        "given string is pangram or not, through a user-defined function ispangram(). Test the function with\n",
        "“The quick brown fox jumps over the lazy dog” or “Crazy Fredrick bought many very exquisite opal\n",
        "jewels”. Hint: use set() to convert the string into a set of characters present in the string and use <=\n",
        "to check whether alphaset is a subset of the given string"
      ],
      "metadata": {
        "id": "A_nqtxlefEzY"
      }
    },
    {
      "cell_type": "code",
      "source": [
        "import string\n",
        "\n",
        "def ispangram(sentence):\n",
        "    Alphaset = set(string.ascii_lowercase)\n",
        "    return Alphaset <= set(sentence.lower())\n",
        "\n",
        "test_1 = \"Those Who do not know pain will never understand true peace\"\n",
        "test_2 = \"Crazy Fredrick bought many very exquisite opal jewels\"\n",
        "\n",
        "print(ispangram(test_1))\n",
        "print(ispangram(test_2))\n"
      ],
      "metadata": {
        "colab": {
          "base_uri": "https://localhost:8080/"
        },
        "id": "7wMIry0jfIkC",
        "outputId": "7d162d8a-9103-4306-f7ab-1294360dca3e"
      },
      "execution_count": null,
      "outputs": [
        {
          "output_type": "stream",
          "name": "stdout",
          "text": [
            "False\n",
            "True\n"
          ]
        }
      ]
    },
    {
      "cell_type": "markdown",
      "source": [
        "6. Write a function to create and return a list containing tuples of the form (x,x2\n",
        ",x3\n",
        ") for all x between 1\n",
        "and given ending value (both inclusive).\n"
      ],
      "metadata": {
        "id": "oBe08YcjgfId"
      }
    },
    {
      "cell_type": "code",
      "source": [
        "def generates_tuples(end_value):\n",
        "    return [(x, x**2, x**3) for x in range(1, end_value + 1)]\n",
        "\n",
        "result = generates_tuples(4)\n",
        "print(result)\n"
      ],
      "metadata": {
        "colab": {
          "base_uri": "https://localhost:8080/"
        },
        "id": "AYGGE6YKgjDN",
        "outputId": "7630afce-f96a-4d6a-e9ed-2c0ad4408351"
      },
      "execution_count": null,
      "outputs": [
        {
          "output_type": "stream",
          "name": "stdout",
          "text": [
            "[(1, 1, 1), (2, 4, 8), (3, 9, 27), (4, 16, 64)]\n"
          ]
        }
      ]
    },
    {
      "cell_type": "markdown",
      "source": [
        "7. A palindrome is a word or phrase that reads the same in both directions. Write a program that\n",
        "defines a function ispalindrome() which checks whether a given string is a palindrome or not. Ignore\n",
        "spaces and case mismatch while checking for palindrome."
      ],
      "metadata": {
        "id": "HT2K_27Dg4hs"
      }
    },
    {
      "cell_type": "code",
      "source": [
        "def ispalindrome(str):\n",
        "    str = str.replace(\" \", \"\").lower()\n",
        "    return str == str[::-1]\n",
        "\n",
        "test_str1 = \"a man is powerful\"\n",
        "test_str2 = \"sage o egas\"\n",
        "\n",
        "print(ispalindrome(test_str1))\n",
        "print(ispalindrome(test_str2))\n"
      ],
      "metadata": {
        "colab": {
          "base_uri": "https://localhost:8080/"
        },
        "id": "s6y6Klr1g8Hf",
        "outputId": "887e10f4-bb9d-4500-9fc1-2ff8c4b47ef4"
      },
      "execution_count": null,
      "outputs": [
        {
          "output_type": "stream",
          "name": "stdout",
          "text": [
            "False\n",
            "True\n"
          ]
        }
      ]
    },
    {
      "cell_type": "markdown",
      "source": [
        "8. Write a program that defines a function convert() that receives a string containing a sequence of\n",
        "whitespace separated words and returns a string after removing all duplicate words and sorting\n",
        "them alphanumerically. Hint: use set(), list () , sorted(), join()."
      ],
      "metadata": {
        "id": "TFzriYxuhzy7"
      }
    },
    {
      "cell_type": "code",
      "source": [
        "def convert(s):\n",
        "    return \" \".join(sorted(set(s.split())))\n",
        "\n",
        "input_string = \"naruto sasuke naruto akatsuki sasuke boruto\"\n",
        "output_string = convert(input_string)\n",
        "print(output_string)\n"
      ],
      "metadata": {
        "colab": {
          "base_uri": "https://localhost:8080/"
        },
        "id": "riyEhEMVh3uJ",
        "outputId": "e3823eae-4e0d-448f-f715-2a587b8df836"
      },
      "execution_count": null,
      "outputs": [
        {
          "output_type": "stream",
          "name": "stdout",
          "text": [
            "akatsuki boruto naruto sasuke\n"
          ]
        }
      ]
    },
    {
      "cell_type": "markdown",
      "source": [
        "9. Write a program that defines a function count_alpha_digits() that accepts a string and calculates the\n",
        "number of alphabets and digits in it. It should return these values as a dictionary.\n"
      ],
      "metadata": {
        "id": "c6-LBjA9iKpc"
      }
    },
    {
      "cell_type": "code",
      "source": [
        "def count_alphabets_digits(str):\n",
        "    result = {\"alphabet\": 0, \"digit\": 0}\n",
        "    for char in str:\n",
        "        if char.isalpha():\n",
        "            result[\"alphabet\"] += 1\n",
        "        elif char.isdigit():\n",
        "            result[\"digit\"] += 1\n",
        "    return result\n",
        "\n",
        "samp_string = \"hello1234prince6!\"\n",
        "print(count_alphabets_digits(samp_string))\n"
      ],
      "metadata": {
        "colab": {
          "base_uri": "https://localhost:8080/"
        },
        "id": "Y5eomQG3iOsf",
        "outputId": "d31d2980-a161-441b-b949-4f09f4362c17"
      },
      "execution_count": null,
      "outputs": [
        {
          "output_type": "stream",
          "name": "stdout",
          "text": [
            "{'alphabet': 11, 'digit': 5}\n"
          ]
        }
      ]
    },
    {
      "cell_type": "markdown",
      "source": [
        "10. Write a program that defines a function called frequency() which computes the frequency of words\n",
        "present in a string passed to it. The frequencies should be returned in sorted order of words in the\n",
        "string.\n"
      ],
      "metadata": {
        "id": "nPviGhN1i16W"
      }
    },
    {
      "cell_type": "code",
      "source": [
        "def frequency(str):\n",
        "    words = str.split()\n",
        "    frequency_dict = {}\n",
        "    for word in words:\n",
        "        frequency_dict[word] = frequency_dict.get(word, 0) + 1\n",
        "    return dict(sorted(frequency_dict.items()))\n",
        "\n",
        "text = \"gato uzumaki gato konoichi uchiha \"\n",
        "result = frequency(text)\n",
        "print(result)\n"
      ],
      "metadata": {
        "colab": {
          "base_uri": "https://localhost:8080/"
        },
        "id": "8xavZ9zGi7R2",
        "outputId": "db6c13f1-8058-4731-aa94-c00323841400"
      },
      "execution_count": null,
      "outputs": [
        {
          "output_type": "stream",
          "name": "stdout",
          "text": [
            "{'gato': 2, 'konoichi': 1, 'uchiha': 1, 'uzumaki': 1}\n"
          ]
        }
      ]
    },
    {
      "cell_type": "markdown",
      "source": [
        "11. Write a function create_list() that creates and returns a list which is an intersection of two lists\n",
        "passed to it.\n"
      ],
      "metadata": {
        "id": "RBjGAhkNj5ix"
      }
    },
    {
      "cell_type": "code",
      "source": [
        "def create_list(list_1, list_2):\n",
        "    return [item for item in list_1 if item in list_2]\n",
        "\n",
        "list_1 = [11, 22, 33, 44, 55]\n",
        "list_2 = [44, 55, 67, 79, 18]\n",
        "result = create_list(list_1, list_2)\n",
        "print(result)\n",
        "\n"
      ],
      "metadata": {
        "colab": {
          "base_uri": "https://localhost:8080/"
        },
        "id": "gTAw3yagj8p5",
        "outputId": "4fd99f2d-1655-489e-b4e2-971827c85fba"
      },
      "execution_count": null,
      "outputs": [
        {
          "output_type": "stream",
          "name": "stdout",
          "text": [
            "[44, 55]\n"
          ]
        }
      ]
    },
    {
      "cell_type": "markdown",
      "source": [
        " Write following programs considering functions or recursive functions in mind:\n"
      ],
      "metadata": {
        "id": "S9yPtk7pkUOP"
      }
    },
    {
      "cell_type": "markdown",
      "source": [
        "1. If a positive integer is entered through the keyword, write a recursive function to obtain the prime\n",
        "factors of the number.\n"
      ],
      "metadata": {
        "id": "hLkVzTNykZ5y"
      }
    },
    {
      "cell_type": "code",
      "source": [
        "def prime_factors(n, divisor=2):\n",
        "    if n <= 1:\n",
        "        return []\n",
        "    if n % divisor == 0:\n",
        "        return [divisor] + prime_factors(n // divisor, divisor)\n",
        "    else:\n",
        "        return prime_factors(n, divisor + 1)\n",
        "\n",
        "number = int(input(\"Enter a positive integer: \"))\n",
        "result = prime_factors(number)\n",
        "print(\"Prime factors:\", result)\n"
      ],
      "metadata": {
        "colab": {
          "base_uri": "https://localhost:8080/"
        },
        "id": "CAE4gHYvkfGY",
        "outputId": "f4c53b73-4337-4a09-999f-50141a03c6ed"
      },
      "execution_count": null,
      "outputs": [
        {
          "output_type": "stream",
          "name": "stdout",
          "text": [
            "Enter a positive integer: 44\n",
            "Prime factors: [2, 2, 11]\n"
          ]
        }
      ]
    },
    {
      "cell_type": "markdown",
      "source": [
        "2. A positive integer is entered through the keyboard. Write a function to find its binary equivalent of\n",
        "this number."
      ],
      "metadata": {
        "id": "7QZ7NVVAORfp"
      }
    },
    {
      "cell_type": "code",
      "source": [
        "def finds_binary():\n",
        "    numbers = int(input(\"Enter a positive integer: \"))\n",
        "\n",
        "    if numbers < 0:\n",
        "        print(\"Please enter a positive integer.\")\n",
        "        return\n",
        "\n",
        "    binarys_equivalents = bin(numbers)[2:]\n",
        "\n",
        "    print(f\"The binary equivalent of {numbers} is {binarys_equivalents}\")\n",
        "\n",
        "finds_binary()\n"
      ],
      "metadata": {
        "colab": {
          "base_uri": "https://localhost:8080/"
        },
        "id": "gW3jMSrlOSLh",
        "outputId": "104043ea-3821-46f4-9352-21a62d77e716"
      },
      "execution_count": null,
      "outputs": [
        {
          "output_type": "stream",
          "name": "stdout",
          "text": [
            "Enter a positive integer: 123\n",
            "The binary equivalent of 123 is 1111011\n"
          ]
        }
      ]
    },
    {
      "cell_type": "markdown",
      "source": [
        "3. A string is entered through the keyboard. Write a recursive function that counts the number of\n",
        "vowels in this string."
      ],
      "metadata": {
        "id": "z1K3SGPvPOUl"
      }
    },
    {
      "cell_type": "code",
      "source": [
        "def counts_vowel(s):\n",
        "    if not s:\n",
        "        return 0\n",
        "    return (s[0].lower() in 'aeiou') + counts_vowel(s[1:])\n",
        "\n",
        "strings = input(\"Enter a string: \")\n",
        "print(f\"Number of vowels: {counts_vowel(strings)}\")\n"
      ],
      "metadata": {
        "colab": {
          "base_uri": "https://localhost:8080/"
        },
        "id": "Ydr_uU_FPO_P",
        "outputId": "cfbc5e11-bf1f-44a5-b78b-7487099e06a3"
      },
      "execution_count": null,
      "outputs": [
        {
          "output_type": "stream",
          "name": "stdout",
          "text": [
            "Enter a string: aeiou\n",
            "Number of vowels: 5\n"
          ]
        }
      ]
    },
    {
      "cell_type": "markdown",
      "source": [
        "4. Write a recursive function that reverses the list of numbers that it receives.\n"
      ],
      "metadata": {
        "id": "6A_-ZsbIQS0i"
      }
    },
    {
      "cell_type": "code",
      "source": [
        "def reverse_lists(lst):\n",
        "    if len(lst) == 0:\n",
        "        return []\n",
        "    return [lst[-1]] + reverse_lists(lst[:-1])\n",
        "\n",
        "numbers = [int(x) for x in input(\"Enter numbers separated by space: \").split()]\n",
        "print(f\"Reversed list: {reverse_lists(numbers)}\")\n"
      ],
      "metadata": {
        "colab": {
          "base_uri": "https://localhost:8080/"
        },
        "id": "k4FZ6aIrQVS1",
        "outputId": "35206e71-3b91-41f3-b8c1-8ece863f425d"
      },
      "execution_count": null,
      "outputs": [
        {
          "output_type": "stream",
          "name": "stdout",
          "text": [
            "Enter numbers separated by space: 1 2 3 4 5 6 7 8 9 0\n",
            "Reversed list: [0, 9, 8, 7, 6, 5, 4, 3, 2, 1]\n"
          ]
        }
      ]
    },
    {
      "cell_type": "markdown",
      "source": [
        "5. Calculate a^b\n",
        " where a and b received through the keyword using recursion."
      ],
      "metadata": {
        "id": "V_p8--QgQuxz"
      }
    },
    {
      "cell_type": "code",
      "source": [
        "def powers(z, u):\n",
        "    return 1 if u == 0 else z * powers(z, u - 1)\n",
        "\n",
        "z = int(input(\"Enter the base (z): \"))\n",
        "u = int(input(\"Enter the exponent (u): \"))\n",
        "print(f\"{z}^{u} = {powers(z, u)}\")\n"
      ],
      "metadata": {
        "colab": {
          "base_uri": "https://localhost:8080/"
        },
        "id": "M9nj4RxVQ1ot",
        "outputId": "0cf0c536-bfd4-400b-f67b-725410f9ec24"
      },
      "execution_count": null,
      "outputs": [
        {
          "output_type": "stream",
          "name": "stdout",
          "text": [
            "Enter the base (z): 2\n",
            "Enter the exponent (u): 8\n",
            "2^8 = 256\n"
          ]
        }
      ]
    },
    {
      "cell_type": "markdown",
      "source": [
        "6. A list contains some negative and some positive values. Write a recursive function that sanitizes the\n",
        "list by replacing all negative numbers with 0."
      ],
      "metadata": {
        "id": "oDjr75tmRtCG"
      }
    },
    {
      "cell_type": "code",
      "source": [
        "def sanitized_list(lst):\n",
        "    if not lst:\n",
        "        return []\n",
        "    return [0 if lst[0] < 0 else lst[0]] + sanitized_list(lst[1:])\n",
        "\n",
        "numbers = list(map(int, input(\"Enter numbers separated by space: \").split()))\n",
        "print(f\"Sanitized list: {sanitized_list(numbers)}\")\n"
      ],
      "metadata": {
        "colab": {
          "base_uri": "https://localhost:8080/"
        },
        "id": "MKq_qkx-RwFj",
        "outputId": "429b5703-434f-478a-9db2-bc92ab839e13"
      },
      "execution_count": null,
      "outputs": [
        {
          "output_type": "stream",
          "name": "stdout",
          "text": [
            "Enter numbers separated by space: -1 -2 -3 4 5 6 -7 -8 -9 10\n",
            "Sanitized list: [0, 0, 0, 4, 5, 6, 0, 0, 0, 10]\n"
          ]
        }
      ]
    },
    {
      "cell_type": "markdown",
      "source": [
        "7. Write a recursive function to obtain average of all numbers present in a given list.\n"
      ],
      "metadata": {
        "id": "S2CL18AAS1BH"
      }
    },
    {
      "cell_type": "code",
      "source": [
        "def finds_average(lst):\n",
        "    if not lst:\n",
        "        return 0\n",
        "    return sum(lst) / len(lst)\n",
        "\n",
        "numbers = [3, 7, 8, 12, 15]\n",
        "print(f\"List: {numbers}\")\n",
        "print(f\"Average: {finds_average(numbers)}\")\n"
      ],
      "metadata": {
        "colab": {
          "base_uri": "https://localhost:8080/"
        },
        "id": "MlMAdBONS4oJ",
        "outputId": "c2f4a874-4553-4541-a3d5-a567ff1739d5"
      },
      "execution_count": null,
      "outputs": [
        {
          "output_type": "stream",
          "name": "stdout",
          "text": [
            "List: [3, 7, 8, 12, 15]\n",
            "Average: 9.0\n"
          ]
        }
      ]
    },
    {
      "cell_type": "markdown",
      "source": [
        "8. Write a recursive function to obtain length of a given string."
      ],
      "metadata": {
        "id": "y-wuAvFjTd0u"
      }
    },
    {
      "cell_type": "code",
      "source": [
        "def strings_length(s):\n",
        "    return 0 if not s else 1 + strings_length(s[1:])\n",
        "\n",
        "texts = input(\"Enter a string: \")\n",
        "print(f\"Length of the string: {strings_length(texts)}\")\n"
      ],
      "metadata": {
        "colab": {
          "base_uri": "https://localhost:8080/"
        },
        "id": "KLYm1McjTelS",
        "outputId": "bd4a0b01-d224-4656-804a-5c49562b8bd9"
      },
      "execution_count": null,
      "outputs": [
        {
          "output_type": "stream",
          "name": "stdout",
          "text": [
            "Enter a string: hello everyone\n",
            "Length of the string: 14\n"
          ]
        }
      ]
    },
    {
      "cell_type": "markdown",
      "source": [
        " Write following programs considering files in mind:"
      ],
      "metadata": {
        "id": "gCqbgxXmUOeM"
      }
    },
    {
      "cell_type": "markdown",
      "source": [
        "1. Write a program to create a csv file that we can directly open in MS-Excel"
      ],
      "metadata": {
        "id": "A3dOXv90UPIb"
      }
    },
    {
      "cell_type": "code",
      "source": [
        "import csv\n",
        "\n",
        "def create_csv_file(filename, data):\n",
        "    with open(filename, mode='w', newline='') as file:\n",
        "        writer = csv.writer(file)\n",
        "        writer.writerows(data)\n",
        "\n",
        "filename = \"example.csv\"\n",
        "data = [[\"Name\", \"Age\", \"City\"],\n",
        "        [\"Alice\", 25, \"New York\"],\n",
        "        [\"Bob\", 30, \"Los Angeles\"],\n",
        "        [\"Charlie\", 28, \"Chicago\"]]\n",
        "\n",
        "create_csv_file(filename, data)\n",
        "print(f\"CSV file '{filename}' created successfully!\")\n"
      ],
      "metadata": {
        "colab": {
          "base_uri": "https://localhost:8080/"
        },
        "id": "vMA24xbkUSlL",
        "outputId": "5ee528c1-11db-4c1f-b31a-ff79058549b4"
      },
      "execution_count": null,
      "outputs": [
        {
          "output_type": "stream",
          "name": "stdout",
          "text": [
            "CSV file 'example.csv' created successfully!\n"
          ]
        }
      ]
    }
  ],
  "metadata": {
    "colab": {
      "provenance": [],
      "authorship_tag": "ABX9TyM4TwUgerAaErFB63dTil4E",
      "include_colab_link": true
    },
    "kernelspec": {
      "display_name": "Python 3",
      "name": "python3"
    },
    "language_info": {
      "name": "python"
    }
  },
  "nbformat": 4,
  "nbformat_minor": 0
}