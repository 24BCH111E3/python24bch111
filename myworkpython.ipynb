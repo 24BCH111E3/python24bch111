{
  "nbformat": 4,
  "nbformat_minor": 0,
  "metadata": {
    "colab": {
      "provenance": [],
      "authorship_tag": "ABX9TyP0w4wq0k3KyhXM6T95HZRz",
      "include_colab_link": true
    },
    "kernelspec": {
      "name": "python3",
      "display_name": "Python 3"
    },
    "language_info": {
      "name": "python"
    }
  },
  "cells": [
    {
      "cell_type": "markdown",
      "metadata": {
        "id": "view-in-github",
        "colab_type": "text"
      },
      "source": [
        "<a href=\"https://colab.research.google.com/github/24BCH111E3/python24bch111/blob/main/myworkpython.ipynb\" target=\"_parent\"><img src=\"https://colab.research.google.com/assets/colab-badge.svg\" alt=\"Open In Colab\"/></a>"
      ]
    },
    {
      "cell_type": "markdown",
      "source": [
        "1.) Add two numbers."
      ],
      "metadata": {
        "id": "Y9jfowFVf9Vu"
      }
    },
    {
      "cell_type": "code",
      "source": [
        "a=4\n",
        "b=99\n",
        "c=a+b\n",
        "print(c)\n"
      ],
      "metadata": {
        "colab": {
          "base_uri": "https://localhost:8080/"
        },
        "id": "pqRNI7RTf-u8",
        "outputId": "6525c88f-6435-4de6-a5e6-f18a8e1184e8"
      },
      "execution_count": null,
      "outputs": [
        {
          "output_type": "stream",
          "name": "stdout",
          "text": [
            "103\n"
          ]
        }
      ]
    },
    {
      "cell_type": "markdown",
      "source": [
        "2.)subtract two numbers."
      ],
      "metadata": {
        "id": "drJLJTywgO2e"
      }
    },
    {
      "cell_type": "code",
      "source": [
        "a=99\n",
        "b=48\n",
        "c=a-b\n",
        "print(c)"
      ],
      "metadata": {
        "colab": {
          "base_uri": "https://localhost:8080/"
        },
        "id": "J9hpFoOCgVLn",
        "outputId": "f7761c65-c54c-4490-d69d-3c433175dd8a"
      },
      "execution_count": null,
      "outputs": [
        {
          "output_type": "stream",
          "name": "stdout",
          "text": [
            "51\n"
          ]
        }
      ]
    },
    {
      "cell_type": "markdown",
      "source": [
        "3.)multiply two numbers."
      ],
      "metadata": {
        "id": "QJMcMWuRgexW"
      }
    },
    {
      "cell_type": "code",
      "source": [
        "a=99\n",
        "b=38\n",
        "c=a*b\n",
        "print(c)\n"
      ],
      "metadata": {
        "colab": {
          "base_uri": "https://localhost:8080/"
        },
        "id": "Jf9qrQ6nglUb",
        "outputId": "d94070f7-254e-4b96-d1c4-d41c89ba938a"
      },
      "execution_count": null,
      "outputs": [
        {
          "output_type": "stream",
          "name": "stdout",
          "text": [
            "3762\n"
          ]
        }
      ]
    },
    {
      "cell_type": "markdown",
      "source": [
        "4.)divide two numbers."
      ],
      "metadata": {
        "id": "AVctduKrgtG_"
      }
    },
    {
      "cell_type": "code",
      "source": [
        "a=40\n",
        "b=35\n",
        "c=a/b\n",
        "print(c)"
      ],
      "metadata": {
        "colab": {
          "base_uri": "https://localhost:8080/"
        },
        "id": "u7s64TZZgw8s",
        "outputId": "0332a23a-02d6-4054-8be1-9cffe090424e"
      },
      "execution_count": null,
      "outputs": [
        {
          "output_type": "stream",
          "name": "stdout",
          "text": [
            "1.1428571428571428\n"
          ]
        }
      ]
    },
    {
      "cell_type": "markdown",
      "source": [
        "5.)add,multiply,subtract and divide two numbers."
      ],
      "metadata": {
        "id": "9UAo5KPFg3T2"
      }
    },
    {
      "cell_type": "code",
      "source": [
        "a=96\n",
        "b=69\n",
        "c=a+b\n",
        "d=a-b\n",
        "e=a*b\n",
        "f=a/b\n",
        "print(c,d,e,f)"
      ],
      "metadata": {
        "colab": {
          "base_uri": "https://localhost:8080/"
        },
        "id": "HADgGEyNhA7T",
        "outputId": "24d56e39-269b-463b-9170-43ec87c4b644"
      },
      "execution_count": null,
      "outputs": [
        {
          "output_type": "stream",
          "name": "stdout",
          "text": [
            "165 27 6624 1.391304347826087\n"
          ]
        }
      ]
    },
    {
      "cell_type": "markdown",
      "source": [
        "6.)Convert hours into minutes."
      ],
      "metadata": {
        "id": "gljhBAnMhRe4"
      }
    },
    {
      "cell_type": "code",
      "source": [
        "hours=40\n",
        "minutes=hours*60\n",
        "print(minutes)"
      ],
      "metadata": {
        "colab": {
          "base_uri": "https://localhost:8080/"
        },
        "id": "ZpVqf_NNhZ-r",
        "outputId": "a220440f-7eac-445d-8a67-22153376269e"
      },
      "execution_count": null,
      "outputs": [
        {
          "output_type": "stream",
          "name": "stdout",
          "text": [
            "2400\n"
          ]
        }
      ]
    },
    {
      "cell_type": "markdown",
      "source": [
        "7.)Convert minutes into hours."
      ],
      "metadata": {
        "id": "G0Z_xX5lhj9T"
      }
    },
    {
      "cell_type": "code",
      "source": [
        "minutes=4800\n",
        "hours=minutes/60\n",
        "print(hours)"
      ],
      "metadata": {
        "colab": {
          "base_uri": "https://localhost:8080/"
        },
        "id": "2kG_PepMhmib",
        "outputId": "321d9002-2228-4297-f65e-d82b23f797cf"
      },
      "execution_count": null,
      "outputs": [
        {
          "output_type": "stream",
          "name": "stdout",
          "text": [
            "80.0\n"
          ]
        }
      ]
    },
    {
      "cell_type": "markdown",
      "source": [
        "8.)Convert dollars into Rs. Where 1 $ = 48 Rs."
      ],
      "metadata": {
        "id": "Uf4ecsxjhvoC"
      }
    },
    {
      "cell_type": "code",
      "source": [
        "dollar=9999\n",
        "rs=dollar*48\n",
        "print(rs)"
      ],
      "metadata": {
        "colab": {
          "base_uri": "https://localhost:8080/"
        },
        "id": "MAdjjeEoh0jM",
        "outputId": "ff4c7df1-61ac-4b34-d649-ab44605d04d5"
      },
      "execution_count": null,
      "outputs": [
        {
          "output_type": "stream",
          "name": "stdout",
          "text": [
            "479952\n"
          ]
        }
      ]
    },
    {
      "cell_type": "markdown",
      "source": [
        "9.)Convert Rs. into dollars where 1 $ = 48 Rs."
      ],
      "metadata": {
        "id": "UV4kU7r4iA0M"
      }
    },
    {
      "cell_type": "code",
      "source": [
        "rs=9999999\n",
        "dollar=rs/48\n",
        "print(dollar)"
      ],
      "metadata": {
        "colab": {
          "base_uri": "https://localhost:8080/"
        },
        "id": "H_PB1J3EiD5z",
        "outputId": "7a084487-c89b-47fa-e23f-891fbab1405c"
      },
      "execution_count": null,
      "outputs": [
        {
          "output_type": "stream",
          "name": "stdout",
          "text": [
            "208333.3125\n"
          ]
        }
      ]
    },
    {
      "cell_type": "markdown",
      "source": [
        "10.) Convert dollars into pound where 1 $ = 48 Rs. And 1 pound = 70 Rs."
      ],
      "metadata": {
        "id": "7Tda8ExliJsh"
      }
    },
    {
      "cell_type": "code",
      "source": [
        "dollar=8888\n",
        "rs=dollar*48\n",
        "pound=rs/70\n",
        "print(pound)"
      ],
      "metadata": {
        "colab": {
          "base_uri": "https://localhost:8080/"
        },
        "id": "mJWGOcuMiNUK",
        "outputId": "21dd17d0-af8f-4796-e399-0984e3d30e38"
      },
      "execution_count": null,
      "outputs": [
        {
          "output_type": "stream",
          "name": "stdout",
          "text": [
            "6094.628571428571\n"
          ]
        }
      ]
    },
    {
      "cell_type": "markdown",
      "source": [
        "11.) Convert grams into kg."
      ],
      "metadata": {
        "id": "TwS-pmPniVe_"
      }
    },
    {
      "cell_type": "code",
      "source": [
        "grams=99000\n",
        "kg=grams/1000\n",
        "print(kg)"
      ],
      "metadata": {
        "colab": {
          "base_uri": "https://localhost:8080/"
        },
        "id": "4hcKv_VSiY7G",
        "outputId": "62c71664-f447-49a6-b035-f2d59c411da6"
      },
      "execution_count": null,
      "outputs": [
        {
          "output_type": "stream",
          "name": "stdout",
          "text": [
            "99.0\n"
          ]
        }
      ]
    },
    {
      "cell_type": "markdown",
      "source": [
        "12.) Convert kgs into grams."
      ],
      "metadata": {
        "id": "WruzRMEgifzv"
      }
    },
    {
      "cell_type": "code",
      "source": [
        "kgs=8899\n",
        "grams=kgs*1000\n",
        "print(grams)"
      ],
      "metadata": {
        "colab": {
          "base_uri": "https://localhost:8080/"
        },
        "id": "FXlX0y2gikXl",
        "outputId": "9fca05e2-08dd-4d99-9192-731bd2fc2c7e"
      },
      "execution_count": null,
      "outputs": [
        {
          "output_type": "stream",
          "name": "stdout",
          "text": [
            "8899000\n"
          ]
        }
      ]
    },
    {
      "cell_type": "markdown",
      "source": [
        "13.) Convert bytes into KB, MB and GB.\n"
      ],
      "metadata": {
        "id": "L8jZBtUBiuRy"
      }
    },
    {
      "cell_type": "code",
      "source": [
        "bytes=898989\n",
        "kb=bytes/1024\n",
        "mb=kb/1024\n",
        "gb=mb/1024\n",
        "print(kb,mb,gb)"
      ],
      "metadata": {
        "colab": {
          "base_uri": "https://localhost:8080/"
        },
        "id": "pQj--gDaiw8n",
        "outputId": "20145a16-9393-474d-c466-b7a1affda825"
      },
      "execution_count": null,
      "outputs": [
        {
          "output_type": "stream",
          "name": "stdout",
          "text": [
            "877.9189453125 0.8573427200317383 0.0008372487500309944\n"
          ]
        }
      ]
    },
    {
      "cell_type": "markdown",
      "source": [
        "14.) Convert celcius into Fahrenheit. F = (9/5 * C) + 32"
      ],
      "metadata": {
        "id": "MSsfzBSPi-Bk"
      }
    },
    {
      "cell_type": "code",
      "source": [
        "celcius=99\n",
        "fahrenheit=(9/5*celcius)+32\n",
        "print(fahrenheit)"
      ],
      "metadata": {
        "colab": {
          "base_uri": "https://localhost:8080/"
        },
        "id": "6doF4ga9jBQM",
        "outputId": "f8112966-99f9-4423-e732-8a66f5294253"
      },
      "execution_count": null,
      "outputs": [
        {
          "output_type": "stream",
          "name": "stdout",
          "text": [
            "210.20000000000002\n"
          ]
        }
      ]
    },
    {
      "cell_type": "markdown",
      "source": [
        "15.) Convert Fahrenheit into celcius. C = 5/9 * (F – 32)"
      ],
      "metadata": {
        "id": "6jAoulnWjI4X"
      }
    },
    {
      "cell_type": "code",
      "source": [
        "fahrenheit=999\n",
        "celcius=5/9*(fahrenheit-32)\n",
        "print(celcius)"
      ],
      "metadata": {
        "colab": {
          "base_uri": "https://localhost:8080/"
        },
        "id": "viRQbWrfjMA1",
        "outputId": "8f976447-165c-4aed-9138-3b865e5a84d2"
      },
      "execution_count": null,
      "outputs": [
        {
          "output_type": "stream",
          "name": "stdout",
          "text": [
            "537.2222222222223\n"
          ]
        }
      ]
    },
    {
      "cell_type": "markdown",
      "source": [
        "16.) Calculate interest where I = PRN/100."
      ],
      "metadata": {
        "id": "NTIHp1efjVvz"
      }
    },
    {
      "cell_type": "code",
      "source": [
        "p=100000\n",
        "r=1000\n",
        "n=1\n",
        "i=p*r*n/100\n",
        "print(i)"
      ],
      "metadata": {
        "colab": {
          "base_uri": "https://localhost:8080/"
        },
        "id": "fB4LGO-pjbA0",
        "outputId": "7beaa0a2-0f0d-4e25-ddbc-14c075e5623e"
      },
      "execution_count": null,
      "outputs": [
        {
          "output_type": "stream",
          "name": "stdout",
          "text": [
            "1000000.0\n"
          ]
        }
      ]
    },
    {
      "cell_type": "markdown",
      "source": [
        "17.) Calculate area & perimeter of a square. A = L^2, P = 4L"
      ],
      "metadata": {
        "id": "t0yr3obsjlG6"
      }
    },
    {
      "cell_type": "code",
      "source": [
        "l=96\n",
        "a=l**2\n",
        "p=4*l\n",
        "print(a,p)"
      ],
      "metadata": {
        "colab": {
          "base_uri": "https://localhost:8080/"
        },
        "id": "_5_p1E4Rjo6x",
        "outputId": "e50a03cd-a0eb-47f9-88ba-317ad5249909"
      },
      "execution_count": null,
      "outputs": [
        {
          "output_type": "stream",
          "name": "stdout",
          "text": [
            "9216 384\n"
          ]
        }
      ]
    },
    {
      "cell_type": "markdown",
      "source": [
        "18.) Calculate area & perimeter of a rectangle. A = L*B, P = 2 (L+B)"
      ],
      "metadata": {
        "id": "NcX9ftKgjwjU"
      }
    },
    {
      "cell_type": "code",
      "source": [
        "l=92\n",
        "b=89\n",
        "a=l*b\n",
        "p=2*(l+b)\n",
        "print(a,p)"
      ],
      "metadata": {
        "colab": {
          "base_uri": "https://localhost:8080/"
        },
        "id": "EXgI4hzFjzYp",
        "outputId": "d9b17abc-5837-4b7f-c049-a55ab1680c96"
      },
      "execution_count": null,
      "outputs": [
        {
          "output_type": "stream",
          "name": "stdout",
          "text": [
            "8188 362\n"
          ]
        }
      ]
    },
    {
      "cell_type": "markdown",
      "source": [
        "19.) Calculate area of a circle. A = 22/7 * R * R\n"
      ],
      "metadata": {
        "id": "y6bGc0aXj82j"
      }
    },
    {
      "cell_type": "code",
      "source": [
        "r=72\n",
        "a=22/7*r*r\n",
        "print(a)"
      ],
      "metadata": {
        "colab": {
          "base_uri": "https://localhost:8080/"
        },
        "id": "BN4RKZWuj_YB",
        "outputId": "91d4cbd6-de7a-4674-93f7-aa60034b3444"
      },
      "execution_count": null,
      "outputs": [
        {
          "output_type": "stream",
          "name": "stdout",
          "text": [
            "16292.571428571428\n"
          ]
        }
      ]
    },
    {
      "cell_type": "markdown",
      "source": [
        "20.) Calculate area of a triangle. A = H*L/2"
      ],
      "metadata": {
        "id": "TS5O7_k-kLpw"
      }
    },
    {
      "cell_type": "code",
      "source": [
        "h=85\n",
        "l=49\n",
        "a=h*l/2\n",
        "print(a)"
      ],
      "metadata": {
        "colab": {
          "base_uri": "https://localhost:8080/"
        },
        "id": "F2UN-FWjkOOu",
        "outputId": "bb9acac3-a7c9-463b-fd9d-05ceabf7d408"
      },
      "execution_count": null,
      "outputs": [
        {
          "output_type": "stream",
          "name": "stdout",
          "text": [
            "2082.5\n"
          ]
        }
      ]
    },
    {
      "cell_type": "markdown",
      "source": [
        "21.) Calculate net salary where net salary = gross salary + allowance – deduction. Allowances are\n",
        "10% while deductions are 3% of gross salary.\n"
      ],
      "metadata": {
        "id": "AGuczJX0k74B"
      }
    },
    {
      "cell_type": "code",
      "source": [
        "gs=999999\n",
        "a=gs*10/100\n",
        "d=gs*3/100\n",
        "ns=gs+a-d\n",
        "print(ns)"
      ],
      "metadata": {
        "colab": {
          "base_uri": "https://localhost:8080/"
        },
        "id": "CM11i0MClBPJ",
        "outputId": "a2a5dbf9-5e70-46ea-8764-f92fd524ba67"
      },
      "execution_count": null,
      "outputs": [
        {
          "output_type": "stream",
          "name": "stdout",
          "text": [
            "1069998.93\n"
          ]
        }
      ]
    },
    {
      "cell_type": "markdown",
      "source": [
        "22.) Calculate net sales where net sales = gross sales – 10% discount of gross sales.\n"
      ],
      "metadata": {
        "id": "0p5bnp-nmNj_"
      }
    },
    {
      "cell_type": "code",
      "source": [
        "gs=999999\n",
        "d=gs*10/100\n",
        "ns=gs-d\n",
        "print(ns)"
      ],
      "metadata": {
        "colab": {
          "base_uri": "https://localhost:8080/"
        },
        "id": "U4pnJhNLmSRK",
        "outputId": "91a7dd0f-5f19-4ffd-d615-818d75e3edb8"
      },
      "execution_count": null,
      "outputs": [
        {
          "output_type": "stream",
          "name": "stdout",
          "text": [
            "899999.1\n"
          ]
        }
      ]
    },
    {
      "cell_type": "markdown",
      "source": [
        "23.) Calculate average of three subjects along with their total.\n"
      ],
      "metadata": {
        "id": "X1swrXA9kWel"
      }
    },
    {
      "cell_type": "code",
      "source": [
        "maths=98\n",
        "chemistry=99\n",
        "physics=97\n",
        "total=maths+chemistry+physics\n",
        "average=total/3\n",
        "print(total,average)"
      ],
      "metadata": {
        "colab": {
          "base_uri": "https://localhost:8080/"
        },
        "id": "IiMgsovMkaI9",
        "outputId": "600e805f-62e8-4d42-b80b-0551e7ae4e9c"
      },
      "execution_count": null,
      "outputs": [
        {
          "output_type": "stream",
          "name": "stdout",
          "text": [
            "294 98.0\n"
          ]
        }
      ]
    },
    {
      "cell_type": "markdown",
      "source": [
        "24.) Swap two values.\n"
      ],
      "metadata": {
        "id": "PvI9eXuskgsK"
      }
    },
    {
      "cell_type": "code",
      "source": [
        "v1=9988\n",
        "v2=8899\n",
        "temp=v1\n",
        "v1=v2\n",
        "v2=temp\n",
        "print(v1,v2)"
      ],
      "metadata": {
        "colab": {
          "base_uri": "https://localhost:8080/"
        },
        "id": "lOSFrqU6knm8",
        "outputId": "6cb83dd9-e7e9-4ec9-a7e3-f55efd2c07d1"
      },
      "execution_count": null,
      "outputs": [
        {
          "output_type": "stream",
          "name": "stdout",
          "text": [
            "8899 9988\n"
          ]
        }
      ]
    },
    {
      "cell_type": "markdown",
      "source": [
        "*****If-else conditionals.*****"
      ],
      "metadata": {
        "id": "T41psuo_mhrX"
      }
    },
    {
      "cell_type": "markdown",
      "source": [
        "1.)Print largest and smallest values out of two.\n"
      ],
      "metadata": {
        "id": "oqmiE5zmJYB1"
      }
    },
    {
      "cell_type": "code",
      "source": [
        "num1= 32\n",
        "num2 = 54\n",
        "if (num1>num2):\n",
        " print(\"Num1 is largest values\")\n",
        "else:\n",
        " print(\"num1 is smallest\")\n",
        "if(num2>num1):\n",
        " print(\"num2 is largest values\")\n",
        "else:\n",
        " print(\"num2 is smallest\")"
      ],
      "metadata": {
        "colab": {
          "base_uri": "https://localhost:8080/"
        },
        "id": "-t2B-VJYJbg6",
        "outputId": "e4be5183-7103-48ac-bba5-6ccd1ae169f1"
      },
      "execution_count": null,
      "outputs": [
        {
          "output_type": "stream",
          "name": "stdout",
          "text": [
            "num1 is smallest\n",
            "num2 is largest values\n"
          ]
        }
      ]
    },
    {
      "cell_type": "markdown",
      "source": [
        "2.) Print largest and smallest values out of three."
      ],
      "metadata": {
        "id": "1lpuLfF3KEKq"
      }
    },
    {
      "cell_type": "code",
      "source": [
        "num1 = 45\n",
        "num2 = 46\n",
        "num3 = 89\n",
        "if(num1>num2 and num1 >num3):\n",
        " print(\"num1 is largest values\")\n",
        "else:\n",
        " print(\"num1 is smallest\")\n",
        "if(num2>num3 and num2>num1):\n",
        " print(\"num2 is largest values\")\n",
        "else:\n",
        " print(\"num2 is smallest\")\n",
        "if(num3>num1 and num3>num2):\n",
        " print(\"num3 is largest\")\n",
        "else:\n",
        " print(\"num3 is smallest\")"
      ],
      "metadata": {
        "colab": {
          "base_uri": "https://localhost:8080/"
        },
        "id": "q50l15cUKGcd",
        "outputId": "9a359763-ff3a-4d23-dd0d-e7e761c79de7"
      },
      "execution_count": null,
      "outputs": [
        {
          "output_type": "stream",
          "name": "stdout",
          "text": [
            "num1 is smallest\n",
            "num2 is smallest\n",
            "num3 is largest\n"
          ]
        }
      ]
    },
    {
      "cell_type": "markdown",
      "source": [
        "3.) Check whether a given number is odd or even"
      ],
      "metadata": {
        "id": "kVQlVscpKNr3"
      }
    },
    {
      "cell_type": "code",
      "source": [
        "num = 3\n",
        "if(num%2==0):\n",
        " print(\"Even\")\n",
        "else:\n",
        " print(\"odd\")"
      ],
      "metadata": {
        "colab": {
          "base_uri": "https://localhost:8080/"
        },
        "id": "vcRsi6KkKQNG",
        "outputId": "2c70df6e-5483-4faf-9fc6-9e552aeef27a"
      },
      "execution_count": null,
      "outputs": [
        {
          "output_type": "stream",
          "name": "stdout",
          "text": [
            "odd\n"
          ]
        }
      ]
    },
    {
      "cell_type": "markdown",
      "source": [
        "4.) Check whether a given number is divisible by 10 or not."
      ],
      "metadata": {
        "id": "PHUguIRqLawX"
      }
    },
    {
      "cell_type": "code",
      "source": [
        "num = 45\n",
        "if(num%10==0):\n",
        " print(\"it is divisiable by 10\")\n",
        "else:\n",
        " print(\"not it is not divisiable by 10\")\n"
      ],
      "metadata": {
        "colab": {
          "base_uri": "https://localhost:8080/"
        },
        "id": "1sIgtHrbLdUQ",
        "outputId": "d0e35740-a9bb-4ede-f776-3655938ff3c0"
      },
      "execution_count": null,
      "outputs": [
        {
          "output_type": "stream",
          "name": "stdout",
          "text": [
            "not it is not divisiable by 10\n"
          ]
        }
      ]
    },
    {
      "cell_type": "markdown",
      "source": [
        "5.) Accept age of a person. If age is less than 18, print minor otherwise Major."
      ],
      "metadata": {
        "id": "HcKMp0hNL160"
      }
    },
    {
      "cell_type": "code",
      "source": [
        "age = int(input(\"Enter the age of person:\"))\n",
        "if(age<18):\n",
        " print(\"minor\")\n",
        "else:\n",
        " print(\"major\")"
      ],
      "metadata": {
        "colab": {
          "base_uri": "https://localhost:8080/"
        },
        "id": "3Tx_6DDnL33O",
        "outputId": "74405a06-9fce-467a-e342-e108e4b10e44"
      },
      "execution_count": null,
      "outputs": [
        {
          "output_type": "stream",
          "name": "stdout",
          "text": [
            "Enter the age of person:18\n",
            "major\n"
          ]
        }
      ]
    },
    {
      "cell_type": "markdown",
      "source": [
        "6.) Accept a number from the user. And print number of digits in it."
      ],
      "metadata": {
        "id": "TCOexYpAMERN"
      }
    },
    {
      "cell_type": "code",
      "source": [
        "num = input(\"Enter the numbers:\")\n",
        "print(len(num))\n"
      ],
      "metadata": {
        "colab": {
          "base_uri": "https://localhost:8080/"
        },
        "id": "ABhqRF4UMKal",
        "outputId": "9861fe94-bf34-463a-a0ee-d3a9f45795a3"
      },
      "execution_count": null,
      "outputs": [
        {
          "output_type": "stream",
          "name": "stdout",
          "text": [
            "Enter the numbers:18\n",
            "2\n"
          ]
        }
      ]
    },
    {
      "cell_type": "markdown",
      "source": [
        "7.) Accept a year value from the user. Check whether it is a leap year or not.\n"
      ],
      "metadata": {
        "id": "GBsd7kLFMRr0"
      }
    },
    {
      "cell_type": "code",
      "source": [
        "year = int(input(\"Enter the year:\"))\n",
        "if( year % 4 == 0 and ( year % 400 == 0 or year % 100 != 0 )):\n",
        " print(\"it is a leap year\")\n",
        "else:\n",
        " print(\"it is not leap year\")"
      ],
      "metadata": {
        "colab": {
          "base_uri": "https://localhost:8080/"
        },
        "id": "QE2MtL-NMUP7",
        "outputId": "0f3e2e03-4d19-4295-d290-0a31022519da"
      },
      "execution_count": null,
      "outputs": [
        {
          "output_type": "stream",
          "name": "stdout",
          "text": [
            "Enter the year:2007\n",
            "it is not leap year\n"
          ]
        }
      ]
    },
    {
      "cell_type": "markdown",
      "source": [
        "8.) Check whether a triangle is valid or not, when the three angles of the triangle are entered\n",
        "through the keyboard. A triangle is valid if te sum of all the three angles is equal to 180 degrees."
      ],
      "metadata": {
        "id": "vR0aw-E_Mcdb"
      }
    },
    {
      "cell_type": "code",
      "source": [
        "side1 = int(input(\"Enter the 1st side:\"))\n",
        "side2 = int(input(\"Enter the 2nd side:\"))\n",
        "side3 = int(input(\"Enter the 3rd side:\"))\n",
        "if(side1 + side2 +side3 == 180):\n",
        " print(\"triange is valid\")\n",
        "else:\n",
        " print(\"triange is invalid\")"
      ],
      "metadata": {
        "colab": {
          "base_uri": "https://localhost:8080/"
        },
        "id": "WbjJRR5eMhg1",
        "outputId": "ad2aafe8-c439-48e7-ec23-bb917b879c8d"
      },
      "execution_count": null,
      "outputs": [
        {
          "output_type": "stream",
          "name": "stdout",
          "text": [
            "Enter the 1st side:80\n",
            "Enter the 2nd side:50\n",
            "Enter the 3rd side:50\n",
            "triange is valid\n"
          ]
        }
      ]
    },
    {
      "cell_type": "markdown",
      "source": [
        "9.) Print absolute value of a given number."
      ],
      "metadata": {
        "id": "8U4qXUKNM9tV"
      }
    },
    {
      "cell_type": "code",
      "source": [
        "num = -9\n",
        "print(abs(num))\n"
      ],
      "metadata": {
        "colab": {
          "base_uri": "https://localhost:8080/"
        },
        "id": "U-2Az5qiNAJL",
        "outputId": "ead2faa1-bb36-4122-88fc-a52b19a0991d"
      },
      "execution_count": null,
      "outputs": [
        {
          "output_type": "stream",
          "name": "stdout",
          "text": [
            "9\n"
          ]
        }
      ]
    },
    {
      "cell_type": "markdown",
      "source": [
        "10.) Given the length and breadth of a rectangle, write a program to find whether theare of the\n",
        "rectangle is greater than its perimeter.\n"
      ],
      "metadata": {
        "id": "_6jgDxZ1NE_H"
      }
    },
    {
      "cell_type": "code",
      "source": [
        "len = 89\n",
        "breath = 8\n",
        "area = len * breath\n",
        "perimeter = 2*(len + breath)\n",
        "if(area > perimeter):\n",
        " print('area is greater than perimeter')\n",
        "else:\n",
        " print('area is smaller than perimeter')"
      ],
      "metadata": {
        "colab": {
          "base_uri": "https://localhost:8080/"
        },
        "id": "p-agqmLtNHa9",
        "outputId": "4004b014-9b4e-4b88-9515-8fea6f11adf6"
      },
      "execution_count": null,
      "outputs": [
        {
          "output_type": "stream",
          "name": "stdout",
          "text": [
            "area is greater than perimeter\n"
          ]
        }
      ]
    },
    {
      "cell_type": "markdown",
      "source": [
        "11.) Given three points (x1,y1), (x2,y2) and (x3,y3), check if all the three points fall on one straight\n",
        "line\n"
      ],
      "metadata": {
        "id": "4daAvKIgNMG_"
      }
    },
    {
      "cell_type": "code",
      "source": [
        "x1 = 5\n",
        "x2 = 8\n",
        "x3 =9\n",
        "y1 =3\n",
        "y2 = 4\n",
        "y3 =7\n",
        "a = (x1*(y2-y3))+(x2*(y3-y1))+(x3*(y1-y2))\n",
        "if (a == 0):\n",
        " print('all the points fall on one stright line')\n",
        "else:\n",
        " print(\"all the points dont fall on one stright line\")"
      ],
      "metadata": {
        "colab": {
          "base_uri": "https://localhost:8080/"
        },
        "id": "GQPW48m7NNzt",
        "outputId": "6890989c-644f-4993-ce1b-4e9821835b49"
      },
      "execution_count": null,
      "outputs": [
        {
          "output_type": "stream",
          "name": "stdout",
          "text": [
            "all the points dont fall on one stright line\n"
          ]
        }
      ]
    },
    {
      "cell_type": "markdown",
      "source": [
        "12.) Given the coordinates (x,y) of center of a circle and its radius, determine whether a point lies\n",
        "inside the circle, on the circle or outside the circle. (Hint: Use sqrt( ), pow( ) )"
      ],
      "metadata": {
        "id": "OZAeehLdNWZ5"
      }
    },
    {
      "cell_type": "code",
      "source": [
        "import math\n",
        "circle_x = 0\n",
        "circle_y = 0\n",
        "radius = 5\n",
        "point_x = 3\n",
        "point_y = 4\n",
        "distance = math.sqrt(math.pow(point_x - circle_x, 2) +\n",
        "math.pow(point_y - circle_y, 2))\n",
        "if distance < radius:\n",
        " print(f\"The point ({point_x}, {point_y}) is inside the circle.\")\n",
        "elif distance == radius:\n",
        " print(f\"The point ({point_x}, {point_y}) is on the circle.\")\n",
        "else:\n",
        " print(f\"The point ({point_x}, {point_y}) is outside the circle.\")"
      ],
      "metadata": {
        "colab": {
          "base_uri": "https://localhost:8080/"
        },
        "id": "-08bHxPgNYvs",
        "outputId": "dc510bd2-6009-4cb5-cffd-fdd543afcaea"
      },
      "execution_count": null,
      "outputs": [
        {
          "output_type": "stream",
          "name": "stdout",
          "text": [
            "The point (3, 4) is on the circle.\n"
          ]
        }
      ]
    },
    {
      "cell_type": "markdown",
      "source": [
        "13.) Convert number 0 to 19 to its equivalent words. E.g. 0  zero, 19nineteen."
      ],
      "metadata": {
        "id": "qfoM5HKQNc1d"
      }
    },
    {
      "cell_type": "code",
      "source": [
        "number = 0\n",
        "number_words = [\n",
        " \"zero\", \"one\", \"two\", \"three\", \"four\", \"five\", \"six\", \"seven\",\n",
        "\"eight\", \"nine\",\n",
        " \"ten\", \"eleven\", \"twelve\", \"thirteen\", \"fourteen\", \"fifteen\",\n",
        "\"sixteen\",\n",
        " \"seventeen\", \"eighteen\", \"nineteen\"\n",
        "]\n",
        "if 0 <= number <= 19:\n",
        " print(f\"The number {number} is written as'{number_words[number]}'.\")\n",
        "else:\n",
        " print(\"Number is out of range (0-19).\")\n"
      ],
      "metadata": {
        "colab": {
          "base_uri": "https://localhost:8080/"
        },
        "id": "E1iJLbNQNlqt",
        "outputId": "76f13487-95d2-4b0c-ab3a-94f5db6f998a"
      },
      "execution_count": null,
      "outputs": [
        {
          "output_type": "stream",
          "name": "stdout",
          "text": [
            "The number 0 is written as'zero'.\n"
          ]
        }
      ]
    },
    {
      "cell_type": "markdown",
      "source": [
        "14.) Accept marks of three subjects. Print total and average along with whether a candidate has\n",
        "passed or fail. If student secures <= 39 marks in any subject, consider him as fail. Also assigned a\n",
        "subject wise grade based on the following table: bold text"
      ],
      "metadata": {
        "id": "GsMf4rSuOM_e"
      }
    },
    {
      "cell_type": "code",
      "source": [
        "sub1 = int(input(\"Enter the maths mark:\"))\n",
        "sub2 = int(input(\"Enter the chemistry mark:\"))\n",
        "sub3 = int(input(\"Enter the physics mark:\"))\n",
        "sum = sub1+sub2+sub3 /3\n",
        "if(sub1 <= 39 or sub2 <=39 or sub3<=39):\n",
        " print(\"Fail\")\n",
        "elif(sum>= 40 and sum <=44 ):\n",
        " print(\"P\")\n",
        "elif(sum>= 45 and sum <=49 ):\n",
        " print(\"C\")\n",
        "elif(sum>= 50 and sum <=54 ):\n",
        " print(\"B\")\n",
        "elif(sum>= 55 and sum <=59 ):\n",
        " print(\"B+\")\n",
        "elif(sum>= 60 and sum <= 69 ):\n",
        " print(\"A\")\n",
        "elif(sum>= 70 and sum <= 79):\n",
        " print(\"A+\")\n",
        "elif(sum>= 80 and sum <=100 ):\n",
        " print(\"O\")\n",
        "else:\n",
        " print(\"good\")\n"
      ],
      "metadata": {
        "colab": {
          "base_uri": "https://localhost:8080/"
        },
        "id": "ebFN6DDLOPbY",
        "outputId": "7ad89268-1d1d-4e88-816c-71eca2a1da04"
      },
      "execution_count": null,
      "outputs": [
        {
          "output_type": "stream",
          "name": "stdout",
          "text": [
            "Enter the maths mark:88\n",
            "Enter the chemistry mark:98\n",
            "Enter the physics mark:78\n",
            "good\n"
          ]
        }
      ]
    },
    {
      "cell_type": "markdown",
      "source": [
        "loops :-"
      ],
      "metadata": {
        "id": "3YHt-fZ6L3ND"
      }
    },
    {
      "cell_type": "markdown",
      "source": [
        "1)\tPrint all alphabets in upper case and in lower case."
      ],
      "metadata": {
        "id": "l0Z8Pug4Lk5D"
      }
    },
    {
      "cell_type": "code",
      "source": [
        "print(\"Upper case alphabets:\")\n",
        "for j in range(65, 91):  # ASCII values for A to Z\n",
        "    print(chr(j), end=\" \")\n",
        "print()\n",
        "\n",
        "print(\"Lower case alphabets:\")\n",
        "for j in range(97, 123):  # ASCII values for a to z\n",
        "    print(chr(j), end=\" \")\n",
        "print()"
      ],
      "metadata": {
        "id": "zxe0q-z-L5md",
        "colab": {
          "base_uri": "https://localhost:8080/"
        },
        "outputId": "3c3dc365-012e-429e-ae22-21fe31a30530"
      },
      "execution_count": null,
      "outputs": [
        {
          "output_type": "stream",
          "name": "stdout",
          "text": [
            "Upper case alphabets:\n",
            "A B C D E F G H I J K L M N O P Q R S T U V W X Y Z \n",
            "Lower case alphabets:\n",
            "a b c d e f g h i j k l m n o p q r s t u v w x y z \n"
          ]
        }
      ]
    },
    {
      "cell_type": "markdown",
      "source": [
        "2)\tPrint a multiplication table of a given number."
      ],
      "metadata": {
        "id": "xG1xX1zGNhpy"
      }
    },
    {
      "cell_type": "code",
      "source": [
        "def print_multiplication_table(number):\n",
        "    print(f\"Multiplication Table for {number}:\")\n",
        "    for j in range(1, 11):\n",
        "        print(f\"{number} x {j} = {number * j}\")\n",
        "\n",
        "number = int(input(\"Enter a number: \"))\n",
        "print_multiplication_table(number)"
      ],
      "metadata": {
        "colab": {
          "base_uri": "https://localhost:8080/"
        },
        "id": "Tt9-HKn3NuhW",
        "outputId": "9eb37e18-8e5c-4ea4-87fc-9ecda901eb1f"
      },
      "execution_count": null,
      "outputs": [
        {
          "output_type": "stream",
          "name": "stdout",
          "text": [
            "Enter a number: 99\n",
            "Multiplication Table for 99:\n",
            "99 x 1 = 99\n",
            "99 x 2 = 198\n",
            "99 x 3 = 297\n",
            "99 x 4 = 396\n",
            "99 x 5 = 495\n",
            "99 x 6 = 594\n",
            "99 x 7 = 693\n",
            "99 x 8 = 792\n",
            "99 x 9 = 891\n",
            "99 x 10 = 990\n"
          ]
        }
      ]
    },
    {
      "cell_type": "markdown",
      "source": [
        "3)\tCount no. of alphabets and no. of digits in any given string."
      ],
      "metadata": {
        "id": "gUIRpSHuPD6s"
      }
    },
    {
      "cell_type": "code",
      "source": [
        "def count_alphabets_digits(input_string):\n",
        "    alphabet_count = 0\n",
        "    digit_count = 0\n",
        "\n",
        "    for char in input_string:\n",
        "        if char.isalpha():\n",
        "            alphabet_count += 1\n",
        "        elif char.isdigit():\n",
        "            digit_count += 1\n",
        "\n",
        "    return alphabet_count, digit_count\n",
        "input_string = input(\"Enter a string: \")\n",
        "alphabets, digits = count_alphabets_digits(input_string)\n",
        "\n",
        "print(f\"Number of alphabets: {alphabets}\")\n",
        "print(f\"Number of digits: {digits}\")"
      ],
      "metadata": {
        "colab": {
          "base_uri": "https://localhost:8080/"
        },
        "id": "_GEKiN6pPKxS",
        "outputId": "a99ca364-c457-451e-dd58-e36bb5972ad4"
      },
      "execution_count": null,
      "outputs": [
        {
          "output_type": "stream",
          "name": "stdout",
          "text": [
            "Enter a string: hello guys 9696\n",
            "Number of alphabets: 9\n",
            "Number of digits: 4\n"
          ]
        }
      ]
    },
    {
      "cell_type": "markdown",
      "source": [
        "4)\tCheck whether a given number is prime, is perfect, is Armstrong, is palindrome, is automorphic."
      ],
      "metadata": {
        "id": "5BVxkGlTS9b9"
      }
    },
    {
      "cell_type": "code",
      "source": [
        "def is_prime(num):\n",
        "    if num <= 1:\n",
        "        return False\n",
        "    for i in range(2, int(num ** 0.5) + 1):\n",
        "        if num % i == 0:\n",
        "            return False\n",
        "    return True\n",
        "\n",
        "def is_perfect(num):\n",
        "    if num <= 0:\n",
        "        return False\n",
        "    sum_of_divisors = 0\n",
        "    for i in range(1, num):\n",
        "        if num % i == 0:\n",
        "            sum_of_divisors += i\n",
        "    return sum_of_divisors == num\n",
        "\n",
        "def is_armstrong(num):\n",
        "    num_str = str(num)\n",
        "    num_length = len(num_str)\n",
        "    sum_of_powers = 0\n",
        "    for digit in num_str:\n",
        "        sum_of_powers += int(digit) ** num_length\n",
        "    return sum_of_powers == num\n",
        "\n",
        "def is_palindrome(num):\n",
        "    num_str = str(num)\n",
        "    return num_str == num_str[::-1]\n",
        "\n",
        "def is_automorphic(num):\n",
        "    num_str = str(num)\n",
        "    square_str = str(num ** 2)\n",
        "    return square_str.endswith(num_str)\n",
        "\n",
        "number = int(input(\"Enter a number: \"))\n",
        "\n",
        "print(f\"Is {number} prime? {'Yes' if is_prime(number) else 'No'}\")\n",
        "print(f\"Is {number} perfect? {'Yes' if is_perfect(number) else 'No'}\")\n",
        "print(f\"Is {number} Armstrong? {'Yes' if is_armstrong(number) else 'No'}\")\n",
        "print(f\"Is {number} palindrome? {'Yes' if is_palindrome(number) else 'No'}\")\n",
        "print(f\"Is {number} automorphic? {'Yes' if is_automorphic(number) else 'No'}\")"
      ],
      "metadata": {
        "id": "10H2i7QpR8YP",
        "colab": {
          "base_uri": "https://localhost:8080/"
        },
        "outputId": "c4359b43-5291-4a03-d696-f83d285651f8"
      },
      "execution_count": 9,
      "outputs": [
        {
          "output_type": "stream",
          "name": "stdout",
          "text": [
            "Enter a number: 90909\n",
            "Is 90909 prime? No\n",
            "Is 90909 perfect? No\n",
            "Is 90909 Armstrong? No\n",
            "Is 90909 palindrome? Yes\n",
            "Is 90909 automorphic? No\n"
          ]
        }
      ]
    },
    {
      "cell_type": "markdown",
      "source": [
        "5)\tGenerate all Pythagorean Triplets with side length <= 30."
      ],
      "metadata": {
        "id": "9xqu3h1YUR3B"
      }
    },
    {
      "cell_type": "code",
      "source": [
        "def generate_pythagorean_triplets(limit):\n",
        "    triplets = []\n",
        "    for a in range(1, limit + 1):\n",
        "        for b in range(a, limit + 1):\n",
        "            c = (a ** 2 + b ** 2) ** 0.5\n",
        "            if c.is_integer() and c <= limit:\n",
        "                triplets.append((a, b, int(c)))\n",
        "    return triplets\n",
        "\n",
        "limit = 30\n",
        "triplets = generate_pythagorean_triplets(limit)\n",
        "\n",
        "print(f\"Pythagorean triplets with side lengths <= {limit}:\")\n",
        "for triplet in triplets:\n",
        "    print(triplet)"
      ],
      "metadata": {
        "colab": {
          "base_uri": "https://localhost:8080/"
        },
        "id": "eM2DVjZMUU8R",
        "outputId": "75e28aa3-3ebd-4306-87f3-2114702bbacc"
      },
      "execution_count": 10,
      "outputs": [
        {
          "output_type": "stream",
          "name": "stdout",
          "text": [
            "Pythagorean triplets with side lengths <= 30:\n",
            "(3, 4, 5)\n",
            "(5, 12, 13)\n",
            "(6, 8, 10)\n",
            "(7, 24, 25)\n",
            "(8, 15, 17)\n",
            "(9, 12, 15)\n",
            "(10, 24, 26)\n",
            "(12, 16, 20)\n",
            "(15, 20, 25)\n",
            "(18, 24, 30)\n",
            "(20, 21, 29)\n"
          ]
        }
      ]
    },
    {
      "cell_type": "markdown",
      "source": [
        "6)\tPrint 24 hours of day with suitable suffixes like AM, PM, Noon and Midnight."
      ],
      "metadata": {
        "id": "tUao9R0KVHEI"
      }
    },
    {
      "cell_type": "code",
      "source": [
        "def print_24_hours_with_suffixes():\n",
        "    for hour in range(0, 24):\n",
        "        if hour == 0:\n",
        "            print(\"12 Midnight\")\n",
        "        elif hour < 12:\n",
        "            print(f\"{hour} AM\")\n",
        "        elif hour == 12:\n",
        "            print(\"12 Noon\")\n",
        "        else:\n",
        "            print(f\"{hour - 12} PM\")\n",
        "\n",
        "print_24_hours_with_suffixes()"
      ],
      "metadata": {
        "colab": {
          "base_uri": "https://localhost:8080/"
        },
        "id": "Udnqr7FEVNXf",
        "outputId": "f14352d2-5110-4052-a861-c6ee8e3a32d0"
      },
      "execution_count": 11,
      "outputs": [
        {
          "output_type": "stream",
          "name": "stdout",
          "text": [
            "12 Midnight\n",
            "1 AM\n",
            "2 AM\n",
            "3 AM\n",
            "4 AM\n",
            "5 AM\n",
            "6 AM\n",
            "7 AM\n",
            "8 AM\n",
            "9 AM\n",
            "10 AM\n",
            "11 AM\n",
            "12 Noon\n",
            "1 PM\n",
            "2 PM\n",
            "3 PM\n",
            "4 PM\n",
            "5 PM\n",
            "6 PM\n",
            "7 PM\n",
            "8 PM\n",
            "9 PM\n",
            "10 PM\n",
            "11 PM\n"
          ]
        }
      ]
    },
    {
      "cell_type": "markdown",
      "source": [
        "7)\tPrint nCr and nPr."
      ],
      "metadata": {
        "id": "LzlUdQpRVnZC"
      }
    },
    {
      "cell_type": "code",
      "source": [
        "def factorial(n):\n",
        "    result = 1\n",
        "    for i in range(1, n + 1):\n",
        "        result *= i\n",
        "    return result\n",
        "\n",
        "def nCr(n, r):\n",
        "    return factorial(n) // (factorial(r) * factorial(n - r))\n",
        "\n",
        "def nPr(n, r):\n",
        "    return factorial(n) // factorial(n - r)\n",
        "2\n",
        "n = int(input(\"Enter the value of n: \"))\n",
        "r = int(input(\"Enter the value of r: \"))\n",
        "\n",
        "print(f\"{n}C{r} = {nCr(n, r)}\")\n",
        "print(f\"{n}P{r} = {nPr(n, r)}\")"
      ],
      "metadata": {
        "colab": {
          "base_uri": "https://localhost:8080/"
        },
        "id": "QaJC62YGVwtF",
        "outputId": "c948f955-6d24-4e13-d5a1-746955d9fbc9"
      },
      "execution_count": 14,
      "outputs": [
        {
          "output_type": "stream",
          "name": "stdout",
          "text": [
            "Enter the value of n: 5\n",
            "Enter the value of r: 2\n",
            "5C2 = 10\n",
            "5P2 = 20\n"
          ]
        }
      ]
    },
    {
      "cell_type": "markdown",
      "source": [
        "8)\tPrint factorial of a given number."
      ],
      "metadata": {
        "id": "XZbBPUx7XTh3"
      }
    },
    {
      "cell_type": "code",
      "source": [
        "def factorial(num):\n",
        "    result = 1\n",
        "    for i in range(1, num + 1):\n",
        "        result *= i\n",
        "    return result\n",
        "\n",
        "number = int(input(\"Enter a number: \"))\n",
        "print(f\"The factorial of {number} is {factorial(number)}\")"
      ],
      "metadata": {
        "colab": {
          "base_uri": "https://localhost:8080/"
        },
        "id": "DsNrelOfXWkN",
        "outputId": "95fe8ac5-91bd-495f-a95a-7d85986fc1a8"
      },
      "execution_count": 16,
      "outputs": [
        {
          "output_type": "stream",
          "name": "stdout",
          "text": [
            "Enter a number: 12\n",
            "The factorial of 12 is 479001600\n"
          ]
        }
      ]
    },
    {
      "cell_type": "markdown",
      "source": [
        "9)\tPrint N natural nos. in reverse."
      ],
      "metadata": {
        "id": "A0RGZBYQYUDm"
      }
    },
    {
      "cell_type": "code",
      "source": [
        "def print_natural_numbers_reverse(N):\n",
        "    for i in range(N, 0, -1):\n",
        "        print(i, end=\" \")\n",
        "    print()\n",
        "\n",
        "N = int(input(\"Enter the value of N: \"))\n",
        "print(f\"The first {N} natural numbers in reverse order are:\")\n",
        "print_natural_numbers_reverse(N)"
      ],
      "metadata": {
        "colab": {
          "base_uri": "https://localhost:8080/"
        },
        "id": "pQb7-CMdYag7",
        "outputId": "8b8a5b0c-7b56-47e9-8a50-e559204dfea9"
      },
      "execution_count": 17,
      "outputs": [
        {
          "output_type": "stream",
          "name": "stdout",
          "text": [
            "Enter the value of N: 88\n",
            "The first 88 natural numbers in reverse order are:\n",
            "88 87 86 85 84 83 82 81 80 79 78 77 76 75 74 73 72 71 70 69 68 67 66 65 64 63 62 61 60 59 58 57 56 55 54 53 52 51 50 49 48 47 46 45 44 43 42 41 40 39 38 37 36 35 34 33 32 31 30 29 28 27 26 25 24 23 22 21 20 19 18 17 16 15 14 13 12 11 10 9 8 7 6 5 4 3 2 1 \n"
          ]
        }
      ]
    }
  ]
}